{
 "cells": [
  {
   "cell_type": "code",
   "execution_count": 1,
   "metadata": {
    "execution": {
     "iopub.execute_input": "2022-11-22T09:19:27.866852Z",
     "iopub.status.busy": "2022-11-22T09:19:27.866465Z",
     "iopub.status.idle": "2022-11-22T09:19:28.524353Z",
     "shell.execute_reply": "2022-11-22T09:19:28.523975Z",
     "shell.execute_reply.started": "2022-11-22T09:19:27.866773Z"
    },
    "tags": []
   },
   "outputs": [
    {
     "name": "stderr",
     "output_type": "stream",
     "text": [
      "/opt/conda/lib/python3.10/site-packages/tqdm/auto.py:22: TqdmWarning: IProgress not found. Please update jupyter and ipywidgets. See https://ipywidgets.readthedocs.io/en/stable/user_install.html\n",
      "  from .autonotebook import tqdm as notebook_tqdm\n"
     ]
    },
    {
     "data": {
      "text/plain": [
       "True"
      ]
     },
     "execution_count": 1,
     "metadata": {},
     "output_type": "execute_result"
    }
   ],
   "source": [
    "import torch\n",
    "torch.cuda.is_available()"
   ]
  },
  {
   "cell_type": "code",
   "execution_count": 2,
   "metadata": {
    "execution": {
     "iopub.execute_input": "2022-11-22T09:19:30.568273Z",
     "iopub.status.busy": "2022-11-22T09:19:30.568021Z",
     "iopub.status.idle": "2022-11-22T09:19:30.707329Z",
     "shell.execute_reply": "2022-11-22T09:19:30.706790Z",
     "shell.execute_reply.started": "2022-11-22T09:19:30.568258Z"
    },
    "tags": []
   },
   "outputs": [],
   "source": [
    "!unzip -qq -n car_color_dataset.zip"
   ]
  },
  {
   "cell_type": "code",
   "execution_count": 3,
   "metadata": {
    "execution": {
     "iopub.execute_input": "2022-11-22T09:19:31.194660Z",
     "iopub.status.busy": "2022-11-22T09:19:31.194015Z",
     "iopub.status.idle": "2022-11-22T09:19:32.115652Z",
     "shell.execute_reply": "2022-11-22T09:19:32.115177Z",
     "shell.execute_reply.started": "2022-11-22T09:19:31.194632Z"
    },
    "id": "ouwPzoapsv4V",
    "tags": []
   },
   "outputs": [],
   "source": [
    "import numpy as np\n",
    "import torch\n",
    "import torchvision\n",
    "from tqdm.notebook import tqdm\n",
    "import os\n",
    "from torch import nn\n",
    "from torch.nn import functional as F\n",
    "from sklearn.metrics import accuracy_score\n",
    "from torchvision import transforms\n",
    "from PIL import Image\n",
    "from torch.utils.data import DataLoader\n",
    "import albumentations as A\n",
    "import cv2\n",
    "from tqdm.auto import tqdm\n",
    "from albumentations.pytorch import ToTensorV2\n",
    "from torch.cuda.amp import GradScaler\n",
    "import matplotlib.pyplot as plt\n",
    "import seaborn as sns\n",
    "import pickle"
   ]
  },
  {
   "cell_type": "markdown",
   "metadata": {
    "id": "I4HLfBvq9Q4G",
    "jp-MarkdownHeadingCollapsed": true,
    "tags": []
   },
   "source": [
    "## Whole EDA"
   ]
  },
  {
   "cell_type": "code",
   "execution_count": 5,
   "metadata": {
    "execution": {
     "iopub.execute_input": "2022-11-21T00:02:29.284110Z",
     "iopub.status.busy": "2022-11-21T00:02:29.283770Z",
     "iopub.status.idle": "2022-11-21T00:02:29.287799Z",
     "shell.execute_reply": "2022-11-21T00:02:29.287434Z",
     "shell.execute_reply.started": "2022-11-21T00:02:29.284093Z"
    },
    "id": "6i6xDaepzPgQ",
    "tags": []
   },
   "outputs": [],
   "source": [
    "def color2label(color):\n",
    "    c2l = {\n",
    "        'Black': 0,\n",
    "        'Blue': 1,\n",
    "        'Brown': 2,\n",
    "        'Cyan': 3,\n",
    "        'Green': 4,\n",
    "        'Grey': 5,\n",
    "        'Orange': 6,\n",
    "        'Red': 7,\n",
    "        'Violet': 8,\n",
    "        'White': 9,\n",
    "        'Yellow': 10\n",
    "    }\n",
    "\n",
    "    return c2l[color]\n",
    "def label2color(label):\n",
    "    c2l = {\n",
    "        'Black': 0,\n",
    "        'Blue': 1,\n",
    "        'Brown': 2,\n",
    "        'Cyan': 3,\n",
    "        'Green': 4,\n",
    "        'Grey': 5,\n",
    "        'Orange': 6,\n",
    "        'Red': 7,\n",
    "        'Violet': 8,\n",
    "        'White': 9,\n",
    "        'Yellow': 10\n",
    "    }\n",
    "    l2c = {v: k for k, v in c2l.items()}\n",
    "    return l2c[label]"
   ]
  },
  {
   "cell_type": "code",
   "execution_count": 6,
   "metadata": {
    "execution": {
     "iopub.execute_input": "2022-11-21T00:02:30.124131Z",
     "iopub.status.busy": "2022-11-21T00:02:30.123663Z",
     "iopub.status.idle": "2022-11-21T00:02:30.130424Z",
     "shell.execute_reply": "2022-11-21T00:02:30.129947Z",
     "shell.execute_reply.started": "2022-11-21T00:02:30.124114Z"
    },
    "id": "nuiBDYxuu_vs",
    "tags": []
   },
   "outputs": [],
   "source": [
    "class CarsDataset(torch.utils.data.Dataset):\n",
    "    def __init__(self, path_to_data, transform=False, train=False):\n",
    "        self.path_to_data = path_to_data\n",
    "        self.transform = transform\n",
    "        self.train = train\n",
    "        self._get_data_from_path()\n",
    "        if self.transform:\n",
    "            self._add_augmentations()\n",
    "\n",
    "    def _get_data_from_path(self):\n",
    "        self.data = []\n",
    "        for folder in tqdm(os.listdir(self.path_to_data)):\n",
    "            img_folder = os.path.join(self.path_to_data, folder)\n",
    "            for img in os.listdir(img_folder):\n",
    "                img = cv2.imread(os.path.join(img_folder, img))\n",
    "                img = cv2.cvtColor(img, cv2.COLOR_BGR2RGB)\n",
    "                label = color2label(folder)\n",
    "                self.data.append([img, label])\n",
    "\n",
    "    def _add_augmentations(self):\n",
    "        data = self.data.copy()\n",
    "        for img, label in tqdm(data):\n",
    "                transformed = self.transform(image=img)\n",
    "                img_tensor = transformed['image']\n",
    "                self.data.append([img_tensor, label])\n",
    "\n",
    "    def __getitem__(self, idx):\n",
    "        return self.data[idx]\n",
    "        \n",
    "    def __len__(self):\n",
    "        return len(self.data)"
   ]
  },
  {
   "cell_type": "code",
   "execution_count": 7,
   "metadata": {
    "execution": {
     "iopub.execute_input": "2022-11-21T00:02:30.813049Z",
     "iopub.status.busy": "2022-11-21T00:02:30.812496Z",
     "iopub.status.idle": "2022-11-21T00:02:32.904172Z",
     "shell.execute_reply": "2022-11-21T00:02:32.903780Z",
     "shell.execute_reply.started": "2022-11-21T00:02:30.813024Z"
    },
    "id": "TUif11FM0QeG",
    "tags": []
   },
   "outputs": [
    {
     "name": "stderr",
     "output_type": "stream",
     "text": [
      "100%|██████████| 11/11 [00:02<00:00,  5.28it/s]\n"
     ]
    }
   ],
   "source": [
    "path_to_train = './train'\n",
    "train = CarsDataset(path_to_train)"
   ]
  },
  {
   "cell_type": "code",
   "execution_count": 8,
   "metadata": {
    "colab": {
     "base_uri": "https://localhost:8080/",
     "height": 182
    },
    "execution": {
     "iopub.execute_input": "2022-11-21T00:02:32.905087Z",
     "iopub.status.busy": "2022-11-21T00:02:32.904902Z",
     "iopub.status.idle": "2022-11-21T00:02:33.114175Z",
     "shell.execute_reply": "2022-11-21T00:02:33.113728Z",
     "shell.execute_reply.started": "2022-11-21T00:02:32.905072Z"
    },
    "id": "HzRBBSE-032w",
    "outputId": "f84029b1-ab33-4500-940d-f330c1a37e69",
    "tags": []
   },
   "outputs": [
    {
     "data": {
      "text/plain": [
       "<matplotlib.image.AxesImage at 0x7efd647e3490>"
      ]
     },
     "execution_count": 8,
     "metadata": {},
     "output_type": "execute_result"
    },
    {
     "data": {
      "image/png": "[encoded data removed]",
      "text/plain": [
       "<Figure size 640x480 with 1 Axes>"
      ]
     },
     "metadata": {},
     "output_type": "display_data"
    }
   ],
   "source": [
    "plt.imshow(train.data[1900][0])"
   ]
  },
  {
   "cell_type": "code",
   "execution_count": null,
   "metadata": {
    "execution": {
     "iopub.status.busy": "2022-11-20T23:13:02.259484Z",
     "iopub.status.idle": "2022-11-20T23:13:02.259653Z",
     "shell.execute_reply": "2022-11-20T23:13:02.259571Z",
     "shell.execute_reply.started": "2022-11-20T23:13:02.259563Z"
    },
    "id": "5OYp6aK6045g",
    "tags": []
   },
   "outputs": [],
   "source": [
    "'''sns.set(rc={'figure.figsize':(8,8)})\n",
    "sns.histplot(train.data[:, 1], binwidth=0.3)'''"
   ]
  },
  {
   "cell_type": "markdown",
   "metadata": {
    "id": "J0xg8s9c9M4r",
    "jp-MarkdownHeadingCollapsed": true,
    "tags": []
   },
   "source": [
    "# Augmentation\n"
   ]
  },
  {
   "cell_type": "code",
   "execution_count": 9,
   "metadata": {
    "execution": {
     "iopub.execute_input": "2022-11-21T00:02:33.811126Z",
     "iopub.status.busy": "2022-11-21T00:02:33.810768Z",
     "iopub.status.idle": "2022-11-21T00:02:33.815055Z",
     "shell.execute_reply": "2022-11-21T00:02:33.814651Z",
     "shell.execute_reply.started": "2022-11-21T00:02:33.811109Z"
    },
    "id": "31rP_Qbd6rCz",
    "tags": []
   },
   "outputs": [],
   "source": [
    "size = 256\n",
    "train_transform = A.Compose([\n",
    "    A.LongestMaxSize(size),\n",
    "    A.PadIfNeeded(size, size),\n",
    "    A.VerticalFlip(p=0.5),\n",
    "    A.HorizontalFlip(p=0.5),\n",
    "    A.PixelDropout(dropout_prob=1e-3),\n",
    "    A.Normalize(),\n",
    "    ToTensorV2(),\n",
    "\n",
    "])\n",
    "val_transform = A.Compose([ \n",
    "    A.LongestMaxSize(size),\n",
    "    A.PadIfNeeded(size, size), \n",
    "    A.VerticalFlip(p=1),\n",
    "    A.Normalize(), \n",
    "    ToTensorV2()])"
   ]
  },
  {
   "cell_type": "code",
   "execution_count": 10,
   "metadata": {
    "execution": {
     "iopub.execute_input": "2022-11-21T00:02:34.525407Z",
     "iopub.status.busy": "2022-11-21T00:02:34.525123Z",
     "iopub.status.idle": "2022-11-21T00:02:34.528287Z",
     "shell.execute_reply": "2022-11-21T00:02:34.527834Z",
     "shell.execute_reply.started": "2022-11-21T00:02:34.525390Z"
    },
    "tags": []
   },
   "outputs": [],
   "source": [
    "import gc"
   ]
  },
  {
   "cell_type": "code",
   "execution_count": 11,
   "metadata": {
    "colab": {
     "base_uri": "https://localhost:8080/"
    },
    "execution": {
     "iopub.execute_input": "2022-11-21T00:02:34.988545Z",
     "iopub.status.busy": "2022-11-21T00:02:34.988254Z",
     "iopub.status.idle": "2022-11-21T00:02:35.087320Z",
     "shell.execute_reply": "2022-11-21T00:02:35.086894Z",
     "shell.execute_reply.started": "2022-11-21T00:02:34.988527Z"
    },
    "id": "A8ru3-ii_oQb",
    "outputId": "451b2d65-93ce-4490-b089-8c9fe94d51db",
    "tags": []
   },
   "outputs": [
    {
     "data": {
      "text/plain": [
       "0"
      ]
     },
     "execution_count": 11,
     "metadata": {},
     "output_type": "execute_result"
    }
   ],
   "source": [
    "gc.collect()"
   ]
  },
  {
   "cell_type": "markdown",
   "metadata": {
    "id": "MTCy_QOvLxqP",
    "jp-MarkdownHeadingCollapsed": true,
    "tags": []
   },
   "source": [
    "# Class balance"
   ]
  },
  {
   "cell_type": "code",
   "execution_count": 12,
   "metadata": {
    "execution": {
     "iopub.execute_input": "2022-11-21T00:02:37.670002Z",
     "iopub.status.busy": "2022-11-21T00:02:37.669746Z",
     "iopub.status.idle": "2022-11-21T00:02:37.675826Z",
     "shell.execute_reply": "2022-11-21T00:02:37.675453Z",
     "shell.execute_reply.started": "2022-11-21T00:02:37.669986Z"
    },
    "id": "XewFL_PWG8Q-",
    "tags": []
   },
   "outputs": [],
   "source": [
    "def label_weight(label):\n",
    "    lw = {\n",
    "        0: 2,\n",
    "        1: 3,\n",
    "        2: 8,\n",
    "        3: 3,\n",
    "        4: 3,\n",
    "        5: 2,\n",
    "        6: 1,\n",
    "        7: 1,\n",
    "        8: 8,\n",
    "        9: 2,\n",
    "        10: 2\n",
    "    }\n",
    "\n",
    "    return lw[label]\n",
    "class CarsDataset2(torch.utils.data.Dataset):\n",
    "    def __init__(self, path_to_data, transform=False, train=False):\n",
    "        self.path_to_data = path_to_data\n",
    "        self.transform = transform\n",
    "        self.train = train\n",
    "        self.data = []\n",
    "        self._get_data_from_path()\n",
    "        if self.transform:\n",
    "            self._add_augmentations()\n",
    "        #self.data = np.array(self.data)\n",
    "\n",
    "    def _get_data_from_path(self):\n",
    "        for folder in tqdm(os.listdir(self.path_to_data)):\n",
    "            img_folder = os.path.join(self.path_to_data, folder)\n",
    "            for img in os.listdir(img_folder):\n",
    "                img = cv2.imread(os.path.join(img_folder, img))\n",
    "                img = cv2.cvtColor(img, cv2.COLOR_BGR2RGB)\n",
    "                label = color2label(folder)\n",
    "                self.data.append([img, label])\n",
    "\n",
    "    def _add_augmentations(self):\n",
    "        data = self.data.copy()\n",
    "        del self.data\n",
    "        self.data = []\n",
    "        for img, label in tqdm(data):\n",
    "            weight = label_weight(label)\n",
    "            for i in range(weight):\n",
    "                transformed = self.transform(image=img)\n",
    "                img_tensor = transformed['image']\n",
    "                self.data.append((img_tensor, label))\n",
    "        del data\n",
    "\n",
    "    def __getitem__(self, idx):\n",
    "        return self.data[idx]\n",
    "        \n",
    "    def __len__(self):\n",
    "        return len(self.data)"
   ]
  },
  {
   "cell_type": "code",
   "execution_count": 13,
   "metadata": {
    "colab": {
     "base_uri": "https://localhost:8080/",
     "height": 81,
     "referenced_widgets": [
      "a74ad7b4832d49d0bb1940eeaa324c79",
      "b8af4cf83ebf4ef18c062dba3d383159",
      "bc92166e2dd840789e9ea84872638cd0",
      "dd7d40b46fec46f796a2aae674f6cb3a",
      "722fbb19224c4d5bab3e0c9c81013a35",
      "c3a650c6a5784386ae081e79d4ef09d5",
      "30c65adb4a134013b0c5c6e48a7aea17",
      "5f8ab9b485054103ab562bca7990c615",
      "9091b720fe924846a37b234816703041",
      "ba15e2db25df4d5a8781c5d5b5b82a4c",
      "7fe87cc1f7844c5c8342c16003bf3286",
      "3369b61f1fc04a8f951c3ca58bef1239",
      "2beacbc1b82f4fc290a5cf70e20a38b8",
      "980aa69c7d92406eb43fa631917dc388",
      "23840b7dbb6144fda87f87fc222b5141",
      "d2fd2048e3d4468696b1ca53bd207715",
      "94ab3925aa4d43f0822eeca1fc4ced04",
      "faadbca0e0c84c57bb8fdad55656e4a7",
      "567f270e2de04eb4af20f73a8ff43132",
      "06553ca60dfb46bc8d098133610e4d7b",
      "8ddccc7f4ab845b89b553d304bf66bc8",
      "bdf3a98a7731445e941b8f89cbd3ab4d"
     ]
    },
    "execution": {
     "iopub.execute_input": "2022-11-21T00:02:38.117453Z",
     "iopub.status.busy": "2022-11-21T00:02:38.117181Z",
     "iopub.status.idle": "2022-11-21T00:02:52.859531Z",
     "shell.execute_reply": "2022-11-21T00:02:52.858796Z",
     "shell.execute_reply.started": "2022-11-21T00:02:38.117438Z"
    },
    "id": "3q4Z8DUGL3qk",
    "outputId": "a8207a3b-f1ed-48a2-e232-65052d5d4526",
    "tags": []
   },
   "outputs": [
    {
     "name": "stderr",
     "output_type": "stream",
     "text": [
      "100%|██████████| 11/11 [00:01<00:00,  5.68it/s]\n",
      "100%|██████████| 3802/3802 [00:12<00:00, 297.03it/s]\n"
     ]
    }
   ],
   "source": [
    "train_dataset = CarsDataset2(path_to_train, transform=train_transform)"
   ]
  },
  {
   "cell_type": "code",
   "execution_count": 14,
   "metadata": {
    "colab": {
     "base_uri": "https://localhost:8080/"
    },
    "execution": {
     "iopub.execute_input": "2022-11-21T00:02:52.860880Z",
     "iopub.status.busy": "2022-11-21T00:02:52.860498Z",
     "iopub.status.idle": "2022-11-21T00:02:52.960898Z",
     "shell.execute_reply": "2022-11-21T00:02:52.960364Z",
     "shell.execute_reply.started": "2022-11-21T00:02:52.860863Z"
    },
    "id": "i8Rj-_cyhKZn",
    "outputId": "d1586cbb-6ba3-4400-9a57-659fd2fc2e80",
    "tags": []
   },
   "outputs": [
    {
     "data": {
      "text/plain": [
       "0"
      ]
     },
     "execution_count": 14,
     "metadata": {},
     "output_type": "execute_result"
    }
   ],
   "source": [
    "import gc\n",
    "gc.collect()"
   ]
  },
  {
   "cell_type": "code",
   "execution_count": 15,
   "metadata": {
    "colab": {
     "base_uri": "https://localhost:8080/"
    },
    "execution": {
     "iopub.execute_input": "2022-11-21T00:02:52.961891Z",
     "iopub.status.busy": "2022-11-21T00:02:52.961497Z",
     "iopub.status.idle": "2022-11-21T00:02:52.965051Z",
     "shell.execute_reply": "2022-11-21T00:02:52.964563Z",
     "shell.execute_reply.started": "2022-11-21T00:02:52.961876Z"
    },
    "id": "KUWqUuuKPsFk",
    "outputId": "c792e544-f3e6-44c4-ceb8-43ea391df9eb",
    "tags": []
   },
   "outputs": [
    {
     "data": {
      "text/plain": [
       "9219"
      ]
     },
     "execution_count": 15,
     "metadata": {},
     "output_type": "execute_result"
    }
   ],
   "source": [
    "len(train_dataset.data)"
   ]
  },
  {
   "cell_type": "code",
   "execution_count": null,
   "metadata": {
    "execution": {
     "iopub.status.busy": "2022-11-20T23:13:02.264640Z",
     "iopub.status.idle": "2022-11-20T23:13:02.264788Z",
     "shell.execute_reply": "2022-11-20T23:13:02.264718Z",
     "shell.execute_reply.started": "2022-11-20T23:13:02.264711Z"
    },
    "id": "KtpQTKTGP0Lp",
    "tags": []
   },
   "outputs": [],
   "source": [
    "'''import seaborn as sns\n",
    "sns.set(rc={'figure.figsize':(8,8)})\n",
    "sns.histplot(train_dataset.data[:, 1], binwidth=0.3)'''"
   ]
  },
  {
   "cell_type": "code",
   "execution_count": 21,
   "metadata": {
    "execution": {
     "iopub.execute_input": "2022-11-21T00:03:14.430802Z",
     "iopub.status.busy": "2022-11-21T00:03:14.430511Z",
     "iopub.status.idle": "2022-11-21T00:03:14.433390Z",
     "shell.execute_reply": "2022-11-21T00:03:14.433029Z",
     "shell.execute_reply.started": "2022-11-21T00:03:14.430785Z"
    },
    "id": "JIYkef5PQHHT",
    "tags": []
   },
   "outputs": [],
   "source": [
    "train_dataloader = DataLoader(train_dataset, batch_size=16, drop_last=True, shuffle=True)"
   ]
  },
  {
   "cell_type": "markdown",
   "metadata": {
    "id": "YPwaMIbNTKkx",
    "jp-MarkdownHeadingCollapsed": true,
    "tags": []
   },
   "source": [
    "# Model Training"
   ]
  },
  {
   "cell_type": "code",
   "execution_count": 52,
   "metadata": {
    "execution": {
     "iopub.execute_input": "2022-11-20T23:29:43.671979Z",
     "iopub.status.busy": "2022-11-20T23:29:43.671692Z",
     "iopub.status.idle": "2022-11-20T23:29:43.677670Z",
     "shell.execute_reply": "2022-11-20T23:29:43.677008Z",
     "shell.execute_reply.started": "2022-11-20T23:29:43.671956Z"
    },
    "id": "7ZkVOrnUjBCG",
    "tags": []
   },
   "outputs": [],
   "source": [
    "def plot_history(train_history, val_history, title='loss'):\n",
    "    plt.figure()\n",
    "    plt.title('{}'.format(title))\n",
    "    plt.plot(train_history, label='train', zorder=1)\n",
    "    \n",
    "    points = np.array(val_history)\n",
    "    steps = list(range(0, len(train_history) + 1, int(len(train_history) / len(val_history))))[1:]\n",
    "    \n",
    "    plt.scatter(steps, val_history, marker='+', s=180, c='orange', label='val', zorder=2)\n",
    "    plt.xlabel('train steps')\n",
    "    \n",
    "    plt.legend(loc='best')\n",
    "    plt.grid()\n",
    "\n",
    "    plt.show()"
   ]
  },
  {
   "cell_type": "code",
   "execution_count": 53,
   "metadata": {
    "execution": {
     "iopub.execute_input": "2022-11-20T23:29:43.979659Z",
     "iopub.status.busy": "2022-11-20T23:29:43.979302Z",
     "iopub.status.idle": "2022-11-20T23:29:43.993728Z",
     "shell.execute_reply": "2022-11-20T23:29:43.993090Z",
     "shell.execute_reply.started": "2022-11-20T23:29:43.979631Z"
    },
    "id": "ib6233CVTRtg",
    "tags": []
   },
   "outputs": [],
   "source": [
    "def train_one_epoch(model, train_dataloader, criterion, optimizer, device=\"cuda:0\"):\n",
    "    model.train()\n",
    "    total_loss = 0\n",
    "    total_accuracy = 0\n",
    "    n_batchs = 0\n",
    "    for X_batch, y_batch in train_dataloader:\n",
    "      X_batch, y_batch = X_batch.to(device), y_batch.to(device)\n",
    "      y_preds = model(X_batch)\n",
    "      loss = criterion(y_preds, y_batch)\n",
    "      total_loss += loss\n",
    "      loss.backward()\n",
    "      optimizer.step()\n",
    "      optimizer.zero_grad()\n",
    "      total_accuracy += accuracy_score(y_batch.cpu().numpy(), torch.argmax(y_preds, dim=-1).detach().cpu().numpy())\n",
    "      n_batchs += 1\n",
    "    total_accuracy /= n_batchs\n",
    "    total_loss /= n_batchs\n",
    "    return total_accuracy, total_loss\n",
    "\n",
    "def predict(model, val_dataloder, criterion, device=\"cuda:0\"):\n",
    "    model.eval()\n",
    "    predicted_classes = torch.tensor([])\n",
    "    true_classes = torch.tensor([])\n",
    "    total_loss = 0\n",
    "    n_batchs = 0\n",
    "    with torch.no_grad():\n",
    "      for X_batch, y_batch in tqdm(val_dataloader):\n",
    "        X_batch, y_batch = X_batch.to(device), y_batch.to(device)\n",
    "        y_preds = model(X_batch)\n",
    "        total_loss += criterion(y_preds, y_batch)\n",
    "        y_batch = y_batch.cpu()\n",
    "        predicts = model(X_batch)\n",
    "        predicts = torch.argmax(predicts, dim=1).cpu()\n",
    "        predicted_classes = torch.cat((predicted_classes, predicts), dim=-1)\n",
    "        true_classes = torch.cat((true_classes, y_batch), dim=-1)\n",
    "        n_batchs += 1\n",
    "      total_loss /= n_batchs\n",
    "      return total_loss, predicted_classes.numpy(), true_classes.numpy()\n",
    "\n",
    "def train(model, train_dataloader, val_dataloader, criterion, optimizer, device=\"cuda:0\", n_epochs=10, scheduler=None):\n",
    "    model.to(device)\n",
    "    for epoch in tqdm(range(n_epochs)):\n",
    "        train_acc, train_loss = train_one_epoch(model, train_dataloader, criterion, optimizer, device=device)\n",
    "        #val_loss, predicted_classes, true_classes = predict(model, val_dataloader, criterion, device=device)\n",
    "        #val_acc = accuracy_score(true_classes, predicted_classes)\n",
    "        print(f'Train Loss:{train_loss} Train Accuracy:{train_acc} ')\n",
    "        #print(f'Val Loss:{val_loss} Val Accuracy:{val_acc} ')\n",
    "        #del true_classes, predicted_classes"
   ]
  },
  {
   "cell_type": "code",
   "execution_count": 54,
   "metadata": {
    "execution": {
     "iopub.execute_input": "2022-11-20T23:29:44.324704Z",
     "iopub.status.busy": "2022-11-20T23:29:44.324270Z",
     "iopub.status.idle": "2022-11-20T23:29:45.032941Z",
     "shell.execute_reply": "2022-11-20T23:29:45.032498Z",
     "shell.execute_reply.started": "2022-11-20T23:29:44.324686Z"
    },
    "id": "RBGri66_TuZJ",
    "tags": []
   },
   "outputs": [
    {
     "name": "stderr",
     "output_type": "stream",
     "text": [
      "/opt/conda/lib/python3.10/site-packages/torchvision/models/_utils.py:208: UserWarning: The parameter 'pretrained' is deprecated since 0.13 and may be removed in the future, please use 'weights' instead.\n",
      "  warnings.warn(\n",
      "/opt/conda/lib/python3.10/site-packages/torchvision/models/_utils.py:223: UserWarning: Arguments other than a weight enum or `None` for 'weights' are deprecated since 0.13 and may be removed in the future. The current behavior is equivalent to passing `weights=EfficientNet_B0_Weights.IMAGENET1K_V1`. You can also use `weights=EfficientNet_B0_Weights.DEFAULT` to get the most up-to-date weights.\n",
      "  warnings.warn(msg)\n"
     ]
    }
   ],
   "source": [
    "from torchvision.models import efficientnet_b0\n",
    "device = torch.device(\"cuda:0\") if torch.cuda.is_available() else torch.device(\"cpu\")\n",
    "model = efficientnet_b0(pretrained=True)\n",
    "model.classifier = nn.Linear(1280, 11)\n",
    "model.to(device)\n",
    "criterion = nn.CrossEntropyLoss()\n",
    "optimizer = torch.optim.Adam(model.parameters(), lr=1e-3)"
   ]
  },
  {
   "cell_type": "code",
   "execution_count": 55,
   "metadata": {
    "colab": {
     "base_uri": "https://localhost:8080/"
    },
    "execution": {
     "iopub.execute_input": "2022-11-20T23:29:46.769745Z",
     "iopub.status.busy": "2022-11-20T23:29:46.769457Z",
     "iopub.status.idle": "2022-11-20T23:29:46.899594Z",
     "shell.execute_reply": "2022-11-20T23:29:46.899205Z",
     "shell.execute_reply.started": "2022-11-20T23:29:46.769725Z"
    },
    "id": "WxCEWMd9pAUF",
    "outputId": "38d7ace6-43ad-4c66-868a-8441c26429d7",
    "tags": []
   },
   "outputs": [
    {
     "data": {
      "text/plain": [
       "28"
      ]
     },
     "execution_count": 55,
     "metadata": {},
     "output_type": "execute_result"
    }
   ],
   "source": [
    "gc.collect()"
   ]
  },
  {
   "cell_type": "code",
   "execution_count": 56,
   "metadata": {
    "colab": {
     "base_uri": "https://localhost:8080/",
     "height": 66,
     "referenced_widgets": [
      "bb5e815eba234dc5a58aa1eb5e6d00c2",
      "99459ca69b10480e81f2c2e5e412a082",
      "089436967ed249f191f1cc9fb7a0655f",
      "eb2911541cf54b58ad607cbfc944b1bc",
      "df0d9c4cd5e84f31a9910f71f5c2f513",
      "f580a4c1c39a4fdbb0b910fc26b91986",
      "e408b28a8fc342b48233257ad9561aac",
      "02073359061b428caf88bef40a6c429a",
      "3c962ed818e743a3aa89b0b0e0c97738",
      "fded9dc97572499ba2e59120b1735ed4",
      "039445bc6abc40828470c44917c316f4"
     ]
    },
    "execution": {
     "iopub.execute_input": "2022-11-20T23:30:03.410668Z",
     "iopub.status.busy": "2022-11-20T23:30:03.410457Z",
     "iopub.status.idle": "2022-11-20T23:32:23.920590Z",
     "shell.execute_reply": "2022-11-20T23:32:23.919775Z",
     "shell.execute_reply.started": "2022-11-20T23:30:03.410654Z"
    },
    "id": "D5WhLx26UTCe",
    "outputId": "5b779e09-54e4-4476-cc2e-5c8c559a9b1d",
    "tags": []
   },
   "outputs": [
    {
     "name": "stderr",
     "output_type": "stream",
     "text": [
      " 10%|█         | 1/10 [00:20<03:05, 20.66s/it]"
     ]
    },
    {
     "name": "stdout",
     "output_type": "stream",
     "text": [
      "Train Loss:0.38885027170181274 Train Accuracy:0.8829210069444444 \n"
     ]
    },
    {
     "name": "stderr",
     "output_type": "stream",
     "text": [
      " 20%|██        | 2/10 [00:41<02:47, 20.99s/it]"
     ]
    },
    {
     "name": "stdout",
     "output_type": "stream",
     "text": [
      "Train Loss:0.16524571180343628 Train Accuracy:0.9487847222222222 \n"
     ]
    },
    {
     "name": "stderr",
     "output_type": "stream",
     "text": [
      " 30%|███       | 3/10 [01:06<02:40, 22.86s/it]"
     ]
    },
    {
     "name": "stdout",
     "output_type": "stream",
     "text": [
      "Train Loss:0.11256102472543716 Train Accuracy:0.9651692708333334 \n"
     ]
    },
    {
     "name": "stderr",
     "output_type": "stream",
     "text": [
      " 40%|████      | 4/10 [01:32<02:24, 24.02s/it]"
     ]
    },
    {
     "name": "stdout",
     "output_type": "stream",
     "text": [
      "Train Loss:0.09096566587686539 Train Accuracy:0.9710286458333334 \n"
     ]
    },
    {
     "name": "stderr",
     "output_type": "stream",
     "text": [
      " 50%|█████     | 5/10 [01:58<02:03, 24.63s/it]"
     ]
    },
    {
     "name": "stdout",
     "output_type": "stream",
     "text": [
      "Train Loss:0.07900867611169815 Train Accuracy:0.9763454861111112 \n"
     ]
    },
    {
     "name": "stderr",
     "output_type": "stream",
     "text": [
      " 50%|█████     | 5/10 [02:20<02:20, 28.06s/it]\n"
     ]
    },
    {
     "ename": "KeyboardInterrupt",
     "evalue": "",
     "output_type": "error",
     "traceback": [
      "\u001b[0;31m---------------------------------------------------------------------------\u001b[0m",
      "\u001b[0;31mKeyboardInterrupt\u001b[0m                         Traceback (most recent call last)",
      "Cell \u001b[0;32mIn [56], line 1\u001b[0m\n\u001b[0;32m----> 1\u001b[0m \u001b[43mtrain\u001b[49m\u001b[43m(\u001b[49m\u001b[43mmodel\u001b[49m\u001b[43m,\u001b[49m\u001b[43m \u001b[49m\u001b[43mtrain_dataloader\u001b[49m\u001b[43m,\u001b[49m\u001b[43m \u001b[49m\u001b[43mval_dataloader\u001b[49m\u001b[38;5;241;43m=\u001b[39;49m\u001b[38;5;28;43;01mNone\u001b[39;49;00m\u001b[43m,\u001b[49m\u001b[43m \u001b[49m\u001b[43mcriterion\u001b[49m\u001b[38;5;241;43m=\u001b[39;49m\u001b[43mcriterion\u001b[49m\u001b[43m,\u001b[49m\u001b[43m \u001b[49m\u001b[43moptimizer\u001b[49m\u001b[38;5;241;43m=\u001b[39;49m\u001b[43moptimizer\u001b[49m\u001b[43m,\u001b[49m\u001b[43m \u001b[49m\u001b[43mdevice\u001b[49m\u001b[38;5;241;43m=\u001b[39;49m\u001b[43mdevice\u001b[49m\u001b[43m,\u001b[49m\u001b[43m \u001b[49m\u001b[43mn_epochs\u001b[49m\u001b[38;5;241;43m=\u001b[39;49m\u001b[38;5;241;43m10\u001b[39;49m\u001b[43m)\u001b[49m\n",
      "Cell \u001b[0;32mIn [53], line 43\u001b[0m, in \u001b[0;36mtrain\u001b[0;34m(model, train_dataloader, val_dataloader, criterion, optimizer, device, n_epochs, scheduler)\u001b[0m\n\u001b[1;32m     41\u001b[0m model\u001b[38;5;241m.\u001b[39mto(device)\n\u001b[1;32m     42\u001b[0m \u001b[38;5;28;01mfor\u001b[39;00m epoch \u001b[38;5;129;01min\u001b[39;00m tqdm(\u001b[38;5;28mrange\u001b[39m(n_epochs)):\n\u001b[0;32m---> 43\u001b[0m     train_acc, train_loss \u001b[38;5;241m=\u001b[39m \u001b[43mtrain_one_epoch\u001b[49m\u001b[43m(\u001b[49m\u001b[43mmodel\u001b[49m\u001b[43m,\u001b[49m\u001b[43m \u001b[49m\u001b[43mtrain_dataloader\u001b[49m\u001b[43m,\u001b[49m\u001b[43m \u001b[49m\u001b[43mcriterion\u001b[49m\u001b[43m,\u001b[49m\u001b[43m \u001b[49m\u001b[43moptimizer\u001b[49m\u001b[43m,\u001b[49m\u001b[43m \u001b[49m\u001b[43mdevice\u001b[49m\u001b[38;5;241;43m=\u001b[39;49m\u001b[43mdevice\u001b[49m\u001b[43m)\u001b[49m\n\u001b[1;32m     44\u001b[0m     \u001b[38;5;66;03m#val_loss, predicted_classes, true_classes = predict(model, val_dataloader, criterion, device=device)\u001b[39;00m\n\u001b[1;32m     45\u001b[0m     \u001b[38;5;66;03m#val_acc = accuracy_score(true_classes, predicted_classes)\u001b[39;00m\n\u001b[1;32m     46\u001b[0m     \u001b[38;5;28mprint\u001b[39m(\u001b[38;5;124mf\u001b[39m\u001b[38;5;124m'\u001b[39m\u001b[38;5;124mTrain Loss:\u001b[39m\u001b[38;5;132;01m{\u001b[39;00mtrain_loss\u001b[38;5;132;01m}\u001b[39;00m\u001b[38;5;124m Train Accuracy:\u001b[39m\u001b[38;5;132;01m{\u001b[39;00mtrain_acc\u001b[38;5;132;01m}\u001b[39;00m\u001b[38;5;124m \u001b[39m\u001b[38;5;124m'\u001b[39m)\n",
      "Cell \u001b[0;32mIn [53], line 12\u001b[0m, in \u001b[0;36mtrain_one_epoch\u001b[0;34m(model, train_dataloader, criterion, optimizer, device)\u001b[0m\n\u001b[1;32m     10\u001b[0m total_loss \u001b[38;5;241m+\u001b[39m\u001b[38;5;241m=\u001b[39m loss\n\u001b[1;32m     11\u001b[0m loss\u001b[38;5;241m.\u001b[39mbackward()\n\u001b[0;32m---> 12\u001b[0m \u001b[43moptimizer\u001b[49m\u001b[38;5;241;43m.\u001b[39;49m\u001b[43mstep\u001b[49m\u001b[43m(\u001b[49m\u001b[43m)\u001b[49m\n\u001b[1;32m     13\u001b[0m optimizer\u001b[38;5;241m.\u001b[39mzero_grad()\n\u001b[1;32m     14\u001b[0m total_accuracy \u001b[38;5;241m+\u001b[39m\u001b[38;5;241m=\u001b[39m accuracy_score(y_batch\u001b[38;5;241m.\u001b[39mcpu()\u001b[38;5;241m.\u001b[39mnumpy(), torch\u001b[38;5;241m.\u001b[39margmax(y_preds, dim\u001b[38;5;241m=\u001b[39m\u001b[38;5;241m-\u001b[39m\u001b[38;5;241m1\u001b[39m)\u001b[38;5;241m.\u001b[39mdetach()\u001b[38;5;241m.\u001b[39mcpu()\u001b[38;5;241m.\u001b[39mnumpy())\n",
      "File \u001b[0;32m/opt/conda/lib/python3.10/site-packages/torch/optim/optimizer.py:140\u001b[0m, in \u001b[0;36mOptimizer._hook_for_profile.<locals>.profile_hook_step.<locals>.wrapper\u001b[0;34m(*args, **kwargs)\u001b[0m\n\u001b[1;32m    138\u001b[0m profile_name \u001b[38;5;241m=\u001b[39m \u001b[38;5;124m\"\u001b[39m\u001b[38;5;124mOptimizer.step#\u001b[39m\u001b[38;5;132;01m{}\u001b[39;00m\u001b[38;5;124m.step\u001b[39m\u001b[38;5;124m\"\u001b[39m\u001b[38;5;241m.\u001b[39mformat(obj\u001b[38;5;241m.\u001b[39m\u001b[38;5;18m__class__\u001b[39m\u001b[38;5;241m.\u001b[39m\u001b[38;5;18m__name__\u001b[39m)\n\u001b[1;32m    139\u001b[0m \u001b[38;5;28;01mwith\u001b[39;00m torch\u001b[38;5;241m.\u001b[39mautograd\u001b[38;5;241m.\u001b[39mprofiler\u001b[38;5;241m.\u001b[39mrecord_function(profile_name):\n\u001b[0;32m--> 140\u001b[0m     out \u001b[38;5;241m=\u001b[39m \u001b[43mfunc\u001b[49m\u001b[43m(\u001b[49m\u001b[38;5;241;43m*\u001b[39;49m\u001b[43margs\u001b[49m\u001b[43m,\u001b[49m\u001b[43m \u001b[49m\u001b[38;5;241;43m*\u001b[39;49m\u001b[38;5;241;43m*\u001b[39;49m\u001b[43mkwargs\u001b[49m\u001b[43m)\u001b[49m\n\u001b[1;32m    141\u001b[0m     obj\u001b[38;5;241m.\u001b[39m_optimizer_step_code()\n\u001b[1;32m    142\u001b[0m     \u001b[38;5;28;01mreturn\u001b[39;00m out\n",
      "File \u001b[0;32m/opt/conda/lib/python3.10/site-packages/torch/optim/optimizer.py:23\u001b[0m, in \u001b[0;36m_use_grad_for_differentiable.<locals>._use_grad\u001b[0;34m(self, *args, **kwargs)\u001b[0m\n\u001b[1;32m     21\u001b[0m \u001b[38;5;28;01mtry\u001b[39;00m:\n\u001b[1;32m     22\u001b[0m     torch\u001b[38;5;241m.\u001b[39mset_grad_enabled(\u001b[38;5;28mself\u001b[39m\u001b[38;5;241m.\u001b[39mdefaults[\u001b[38;5;124m'\u001b[39m\u001b[38;5;124mdifferentiable\u001b[39m\u001b[38;5;124m'\u001b[39m])\n\u001b[0;32m---> 23\u001b[0m     ret \u001b[38;5;241m=\u001b[39m \u001b[43mfunc\u001b[49m\u001b[43m(\u001b[49m\u001b[38;5;28;43mself\u001b[39;49m\u001b[43m,\u001b[49m\u001b[43m \u001b[49m\u001b[38;5;241;43m*\u001b[39;49m\u001b[43margs\u001b[49m\u001b[43m,\u001b[49m\u001b[43m \u001b[49m\u001b[38;5;241;43m*\u001b[39;49m\u001b[38;5;241;43m*\u001b[39;49m\u001b[43mkwargs\u001b[49m\u001b[43m)\u001b[49m\n\u001b[1;32m     24\u001b[0m \u001b[38;5;28;01mfinally\u001b[39;00m:\n\u001b[1;32m     25\u001b[0m     torch\u001b[38;5;241m.\u001b[39mset_grad_enabled(prev_grad)\n",
      "File \u001b[0;32m/opt/conda/lib/python3.10/site-packages/torch/optim/adam.py:234\u001b[0m, in \u001b[0;36mAdam.step\u001b[0;34m(self, closure, grad_scaler)\u001b[0m\n\u001b[1;32m    231\u001b[0m                 \u001b[38;5;28;01mraise\u001b[39;00m \u001b[38;5;167;01mRuntimeError\u001b[39;00m(\u001b[38;5;124m'\u001b[39m\u001b[38;5;124m`requires_grad` is not supported for `step` in differentiable mode\u001b[39m\u001b[38;5;124m'\u001b[39m)\n\u001b[1;32m    232\u001b[0m             state_steps\u001b[38;5;241m.\u001b[39mappend(state[\u001b[38;5;124m'\u001b[39m\u001b[38;5;124mstep\u001b[39m\u001b[38;5;124m'\u001b[39m])\n\u001b[0;32m--> 234\u001b[0m     \u001b[43madam\u001b[49m\u001b[43m(\u001b[49m\u001b[43mparams_with_grad\u001b[49m\u001b[43m,\u001b[49m\n\u001b[1;32m    235\u001b[0m \u001b[43m         \u001b[49m\u001b[43mgrads\u001b[49m\u001b[43m,\u001b[49m\n\u001b[1;32m    236\u001b[0m \u001b[43m         \u001b[49m\u001b[43mexp_avgs\u001b[49m\u001b[43m,\u001b[49m\n\u001b[1;32m    237\u001b[0m \u001b[43m         \u001b[49m\u001b[43mexp_avg_sqs\u001b[49m\u001b[43m,\u001b[49m\n\u001b[1;32m    238\u001b[0m \u001b[43m         \u001b[49m\u001b[43mmax_exp_avg_sqs\u001b[49m\u001b[43m,\u001b[49m\n\u001b[1;32m    239\u001b[0m \u001b[43m         \u001b[49m\u001b[43mstate_steps\u001b[49m\u001b[43m,\u001b[49m\n\u001b[1;32m    240\u001b[0m \u001b[43m         \u001b[49m\u001b[43mamsgrad\u001b[49m\u001b[38;5;241;43m=\u001b[39;49m\u001b[43mgroup\u001b[49m\u001b[43m[\u001b[49m\u001b[38;5;124;43m'\u001b[39;49m\u001b[38;5;124;43mamsgrad\u001b[39;49m\u001b[38;5;124;43m'\u001b[39;49m\u001b[43m]\u001b[49m\u001b[43m,\u001b[49m\n\u001b[1;32m    241\u001b[0m \u001b[43m         \u001b[49m\u001b[43mbeta1\u001b[49m\u001b[38;5;241;43m=\u001b[39;49m\u001b[43mbeta1\u001b[49m\u001b[43m,\u001b[49m\n\u001b[1;32m    242\u001b[0m \u001b[43m         \u001b[49m\u001b[43mbeta2\u001b[49m\u001b[38;5;241;43m=\u001b[39;49m\u001b[43mbeta2\u001b[49m\u001b[43m,\u001b[49m\n\u001b[1;32m    243\u001b[0m \u001b[43m         \u001b[49m\u001b[43mlr\u001b[49m\u001b[38;5;241;43m=\u001b[39;49m\u001b[43mgroup\u001b[49m\u001b[43m[\u001b[49m\u001b[38;5;124;43m'\u001b[39;49m\u001b[38;5;124;43mlr\u001b[39;49m\u001b[38;5;124;43m'\u001b[39;49m\u001b[43m]\u001b[49m\u001b[43m,\u001b[49m\n\u001b[1;32m    244\u001b[0m \u001b[43m         \u001b[49m\u001b[43mweight_decay\u001b[49m\u001b[38;5;241;43m=\u001b[39;49m\u001b[43mgroup\u001b[49m\u001b[43m[\u001b[49m\u001b[38;5;124;43m'\u001b[39;49m\u001b[38;5;124;43mweight_decay\u001b[39;49m\u001b[38;5;124;43m'\u001b[39;49m\u001b[43m]\u001b[49m\u001b[43m,\u001b[49m\n\u001b[1;32m    245\u001b[0m \u001b[43m         \u001b[49m\u001b[43meps\u001b[49m\u001b[38;5;241;43m=\u001b[39;49m\u001b[43mgroup\u001b[49m\u001b[43m[\u001b[49m\u001b[38;5;124;43m'\u001b[39;49m\u001b[38;5;124;43meps\u001b[39;49m\u001b[38;5;124;43m'\u001b[39;49m\u001b[43m]\u001b[49m\u001b[43m,\u001b[49m\n\u001b[1;32m    246\u001b[0m \u001b[43m         \u001b[49m\u001b[43mmaximize\u001b[49m\u001b[38;5;241;43m=\u001b[39;49m\u001b[43mgroup\u001b[49m\u001b[43m[\u001b[49m\u001b[38;5;124;43m'\u001b[39;49m\u001b[38;5;124;43mmaximize\u001b[39;49m\u001b[38;5;124;43m'\u001b[39;49m\u001b[43m]\u001b[49m\u001b[43m,\u001b[49m\n\u001b[1;32m    247\u001b[0m \u001b[43m         \u001b[49m\u001b[43mforeach\u001b[49m\u001b[38;5;241;43m=\u001b[39;49m\u001b[43mgroup\u001b[49m\u001b[43m[\u001b[49m\u001b[38;5;124;43m'\u001b[39;49m\u001b[38;5;124;43mforeach\u001b[39;49m\u001b[38;5;124;43m'\u001b[39;49m\u001b[43m]\u001b[49m\u001b[43m,\u001b[49m\n\u001b[1;32m    248\u001b[0m \u001b[43m         \u001b[49m\u001b[43mcapturable\u001b[49m\u001b[38;5;241;43m=\u001b[39;49m\u001b[43mgroup\u001b[49m\u001b[43m[\u001b[49m\u001b[38;5;124;43m'\u001b[39;49m\u001b[38;5;124;43mcapturable\u001b[39;49m\u001b[38;5;124;43m'\u001b[39;49m\u001b[43m]\u001b[49m\u001b[43m,\u001b[49m\n\u001b[1;32m    249\u001b[0m \u001b[43m         \u001b[49m\u001b[43mdifferentiable\u001b[49m\u001b[38;5;241;43m=\u001b[39;49m\u001b[43mgroup\u001b[49m\u001b[43m[\u001b[49m\u001b[38;5;124;43m'\u001b[39;49m\u001b[38;5;124;43mdifferentiable\u001b[39;49m\u001b[38;5;124;43m'\u001b[39;49m\u001b[43m]\u001b[49m\u001b[43m,\u001b[49m\n\u001b[1;32m    250\u001b[0m \u001b[43m         \u001b[49m\u001b[43mfused\u001b[49m\u001b[38;5;241;43m=\u001b[39;49m\u001b[43mgroup\u001b[49m\u001b[43m[\u001b[49m\u001b[38;5;124;43m'\u001b[39;49m\u001b[38;5;124;43mfused\u001b[39;49m\u001b[38;5;124;43m'\u001b[39;49m\u001b[43m]\u001b[49m\u001b[43m,\u001b[49m\n\u001b[1;32m    251\u001b[0m \u001b[43m         \u001b[49m\u001b[43mgrad_scale\u001b[49m\u001b[38;5;241;43m=\u001b[39;49m\u001b[43mgrad_scale\u001b[49m\u001b[43m,\u001b[49m\n\u001b[1;32m    252\u001b[0m \u001b[43m         \u001b[49m\u001b[43mfound_inf\u001b[49m\u001b[38;5;241;43m=\u001b[39;49m\u001b[43mfound_inf\u001b[49m\u001b[43m)\u001b[49m\n\u001b[1;32m    254\u001b[0m \u001b[38;5;28;01mreturn\u001b[39;00m loss\n",
      "File \u001b[0;32m/opt/conda/lib/python3.10/site-packages/torch/optim/adam.py:300\u001b[0m, in \u001b[0;36madam\u001b[0;34m(params, grads, exp_avgs, exp_avg_sqs, max_exp_avg_sqs, state_steps, foreach, capturable, differentiable, fused, grad_scale, found_inf, amsgrad, beta1, beta2, lr, weight_decay, eps, maximize)\u001b[0m\n\u001b[1;32m    297\u001b[0m \u001b[38;5;28;01melse\u001b[39;00m:\n\u001b[1;32m    298\u001b[0m     func \u001b[38;5;241m=\u001b[39m _single_tensor_adam\n\u001b[0;32m--> 300\u001b[0m \u001b[43mfunc\u001b[49m\u001b[43m(\u001b[49m\u001b[43mparams\u001b[49m\u001b[43m,\u001b[49m\n\u001b[1;32m    301\u001b[0m \u001b[43m     \u001b[49m\u001b[43mgrads\u001b[49m\u001b[43m,\u001b[49m\n\u001b[1;32m    302\u001b[0m \u001b[43m     \u001b[49m\u001b[43mexp_avgs\u001b[49m\u001b[43m,\u001b[49m\n\u001b[1;32m    303\u001b[0m \u001b[43m     \u001b[49m\u001b[43mexp_avg_sqs\u001b[49m\u001b[43m,\u001b[49m\n\u001b[1;32m    304\u001b[0m \u001b[43m     \u001b[49m\u001b[43mmax_exp_avg_sqs\u001b[49m\u001b[43m,\u001b[49m\n\u001b[1;32m    305\u001b[0m \u001b[43m     \u001b[49m\u001b[43mstate_steps\u001b[49m\u001b[43m,\u001b[49m\n\u001b[1;32m    306\u001b[0m \u001b[43m     \u001b[49m\u001b[43mamsgrad\u001b[49m\u001b[38;5;241;43m=\u001b[39;49m\u001b[43mamsgrad\u001b[49m\u001b[43m,\u001b[49m\n\u001b[1;32m    307\u001b[0m \u001b[43m     \u001b[49m\u001b[43mbeta1\u001b[49m\u001b[38;5;241;43m=\u001b[39;49m\u001b[43mbeta1\u001b[49m\u001b[43m,\u001b[49m\n\u001b[1;32m    308\u001b[0m \u001b[43m     \u001b[49m\u001b[43mbeta2\u001b[49m\u001b[38;5;241;43m=\u001b[39;49m\u001b[43mbeta2\u001b[49m\u001b[43m,\u001b[49m\n\u001b[1;32m    309\u001b[0m \u001b[43m     \u001b[49m\u001b[43mlr\u001b[49m\u001b[38;5;241;43m=\u001b[39;49m\u001b[43mlr\u001b[49m\u001b[43m,\u001b[49m\n\u001b[1;32m    310\u001b[0m \u001b[43m     \u001b[49m\u001b[43mweight_decay\u001b[49m\u001b[38;5;241;43m=\u001b[39;49m\u001b[43mweight_decay\u001b[49m\u001b[43m,\u001b[49m\n\u001b[1;32m    311\u001b[0m \u001b[43m     \u001b[49m\u001b[43meps\u001b[49m\u001b[38;5;241;43m=\u001b[39;49m\u001b[43meps\u001b[49m\u001b[43m,\u001b[49m\n\u001b[1;32m    312\u001b[0m \u001b[43m     \u001b[49m\u001b[43mmaximize\u001b[49m\u001b[38;5;241;43m=\u001b[39;49m\u001b[43mmaximize\u001b[49m\u001b[43m,\u001b[49m\n\u001b[1;32m    313\u001b[0m \u001b[43m     \u001b[49m\u001b[43mcapturable\u001b[49m\u001b[38;5;241;43m=\u001b[39;49m\u001b[43mcapturable\u001b[49m\u001b[43m,\u001b[49m\n\u001b[1;32m    314\u001b[0m \u001b[43m     \u001b[49m\u001b[43mdifferentiable\u001b[49m\u001b[38;5;241;43m=\u001b[39;49m\u001b[43mdifferentiable\u001b[49m\u001b[43m,\u001b[49m\n\u001b[1;32m    315\u001b[0m \u001b[43m     \u001b[49m\u001b[43mgrad_scale\u001b[49m\u001b[38;5;241;43m=\u001b[39;49m\u001b[43mgrad_scale\u001b[49m\u001b[43m,\u001b[49m\n\u001b[1;32m    316\u001b[0m \u001b[43m     \u001b[49m\u001b[43mfound_inf\u001b[49m\u001b[38;5;241;43m=\u001b[39;49m\u001b[43mfound_inf\u001b[49m\u001b[43m)\u001b[49m\n",
      "File \u001b[0;32m/opt/conda/lib/python3.10/site-packages/torch/optim/adam.py:410\u001b[0m, in \u001b[0;36m_single_tensor_adam\u001b[0;34m(params, grads, exp_avgs, exp_avg_sqs, max_exp_avg_sqs, state_steps, grad_scale, found_inf, amsgrad, beta1, beta2, lr, weight_decay, eps, maximize, capturable, differentiable)\u001b[0m\n\u001b[1;32m    408\u001b[0m     denom \u001b[38;5;241m=\u001b[39m (max_exp_avg_sqs[i]\u001b[38;5;241m.\u001b[39msqrt() \u001b[38;5;241m/\u001b[39m bias_correction2_sqrt)\u001b[38;5;241m.\u001b[39madd_(eps)\n\u001b[1;32m    409\u001b[0m \u001b[38;5;28;01melse\u001b[39;00m:\n\u001b[0;32m--> 410\u001b[0m     denom \u001b[38;5;241m=\u001b[39m \u001b[43m(\u001b[49m\u001b[43mexp_avg_sq\u001b[49m\u001b[38;5;241;43m.\u001b[39;49m\u001b[43msqrt\u001b[49m\u001b[43m(\u001b[49m\u001b[43m)\u001b[49m\u001b[43m \u001b[49m\u001b[38;5;241;43m/\u001b[39;49m\u001b[43m \u001b[49m\u001b[43mbias_correction2_sqrt\u001b[49m\u001b[43m)\u001b[49m\u001b[38;5;241;43m.\u001b[39;49m\u001b[43madd_\u001b[49m\u001b[43m(\u001b[49m\u001b[43meps\u001b[49m\u001b[43m)\u001b[49m\n\u001b[1;32m    412\u001b[0m param\u001b[38;5;241m.\u001b[39maddcdiv_(exp_avg, denom, value\u001b[38;5;241m=\u001b[39m\u001b[38;5;241m-\u001b[39mstep_size)\n",
      "\u001b[0;31mKeyboardInterrupt\u001b[0m: "
     ]
    }
   ],
   "source": [
    "train(model, train_dataloader, val_dataloader=None, criterion=criterion, optimizer=optimizer, device=device, n_epochs=10)"
   ]
  },
  {
   "cell_type": "markdown",
   "metadata": {
    "id": "G19TaoVElrQD",
    "jp-MarkdownHeadingCollapsed": true,
    "tags": []
   },
   "source": [
    "# Adding MixPrecision, MADGRAD, lr_scheduler"
   ]
  },
  {
   "cell_type": "code",
   "execution_count": 22,
   "metadata": {
    "execution": {
     "iopub.execute_input": "2022-11-21T00:03:16.020353Z",
     "iopub.status.busy": "2022-11-21T00:03:16.020025Z",
     "iopub.status.idle": "2022-11-21T00:03:16.033530Z",
     "shell.execute_reply": "2022-11-21T00:03:16.033106Z",
     "shell.execute_reply.started": "2022-11-21T00:03:16.020338Z"
    },
    "id": "m9vMjcYai5mR",
    "tags": []
   },
   "outputs": [],
   "source": [
    "import math\n",
    "import torch\n",
    "import torch.optim\n",
    "\n",
    "from typing import TYPE_CHECKING, Any, Callable, Optional\n",
    "\n",
    "if TYPE_CHECKING:\n",
    "    from torch.optim.optimizer import _params_t\n",
    "else:\n",
    "    _params_t = Any\n",
    "\n",
    "class MADGRAD(torch.optim.Optimizer):\n",
    "    def __init__(\n",
    "        self, params: _params_t, lr: float = 1e-2, momentum: float = 0.9, \n",
    "        weight_decay: float = 0, eps: float = 1e-6, decouple_decay=False,\n",
    "    ):\n",
    "        if momentum < 0 or momentum >= 1:\n",
    "            raise ValueError(f\"Momentum {momentum} must be in the range [0,1)\")\n",
    "        if lr <= 0:\n",
    "            raise ValueError(f\"Learning rate {lr} must be positive\")\n",
    "        if weight_decay < 0:\n",
    "            raise ValueError(f\"Weight decay {weight_decay} must be non-negative\")\n",
    "        if eps < 0:\n",
    "            raise ValueError(f\"Eps must be non-negative\")\n",
    "\n",
    "        defaults = dict(lr=lr, eps=eps, momentum=momentum, \n",
    "                        weight_decay=weight_decay, decouple_decay=decouple_decay)\n",
    "        super().__init__(params, defaults)\n",
    "\n",
    "    @property\n",
    "    def supports_memory_efficient_fp16(self) -> bool:\n",
    "        return False\n",
    "\n",
    "    @property\n",
    "    def supports_flat_params(self) -> bool:\n",
    "        return True\n",
    "\n",
    "    def step(self, closure: Optional[Callable[[], float]] = None) -> Optional[float]:\n",
    "        \"\"\"Performs a single optimization step.\n",
    "        Arguments:\n",
    "            closure (callable, optional): A closure that reevaluates the model\n",
    "                and returns the loss.\n",
    "        \"\"\"\n",
    "        loss = None\n",
    "        if closure is not None:\n",
    "            loss = closure()\n",
    "\n",
    "        # step counter must be stored in state to ensure correct behavior under\n",
    "        # optimizer sharding\n",
    "        if 'k' not in self.state:\n",
    "            self.state['k'] = torch.tensor([0], dtype=torch.long)\n",
    "        k = self.state['k'].item()\n",
    "\n",
    "        for group in self.param_groups:\n",
    "            eps = group[\"eps\"]\n",
    "            lr = group[\"lr\"] + eps\n",
    "            decay = group[\"weight_decay\"]\n",
    "            momentum = group[\"momentum\"]\n",
    "            decouple_decay = group[\"decouple_decay\"]\n",
    "\n",
    "            ck = 1 - momentum\n",
    "            lamb = lr * math.pow(k + 1, 0.5)\n",
    "\n",
    "            for p in group[\"params\"]:\n",
    "                if p.grad is None:\n",
    "                    continue\n",
    "                grad = p.grad.data\n",
    "                state = self.state[p]\n",
    "\n",
    "                if \"grad_sum_sq\" not in state:\n",
    "                    state[\"grad_sum_sq\"] = torch.zeros_like(p.data).detach()\n",
    "                    state[\"s\"] = torch.zeros_like(p.data).detach()\n",
    "                    if momentum != 0:\n",
    "                        state[\"x0\"] = torch.clone(p.data).detach()\n",
    "\n",
    "                if momentum != 0.0 and grad.is_sparse:\n",
    "                    raise RuntimeError(\"momentum != 0 is not compatible with sparse gradients\")\n",
    "\n",
    "                grad_sum_sq = state[\"grad_sum_sq\"]\n",
    "                s = state[\"s\"]\n",
    "\n",
    "                # Apply weight decay\n",
    "                if decay != 0 and not decouple_decay:\n",
    "                    if grad.is_sparse:\n",
    "                        raise RuntimeError(\"weight_decay option is not compatible with sparse gradients\")\n",
    "\n",
    "                    grad.add_(p.data, alpha=decay)\n",
    "\n",
    "                if grad.is_sparse:\n",
    "                    grad = grad.coalesce()\n",
    "                    grad_val = grad._values()\n",
    "\n",
    "                    p_masked = p.sparse_mask(grad)\n",
    "                    grad_sum_sq_masked = grad_sum_sq.sparse_mask(grad)\n",
    "                    s_masked = s.sparse_mask(grad)\n",
    "\n",
    "                    # Compute x_0 from other known quantities\n",
    "                    rms_masked_vals = grad_sum_sq_masked._values().pow(1 / 3).add_(eps)\n",
    "                    x0_masked_vals = p_masked._values().addcdiv(s_masked._values(), rms_masked_vals, value=1)\n",
    "\n",
    "                    # Dense + sparse op\n",
    "                    grad_sq = grad * grad\n",
    "                    grad_sum_sq.add_(grad_sq, alpha=lamb)\n",
    "                    grad_sum_sq_masked.add_(grad_sq, alpha=lamb)\n",
    "\n",
    "                    rms_masked_vals = grad_sum_sq_masked._values().pow_(1 / 3).add_(eps)\n",
    "\n",
    "                    if eps == 0:\n",
    "                        rms_masked_vals[rms_masked_vals == 0] = float('inf')\n",
    "\n",
    "                    s.add_(grad, alpha=lamb)\n",
    "                    s_masked._values().add_(grad_val, alpha=lamb)\n",
    "\n",
    "                    # update masked copy of p\n",
    "                    p_kp1_masked_vals = x0_masked_vals.addcdiv(s_masked._values(), rms_masked_vals, value=-1)\n",
    "                    # Copy updated masked p to dense p using an add operation\n",
    "                    p_masked._values().add_(p_kp1_masked_vals, alpha=-1)\n",
    "                    p.data.add_(p_masked, alpha=-1)\n",
    "                else:\n",
    "                    if momentum == 0:\n",
    "                        # Compute x_0 from other known quantities\n",
    "                        rms = grad_sum_sq.pow(1 / 3).add_(eps)\n",
    "                        x0 = p.data.addcdiv(s, rms, value=1)\n",
    "                    else:\n",
    "                        x0 = state[\"x0\"]\n",
    "\n",
    "                    # Accumulate second moments\n",
    "                    grad_sum_sq.addcmul_(grad, grad, value=lamb)\n",
    "                    rms = grad_sum_sq.pow(1 / 3).add_(eps)\n",
    "\n",
    "                    if eps == 0:\n",
    "                        rms[rms == 0] = float('inf')\n",
    "\n",
    "                    # Update s\n",
    "                    s.data.add_(grad, alpha=lamb)\n",
    "\n",
    "                    if decay != 0 and decouple_decay:\n",
    "                        p_old = p.data.clone()\n",
    "\n",
    "                    # Step\n",
    "                    if momentum == 0:\n",
    "                        p.data.copy_(x0.addcdiv(s, rms, value=-1))\n",
    "                    else:\n",
    "                        z = x0.addcdiv(s, rms, value=-1)\n",
    "\n",
    "                        # p is a moving average of z\n",
    "                        p.data.mul_(1 - ck).add_(z, alpha=ck)\n",
    "                    \n",
    "                    if decay != 0 and decouple_decay:\n",
    "                        p.data.add_(p_old, alpha=-lr*decay)\n",
    "\n",
    "\n",
    "        self.state['k'] += 1\n",
    "        return loss"
   ]
  },
  {
   "cell_type": "code",
   "execution_count": 109,
   "metadata": {
    "execution": {
     "iopub.execute_input": "2022-11-21T00:33:39.245102Z",
     "iopub.status.busy": "2022-11-21T00:33:39.244755Z",
     "iopub.status.idle": "2022-11-21T00:33:39.258271Z",
     "shell.execute_reply": "2022-11-21T00:33:39.257609Z",
     "shell.execute_reply.started": "2022-11-21T00:33:39.245074Z"
    },
    "id": "Bn--BZyml313",
    "tags": []
   },
   "outputs": [],
   "source": [
    "def train_one_epoch(model, train_dataloader, criterion, optimizer, scaler, device=\"cuda:0\"):\n",
    "    model.train()\n",
    "    total_loss = 0\n",
    "    total_accuracy = 0\n",
    "    n_batchs = 0\n",
    "    for X_batch, y_batch in train_dataloader:\n",
    "      optimizer.zero_grad()\n",
    "      X_batch, y_batch = X_batch.to(device), y_batch.to(device)\n",
    "      with torch.autocast(device_type='cuda', dtype=torch.float16):\n",
    "        y_preds = model(X_batch)\n",
    "        loss = criterion(y_preds, y_batch)\n",
    "        total_loss += loss\n",
    "      scaler.scale(loss).backward()\n",
    "      scaler.step(optimizer)\n",
    "      scaler.update()\n",
    "      total_accuracy += accuracy_score(y_batch.cpu().numpy(), torch.argmax(y_preds, dim=-1).detach().cpu().numpy())\n",
    "      n_batchs += 1\n",
    "    total_accuracy /= n_batchs\n",
    "    total_loss /= n_batchs\n",
    "    return total_accuracy, total_loss\n",
    "\n",
    "def predict(model, val_dataloader, criterion, device=\"cuda:0\"):\n",
    "    model.eval()\n",
    "    predicted_classes = torch.tensor([])\n",
    "    true_classes = torch.tensor([])\n",
    "    total_loss = 0\n",
    "    n_batchs = 0\n",
    "    with torch.no_grad():\n",
    "      for X_batch, y_batch in tqdm(val_dataloader):\n",
    "        X_batch, y_batch = X_batch.to(device), y_batch.to(device)\n",
    "        y_preds = model(X_batch)\n",
    "        total_loss += criterion(y_preds, y_batch)\n",
    "        y_batch = y_batch.cpu()\n",
    "        predicts = model(X_batch)\n",
    "        predicts = torch.argmax(predicts, dim=1).cpu()\n",
    "        predicted_classes = torch.cat((predicted_classes, predicts), dim=-1)\n",
    "        true_classes = torch.cat((true_classes, y_batch), dim=-1)\n",
    "        n_batchs += 1\n",
    "      total_loss /= n_batchs\n",
    "      return total_loss, predicted_classes.numpy(), true_classes.numpy()\n",
    "\n",
    "def train(model, train_dataloader, val_dataloader, criterion, optimizer, scaler, lr_scheduler, device=\"cuda:0\", n_epochs=10):\n",
    "    model.to(device)\n",
    "    for epoch in tqdm(range(n_epochs)):\n",
    "        train_acc, train_loss = train_one_epoch(model, train_dataloader, criterion, optimizer, scaler, device=device)\n",
    "        if lr_scheduler is not None: \n",
    "            lr_scheduler.step()\n",
    "        #val_loss, predicted_classes, true_classes = predict(model, val_dataloader, criterion, device=device)\n",
    "        #val_acc = accuracy_score(true_classes, predicted_classes)\n",
    "        print(f'Train Loss:{train_loss} Train Accuracy:{train_acc}')\n",
    "        #print(f'Val Loss:{val_loss} Val Accuracy:{val_acc} ')\n",
    "        #del true_classes, predicted_classes"
   ]
  },
  {
   "cell_type": "code",
   "execution_count": 123,
   "metadata": {
    "execution": {
     "iopub.execute_input": "2022-11-21T00:40:58.741057Z",
     "iopub.status.busy": "2022-11-21T00:40:58.740798Z",
     "iopub.status.idle": "2022-11-21T00:40:58.843888Z",
     "shell.execute_reply": "2022-11-21T00:40:58.843327Z",
     "shell.execute_reply.started": "2022-11-21T00:40:58.741038Z"
    },
    "id": "rvAFhnoa2MgC",
    "tags": []
   },
   "outputs": [
    {
     "name": "stderr",
     "output_type": "stream",
     "text": [
      "/opt/conda/lib/python3.10/site-packages/torchvision/models/_utils.py:208: UserWarning: The parameter 'pretrained' is deprecated since 0.13 and may be removed in the future, please use 'weights' instead.\n",
      "  warnings.warn(\n",
      "/opt/conda/lib/python3.10/site-packages/torchvision/models/_utils.py:223: UserWarning: Arguments other than a weight enum or `None` for 'weights' are deprecated since 0.13 and may be removed in the future. The current behavior is equivalent to passing `weights=EfficientNet_B0_Weights.IMAGENET1K_V1`. You can also use `weights=EfficientNet_B0_Weights.DEFAULT` to get the most up-to-date weights.\n",
      "  warnings.warn(msg)\n"
     ]
    }
   ],
   "source": [
    "from torchvision.models import efficientnet_b3\n",
    "device = torch.device(\"cuda:0\") if torch.cuda.is_available() else torch.device(\"cpu\")\n",
    "model = efficientnet_b0(pretrained=True)\n",
    "model.classifier = nn.Linear(1280, 11)\n",
    "model.to(device)\n",
    "criterion = nn.CrossEntropyLoss()\n",
    "optimizer = MADGRAD(model.parameters(), 1e-5)\n",
    "scaler = GradScaler()\n",
    "lr_scheduler = torch.optim.lr_scheduler.CosineAnnealingLR(optimizer, T_max=10, eta_min=1e-8, last_epoch=- 1, verbose=False)"
   ]
  },
  {
   "cell_type": "code",
   "execution_count": 124,
   "metadata": {
    "execution": {
     "iopub.execute_input": "2022-11-21T00:40:59.570713Z",
     "iopub.status.busy": "2022-11-21T00:40:59.570455Z",
     "iopub.status.idle": "2022-11-21T00:44:47.826548Z",
     "shell.execute_reply": "2022-11-21T00:44:47.826087Z",
     "shell.execute_reply.started": "2022-11-21T00:40:59.570695Z"
    },
    "id": "f-bmLtUuQ-LB",
    "tags": []
   },
   "outputs": [
    {
     "name": "stderr",
     "output_type": "stream",
     "text": [
      " 10%|█         | 1/10 [00:22<03:20, 22.30s/it]"
     ]
    },
    {
     "name": "stdout",
     "output_type": "stream",
     "text": [
      "Train Loss:0.7438478469848633 Train Accuracy:0.8200954861111112\n"
     ]
    },
    {
     "name": "stderr",
     "output_type": "stream",
     "text": [
      " 20%|██        | 2/10 [00:44<02:57, 22.15s/it]"
     ]
    },
    {
     "name": "stdout",
     "output_type": "stream",
     "text": [
      "Train Loss:0.14719146490097046 Train Accuracy:0.958984375\n"
     ]
    },
    {
     "name": "stderr",
     "output_type": "stream",
     "text": [
      " 30%|███       | 3/10 [01:07<02:39, 22.82s/it]"
     ]
    },
    {
     "name": "stdout",
     "output_type": "stream",
     "text": [
      "Train Loss:0.08332506567239761 Train Accuracy:0.9781901041666666\n"
     ]
    },
    {
     "name": "stderr",
     "output_type": "stream",
     "text": [
      " 40%|████      | 4/10 [01:30<02:15, 22.63s/it]"
     ]
    },
    {
     "name": "stdout",
     "output_type": "stream",
     "text": [
      "Train Loss:0.055331889539957047 Train Accuracy:0.9864366319444444\n"
     ]
    },
    {
     "name": "stderr",
     "output_type": "stream",
     "text": [
      " 50%|█████     | 5/10 [01:54<01:55, 23.03s/it]"
     ]
    },
    {
     "name": "stdout",
     "output_type": "stream",
     "text": [
      "Train Loss:0.03788801655173302 Train Accuracy:0.9908854166666666\n"
     ]
    },
    {
     "name": "stderr",
     "output_type": "stream",
     "text": [
      " 60%|██████    | 6/10 [02:16<01:30, 22.71s/it]"
     ]
    },
    {
     "name": "stdout",
     "output_type": "stream",
     "text": [
      "Train Loss:0.027390291914343834 Train Accuracy:0.9933810763888888\n"
     ]
    },
    {
     "name": "stderr",
     "output_type": "stream",
     "text": [
      " 70%|███████   | 7/10 [02:40<01:09, 23.17s/it]"
     ]
    },
    {
     "name": "stdout",
     "output_type": "stream",
     "text": [
      "Train Loss:0.022198619320988655 Train Accuracy:0.9949001736111112\n"
     ]
    },
    {
     "name": "stderr",
     "output_type": "stream",
     "text": [
      " 80%|████████  | 8/10 [03:02<00:45, 22.75s/it]"
     ]
    },
    {
     "name": "stdout",
     "output_type": "stream",
     "text": [
      "Train Loss:0.018278952687978745 Train Accuracy:0.9967447916666666\n"
     ]
    },
    {
     "name": "stderr",
     "output_type": "stream",
     "text": [
      " 90%|█████████ | 9/10 [03:25<00:22, 22.86s/it]"
     ]
    },
    {
     "name": "stdout",
     "output_type": "stream",
     "text": [
      "Train Loss:0.016333425417542458 Train Accuracy:0.9970703125\n"
     ]
    },
    {
     "name": "stderr",
     "output_type": "stream",
     "text": [
      "100%|██████████| 10/10 [03:48<00:00, 22.81s/it]"
     ]
    },
    {
     "name": "stdout",
     "output_type": "stream",
     "text": [
      "Train Loss:0.015303732827305794 Train Accuracy:0.9968532986111112\n"
     ]
    },
    {
     "name": "stderr",
     "output_type": "stream",
     "text": [
      "\n"
     ]
    }
   ],
   "source": [
    "train(model, train_dataloader, None, criterion, optimizer, scaler, lr_scheduler, device=\"cuda:0\", n_epochs=10)"
   ]
  },
  {
   "cell_type": "markdown",
   "metadata": {
    "jp-MarkdownHeadingCollapsed": true,
    "tags": []
   },
   "source": [
    "# Predict"
   ]
  },
  {
   "cell_type": "code",
   "execution_count": 125,
   "metadata": {
    "execution": {
     "iopub.execute_input": "2022-11-21T00:44:47.828414Z",
     "iopub.status.busy": "2022-11-21T00:44:47.828281Z",
     "iopub.status.idle": "2022-11-21T00:44:47.833457Z",
     "shell.execute_reply": "2022-11-21T00:44:47.833120Z",
     "shell.execute_reply.started": "2022-11-21T00:44:47.828401Z"
    },
    "tags": []
   },
   "outputs": [],
   "source": [
    "class CarsDatasetTest(torch.utils.data.Dataset):\n",
    "    def __init__(self, path_to_data, transform=False, train=False):\n",
    "        self.path_to_data = path_to_data\n",
    "        self.transform = transform\n",
    "        self.train = train\n",
    "        self.data = []\n",
    "        self._get_data_from_path()\n",
    "        if self.transform:\n",
    "            self._add_augmentations()\n",
    "        #self.data = np.array(self.data)\n",
    "\n",
    "    def _get_data_from_path(self):\n",
    "            for img in tqdm(os.listdir(self.path_to_data)):\n",
    "                if img[0]!='.':\n",
    "                    img = cv2.imread(os.path.join(self.path_to_data, img))\n",
    "                    img = cv2.cvtColor(img, cv2.COLOR_BGR2RGB)\n",
    "                    label = 0\n",
    "                    self.data.append((img, label))\n",
    "\n",
    "    def _add_augmentations(self):\n",
    "        data = self.data.copy()\n",
    "        del self.data\n",
    "        self.data = []\n",
    "        for img, label in tqdm(data):\n",
    "            transformed = self.transform(image=img)\n",
    "            img_tensor = transformed['image']\n",
    "            self.data.append((img_tensor, 0))\n",
    "        del data\n",
    "\n",
    "    def __getitem__(self, idx):\n",
    "        return self.data[idx]\n",
    "        \n",
    "    def __len__(self):\n",
    "        return len(self.data)"
   ]
  },
  {
   "cell_type": "code",
   "execution_count": 126,
   "metadata": {
    "execution": {
     "iopub.execute_input": "2022-11-21T00:44:47.834024Z",
     "iopub.status.busy": "2022-11-21T00:44:47.833900Z",
     "iopub.status.idle": "2022-11-21T00:44:48.988873Z",
     "shell.execute_reply": "2022-11-21T00:44:48.988450Z",
     "shell.execute_reply.started": "2022-11-21T00:44:47.834013Z"
    },
    "tags": []
   },
   "outputs": [
    {
     "name": "stderr",
     "output_type": "stream",
     "text": [
      "100%|██████████| 1437/1437 [00:00<00:00, 2177.65it/s]\n",
      "100%|██████████| 1436/1436 [00:00<00:00, 2970.11it/s]\n"
     ]
    }
   ],
   "source": [
    "path_to_test = './public_test'\n",
    "test_dataset = CarsDatasetTest(path_to_test, transform=val_transform)\n",
    "test_dataloader = DataLoader(test_dataset, batch_size=16)"
   ]
  },
  {
   "cell_type": "code",
   "execution_count": 135,
   "metadata": {
    "execution": {
     "iopub.execute_input": "2022-11-21T00:45:28.550084Z",
     "iopub.status.busy": "2022-11-21T00:45:28.549794Z",
     "iopub.status.idle": "2022-11-21T00:45:28.554768Z",
     "shell.execute_reply": "2022-11-21T00:45:28.554408Z",
     "shell.execute_reply.started": "2022-11-21T00:45:28.550063Z"
    },
    "tags": []
   },
   "outputs": [],
   "source": [
    "def predict(model, val_dataloader, criterion, device=\"cuda:0\"):\n",
    "    model.eval()\n",
    "    predicted_classes = torch.tensor([])\n",
    "    true_classes = torch.tensor([])\n",
    "    total_loss = 0\n",
    "    n_batchs = 0\n",
    "    with torch.no_grad():\n",
    "      for X_batch, y_batch in tqdm(val_dataloader):\n",
    "        X_batch, y_batch = X_batch.to(device), y_batch.to(device)\n",
    "        X_batch_hf = torch.flip(X_batch, dims=(2,))\n",
    "        X_batch_vf = torch.flip(X_batch, dims=(1,))\n",
    "        y_preds = model(X_batch)\n",
    "        y_preds += model(X_batch_hf)\n",
    "        #y_preds += model(X_batch_vf) \n",
    "        y_preds /= 2\n",
    "        total_loss += criterion(y_preds, y_batch)\n",
    "        y_batch = y_batch.cpu()\n",
    "        predicts = model(X_batch)\n",
    "        predicts = torch.argmax(predicts, dim=1).cpu()\n",
    "        predicted_classes = torch.cat((predicted_classes, predicts), dim=0)\n",
    "        true_classes = torch.cat((true_classes, y_batch), dim=0)\n",
    "        n_batchs += 1\n",
    "      total_loss /= n_batchs\n",
    "      return total_loss, predicted_classes.numpy(), true_classes.numpy()"
   ]
  },
  {
   "cell_type": "code",
   "execution_count": 136,
   "metadata": {
    "execution": {
     "iopub.execute_input": "2022-11-21T00:45:28.924405Z",
     "iopub.status.busy": "2022-11-21T00:45:28.924110Z",
     "iopub.status.idle": "2022-11-21T00:45:30.787371Z",
     "shell.execute_reply": "2022-11-21T00:45:30.786963Z",
     "shell.execute_reply.started": "2022-11-21T00:45:28.924384Z"
    },
    "tags": []
   },
   "outputs": [
    {
     "name": "stderr",
     "output_type": "stream",
     "text": [
      "100%|██████████| 90/90 [00:01<00:00, 48.48it/s]\n"
     ]
    }
   ],
   "source": [
    "total_loss, predicted_classes, true_classes = predict(model, test_dataloader, criterion)"
   ]
  },
  {
   "cell_type": "code",
   "execution_count": 137,
   "metadata": {
    "execution": {
     "iopub.execute_input": "2022-11-21T00:45:30.788290Z",
     "iopub.status.busy": "2022-11-21T00:45:30.788143Z",
     "iopub.status.idle": "2022-11-21T00:45:30.793297Z",
     "shell.execute_reply": "2022-11-21T00:45:30.792915Z",
     "shell.execute_reply.started": "2022-11-21T00:45:30.788277Z"
    },
    "tags": []
   },
   "outputs": [],
   "source": [
    "predicted_classes = np.array([label2color(int(preds)) for preds in predicted_classes])"
   ]
  },
  {
   "cell_type": "code",
   "execution_count": 138,
   "metadata": {
    "execution": {
     "iopub.execute_input": "2022-11-21T00:45:30.794173Z",
     "iopub.status.busy": "2022-11-21T00:45:30.793880Z",
     "iopub.status.idle": "2022-11-21T00:45:30.796982Z",
     "shell.execute_reply": "2022-11-21T00:45:30.796672Z",
     "shell.execute_reply.started": "2022-11-21T00:45:30.794157Z"
    },
    "tags": []
   },
   "outputs": [
    {
     "data": {
      "text/plain": [
       "1436"
      ]
     },
     "execution_count": 138,
     "metadata": {},
     "output_type": "execute_result"
    }
   ],
   "source": [
    "len(test_dataset.data)"
   ]
  },
  {
   "cell_type": "code",
   "execution_count": 139,
   "metadata": {
    "execution": {
     "iopub.execute_input": "2022-11-21T00:45:30.932306Z",
     "iopub.status.busy": "2022-11-21T00:45:30.931960Z",
     "iopub.status.idle": "2022-11-21T00:45:30.938054Z",
     "shell.execute_reply": "2022-11-21T00:45:30.937718Z",
     "shell.execute_reply.started": "2022-11-21T00:45:30.932290Z"
    },
    "tags": []
   },
   "outputs": [
    {
     "name": "stderr",
     "output_type": "stream",
     "text": [
      "100%|██████████| 1437/1437 [00:00<00:00, 781739.93it/s]\n"
     ]
    }
   ],
   "source": [
    "imgs=[]\n",
    "for img in tqdm(os.listdir(path_to_test)):\n",
    "    if img[0]!='.':\n",
    "        imgs.append(int(os.path.splitext(img)[0]))\n"
   ]
  },
  {
   "cell_type": "code",
   "execution_count": 140,
   "metadata": {
    "execution": {
     "iopub.execute_input": "2022-11-21T00:45:32.272996Z",
     "iopub.status.busy": "2022-11-21T00:45:32.272632Z",
     "iopub.status.idle": "2022-11-21T00:45:32.276866Z",
     "shell.execute_reply": "2022-11-21T00:45:32.276196Z",
     "shell.execute_reply.started": "2022-11-21T00:45:32.272969Z"
    },
    "tags": []
   },
   "outputs": [],
   "source": [
    "import pandas as pd"
   ]
  },
  {
   "cell_type": "code",
   "execution_count": 141,
   "metadata": {
    "execution": {
     "iopub.execute_input": "2022-11-21T00:45:32.848345Z",
     "iopub.status.busy": "2022-11-21T00:45:32.847981Z",
     "iopub.status.idle": "2022-11-21T00:45:32.859098Z",
     "shell.execute_reply": "2022-11-21T00:45:32.858463Z",
     "shell.execute_reply.started": "2022-11-21T00:45:32.848318Z"
    },
    "tags": []
   },
   "outputs": [
    {
     "data": {
      "text/html": [
       "<div>\n",
       "<style scoped>\n",
       "    .dataframe tbody tr th:only-of-type {\n",
       "        vertical-align: middle;\n",
       "    }\n",
       "\n",
       "    .dataframe tbody tr th {\n",
       "        vertical-align: top;\n",
       "    }\n",
       "\n",
       "    .dataframe thead th {\n",
       "        text-align: right;\n",
       "    }\n",
       "</style>\n",
       "<table border=\"1\" class=\"dataframe\">\n",
       "  <thead>\n",
       "    <tr style=\"text-align: right;\">\n",
       "      <th></th>\n",
       "      <th>0</th>\n",
       "    </tr>\n",
       "  </thead>\n",
       "  <tbody>\n",
       "    <tr>\n",
       "      <th>720</th>\n",
       "      <td>Green</td>\n",
       "    </tr>\n",
       "    <tr>\n",
       "      <th>860</th>\n",
       "      <td>Orange</td>\n",
       "    </tr>\n",
       "    <tr>\n",
       "      <th>683</th>\n",
       "      <td>Cyan</td>\n",
       "    </tr>\n",
       "    <tr>\n",
       "      <th>519</th>\n",
       "      <td>Orange</td>\n",
       "    </tr>\n",
       "    <tr>\n",
       "      <th>418</th>\n",
       "      <td>Cyan</td>\n",
       "    </tr>\n",
       "    <tr>\n",
       "      <th>...</th>\n",
       "      <td>...</td>\n",
       "    </tr>\n",
       "    <tr>\n",
       "      <th>1167</th>\n",
       "      <td>Grey</td>\n",
       "    </tr>\n",
       "    <tr>\n",
       "      <th>954</th>\n",
       "      <td>Orange</td>\n",
       "    </tr>\n",
       "    <tr>\n",
       "      <th>632</th>\n",
       "      <td>Brown</td>\n",
       "    </tr>\n",
       "    <tr>\n",
       "      <th>815</th>\n",
       "      <td>Grey</td>\n",
       "    </tr>\n",
       "    <tr>\n",
       "      <th>1122</th>\n",
       "      <td>Black</td>\n",
       "    </tr>\n",
       "  </tbody>\n",
       "</table>\n",
       "<p>1436 rows × 1 columns</p>\n",
       "</div>"
      ],
      "text/plain": [
       "           0\n",
       "720    Green\n",
       "860   Orange\n",
       "683     Cyan\n",
       "519   Orange\n",
       "418     Cyan\n",
       "...      ...\n",
       "1167    Grey\n",
       "954   Orange\n",
       "632    Brown\n",
       "815     Grey\n",
       "1122   Black\n",
       "\n",
       "[1436 rows x 1 columns]"
      ]
     },
     "execution_count": 141,
     "metadata": {},
     "output_type": "execute_result"
    }
   ],
   "source": [
    "test_df = pd.DataFrame(predicted_classes, index=imgs)\n",
    "test_df"
   ]
  },
  {
   "cell_type": "code",
   "execution_count": 143,
   "metadata": {
    "execution": {
     "iopub.execute_input": "2022-11-21T00:45:56.249545Z",
     "iopub.status.busy": "2022-11-21T00:45:56.249181Z",
     "iopub.status.idle": "2022-11-21T00:45:56.320247Z",
     "shell.execute_reply": "2022-11-21T00:45:56.319734Z",
     "shell.execute_reply.started": "2022-11-21T00:45:56.249517Z"
    },
    "tags": []
   },
   "outputs": [
    {
     "ename": "KeyError",
     "evalue": "0",
     "output_type": "error",
     "traceback": [
      "\u001b[0;31m---------------------------------------------------------------------------\u001b[0m",
      "\u001b[0;31mKeyError\u001b[0m                                  Traceback (most recent call last)",
      "File \u001b[0;32m/opt/conda/lib/python3.10/site-packages/pandas/core/indexes/base.py:3803\u001b[0m, in \u001b[0;36mIndex.get_loc\u001b[0;34m(self, key, method, tolerance)\u001b[0m\n\u001b[1;32m   3802\u001b[0m \u001b[38;5;28;01mtry\u001b[39;00m:\n\u001b[0;32m-> 3803\u001b[0m     \u001b[38;5;28;01mreturn\u001b[39;00m \u001b[38;5;28;43mself\u001b[39;49m\u001b[38;5;241;43m.\u001b[39;49m\u001b[43m_engine\u001b[49m\u001b[38;5;241;43m.\u001b[39;49m\u001b[43mget_loc\u001b[49m\u001b[43m(\u001b[49m\u001b[43mcasted_key\u001b[49m\u001b[43m)\u001b[49m\n\u001b[1;32m   3804\u001b[0m \u001b[38;5;28;01mexcept\u001b[39;00m \u001b[38;5;167;01mKeyError\u001b[39;00m \u001b[38;5;28;01mas\u001b[39;00m err:\n",
      "File \u001b[0;32m/opt/conda/lib/python3.10/site-packages/pandas/_libs/index.pyx:138\u001b[0m, in \u001b[0;36mpandas._libs.index.IndexEngine.get_loc\u001b[0;34m()\u001b[0m\n",
      "File \u001b[0;32m/opt/conda/lib/python3.10/site-packages/pandas/_libs/index.pyx:165\u001b[0m, in \u001b[0;36mpandas._libs.index.IndexEngine.get_loc\u001b[0;34m()\u001b[0m\n",
      "File \u001b[0;32mpandas/_libs/hashtable_class_helper.pxi:5745\u001b[0m, in \u001b[0;36mpandas._libs.hashtable.PyObjectHashTable.get_item\u001b[0;34m()\u001b[0m\n",
      "File \u001b[0;32mpandas/_libs/hashtable_class_helper.pxi:5753\u001b[0m, in \u001b[0;36mpandas._libs.hashtable.PyObjectHashTable.get_item\u001b[0;34m()\u001b[0m\n",
      "\u001b[0;31mKeyError\u001b[0m: 0",
      "\nThe above exception was the direct cause of the following exception:\n",
      "\u001b[0;31mKeyError\u001b[0m                                  Traceback (most recent call last)",
      "Cell \u001b[0;32mIn [143], line 2\u001b[0m\n\u001b[1;32m      1\u001b[0m test_df \u001b[38;5;241m=\u001b[39m test_df\u001b[38;5;241m.\u001b[39msort_index()\n\u001b[0;32m----> 2\u001b[0m test_df \u001b[38;5;241m=\u001b[39m test_df\u001b[38;5;241m.\u001b[39mrename(columns\u001b[38;5;241m=\u001b[39m{\u001b[38;5;241m0\u001b[39m: \u001b[43mtest_df\u001b[49m\u001b[43m[\u001b[49m\u001b[38;5;241;43m0\u001b[39;49m\u001b[43m]\u001b[49m[\u001b[38;5;241m0\u001b[39m]})\n\u001b[1;32m      3\u001b[0m test_df\u001b[38;5;241m.\u001b[39mdrop([\u001b[38;5;241m0\u001b[39m])\u001b[38;5;241m.\u001b[39mreset_index()\u001b[38;5;241m.\u001b[39mdrop(columns\u001b[38;5;241m=\u001b[39m[\u001b[38;5;124m'\u001b[39m\u001b[38;5;124mindex\u001b[39m\u001b[38;5;124m'\u001b[39m])\u001b[38;5;241m.\u001b[39mto_csv(\u001b[38;5;124m'\u001b[39m\u001b[38;5;124mfifth.csv\u001b[39m\u001b[38;5;124m'\u001b[39m,index\u001b[38;5;241m=\u001b[39m\u001b[38;5;28;01mFalse\u001b[39;00m)\n",
      "File \u001b[0;32m/opt/conda/lib/python3.10/site-packages/pandas/core/frame.py:3804\u001b[0m, in \u001b[0;36mDataFrame.__getitem__\u001b[0;34m(self, key)\u001b[0m\n\u001b[1;32m   3802\u001b[0m \u001b[38;5;28;01mif\u001b[39;00m \u001b[38;5;28mself\u001b[39m\u001b[38;5;241m.\u001b[39mcolumns\u001b[38;5;241m.\u001b[39mnlevels \u001b[38;5;241m>\u001b[39m \u001b[38;5;241m1\u001b[39m:\n\u001b[1;32m   3803\u001b[0m     \u001b[38;5;28;01mreturn\u001b[39;00m \u001b[38;5;28mself\u001b[39m\u001b[38;5;241m.\u001b[39m_getitem_multilevel(key)\n\u001b[0;32m-> 3804\u001b[0m indexer \u001b[38;5;241m=\u001b[39m \u001b[38;5;28;43mself\u001b[39;49m\u001b[38;5;241;43m.\u001b[39;49m\u001b[43mcolumns\u001b[49m\u001b[38;5;241;43m.\u001b[39;49m\u001b[43mget_loc\u001b[49m\u001b[43m(\u001b[49m\u001b[43mkey\u001b[49m\u001b[43m)\u001b[49m\n\u001b[1;32m   3805\u001b[0m \u001b[38;5;28;01mif\u001b[39;00m is_integer(indexer):\n\u001b[1;32m   3806\u001b[0m     indexer \u001b[38;5;241m=\u001b[39m [indexer]\n",
      "File \u001b[0;32m/opt/conda/lib/python3.10/site-packages/pandas/core/indexes/base.py:3805\u001b[0m, in \u001b[0;36mIndex.get_loc\u001b[0;34m(self, key, method, tolerance)\u001b[0m\n\u001b[1;32m   3803\u001b[0m     \u001b[38;5;28;01mreturn\u001b[39;00m \u001b[38;5;28mself\u001b[39m\u001b[38;5;241m.\u001b[39m_engine\u001b[38;5;241m.\u001b[39mget_loc(casted_key)\n\u001b[1;32m   3804\u001b[0m \u001b[38;5;28;01mexcept\u001b[39;00m \u001b[38;5;167;01mKeyError\u001b[39;00m \u001b[38;5;28;01mas\u001b[39;00m err:\n\u001b[0;32m-> 3805\u001b[0m     \u001b[38;5;28;01mraise\u001b[39;00m \u001b[38;5;167;01mKeyError\u001b[39;00m(key) \u001b[38;5;28;01mfrom\u001b[39;00m \u001b[38;5;21;01merr\u001b[39;00m\n\u001b[1;32m   3806\u001b[0m \u001b[38;5;28;01mexcept\u001b[39;00m \u001b[38;5;167;01mTypeError\u001b[39;00m:\n\u001b[1;32m   3807\u001b[0m     \u001b[38;5;66;03m# If we have a listlike key, _check_indexing_error will raise\u001b[39;00m\n\u001b[1;32m   3808\u001b[0m     \u001b[38;5;66;03m#  InvalidIndexError. Otherwise we fall through and re-raise\u001b[39;00m\n\u001b[1;32m   3809\u001b[0m     \u001b[38;5;66;03m#  the TypeError.\u001b[39;00m\n\u001b[1;32m   3810\u001b[0m     \u001b[38;5;28mself\u001b[39m\u001b[38;5;241m.\u001b[39m_check_indexing_error(key)\n",
      "\u001b[0;31mKeyError\u001b[0m: 0"
     ]
    }
   ],
   "source": [
    "test_df = test_df.sort_index()\n",
    "test_df = test_df.rename(columns={0: test_df[0][0]})\n",
    "test_df.drop([0]).reset_index().drop(columns=['index']).to_csv('fifth.csv',index=False)"
   ]
  },
  {
   "cell_type": "code",
   "execution_count": 89,
   "metadata": {
    "execution": {
     "iopub.execute_input": "2022-11-21T00:28:00.013429Z",
     "iopub.status.busy": "2022-11-21T00:28:00.013146Z",
     "iopub.status.idle": "2022-11-21T00:28:00.021923Z",
     "shell.execute_reply": "2022-11-21T00:28:00.021408Z",
     "shell.execute_reply.started": "2022-11-21T00:28:00.013407Z"
    },
    "tags": []
   },
   "outputs": [],
   "source": [
    "test_df = test_df.sort_index()\n",
    "test_df = test_df.rename(columns={0: test_df[0][0]})\n",
    "test_df.drop([0]).reset_index().drop(columns=['index']).to_csv(\"first.csv\", index=False)"
   ]
  },
  {
   "cell_type": "code",
   "execution_count": 90,
   "metadata": {
    "execution": {
     "iopub.execute_input": "2022-11-21T00:28:00.616071Z",
     "iopub.status.busy": "2022-11-21T00:28:00.615713Z",
     "iopub.status.idle": "2022-11-21T00:28:00.626425Z",
     "shell.execute_reply": "2022-11-21T00:28:00.625734Z",
     "shell.execute_reply.started": "2022-11-21T00:28:00.616044Z"
    },
    "tags": []
   },
   "outputs": [
    {
     "name": "stdout",
     "output_type": "stream",
     "text": [
      "Green Orange Cyan Orange Cyan Red Orange Green Red White Yellow Yellow Yellow White Blue Green White White Green Brown Red Orange White Orange Orange Orange Yellow White Blue Red Brown Green White Grey Green Yellow Red Orange Orange Yellow White Brown Yellow Orange Yellow Black Grey Orange Red Blue Brown Orange Green Black Red Green Red Yellow White Violet Black Violet Red Black Orange Orange White Blue Cyan Red Yellow White Violet Red Violet Black Violet White Violet Red Orange Red Yellow White White Cyan Red White Black Yellow Violet Grey White Yellow White Green Cyan Green Orange Yellow Yellow Orange Grey Orange Grey Violet Orange Green White Orange White Red Orange Red Green Grey Yellow Orange Red White Yellow Black Black Orange Brown Green White Red Black Orange Violet Green Red Orange Cyan Orange Yellow Blue Blue Red Blue Orange Green Red Green Red Brown Orange Yellow White Red Brown Green Green Black Violet Orange Red Grey Grey Orange Cyan Green Green Orange White Yellow Yellow Green Red White Yellow Black Yellow White Blue Orange Blue Blue White Black Brown White White Violet Yellow Blue Yellow Black Orange Orange Cyan Blue Grey Orange White Red Brown Grey Red Brown Orange Brown Grey Green Green Grey Red Black White Blue Orange Red Grey Yellow Brown Green Green Black Violet Red Grey Green Grey Black Green Orange Violet Orange Blue White Blue Red Orange Grey White Yellow Grey White Orange Orange Red Green Green White Green Red Red Grey Orange Red Green Blue Orange Orange Black Green Yellow Violet Black Grey Red White Blue Orange White Grey Violet Orange Yellow Red Orange Orange Green White Grey White Orange White Orange Black Green Red White Orange Black Grey Orange Cyan Yellow White Grey White Yellow Red Red Orange Red Red Brown Grey Orange Yellow Violet Violet Violet Orange Green Blue Green Red Blue Red Green White White Orange Yellow White Orange Yellow Yellow Orange White Orange Blue Yellow Yellow Cyan Yellow Brown Yellow Black Orange Blue Orange Grey White Violet Yellow Blue Orange Brown Orange Orange White Violet Orange Black Green Blue Cyan Orange Red Yellow Orange Red Yellow Orange Green Black Grey Black Red Black Grey Blue Orange Blue Orange Orange Grey Black White Cyan Black Red Cyan Orange Violet Violet Red Orange Black Grey White White White Orange Violet Orange Violet Green Blue Cyan Cyan Red Red Blue Grey Orange Yellow Grey Orange Cyan Orange Cyan Orange Blue Green Orange Black Yellow White White Violet Orange Green Orange Green Yellow Yellow Red Yellow Green Orange Violet White Cyan White Red Grey Brown Cyan White Black Brown Green Cyan Orange Violet Blue Brown Grey Red Orange Cyan White Red White White Black White Red Brown Green Black Orange Orange Violet Red White Black Grey Orange Yellow Orange White Red Violet Grey Black Green Yellow Green Cyan White Orange Orange Cyan Violet Orange White Cyan White Red White Brown Black Yellow Red Grey Grey Green Black Orange Brown Yellow Orange Yellow Brown Grey Red Red Red Cyan Brown Red Orange Blue Orange Orange Red Cyan Black Black Orange Cyan Orange Violet White Black Blue Orange Blue Black Brown Violet Grey Orange Red Orange Green Orange Brown White Orange Cyan Green Green Grey Blue Violet Blue Cyan Grey Black White Grey Red Orange Yellow Red Yellow Green Orange Red Yellow White Brown Red Violet Black Red Red Yellow Black Cyan Green Black Red Grey Red Black Cyan Black Cyan Orange Red Black Yellow Yellow Yellow Brown Orange Cyan Orange White White Cyan Grey Black Orange Red Black Red Blue Orange Orange Cyan White Black Cyan Black Red Orange Red Black Blue Orange Blue Red Green Blue Blue Orange Blue Black Violet White White Orange Blue Cyan Orange Green Black Blue Yellow Orange Blue Orange Black Black Orange Yellow Grey Blue Blue Violet White Orange Green Black Yellow Green Orange Black Grey White Red Grey Green Brown Blue Orange Violet Violet Black Green Black White Cyan Cyan Orange Green Violet Orange Red Yellow Orange Green Blue Brown Red Blue Orange Cyan Grey Orange Orange Cyan Black Orange Black Green Red Orange Brown Red Brown Yellow Yellow White Orange Cyan Black Grey Orange Violet Violet Cyan Violet Orange Green Black Brown Brown Black Orange Orange Orange Grey Brown Red Black Violet Orange Orange White Brown Orange Red White Orange Red Red Orange Red Green Black White Yellow Blue Blue Cyan Violet Orange Cyan Yellow Red Blue Green Yellow Yellow Black Black Green White Blue Yellow Blue Red Yellow Yellow Orange Blue White Red White Green Violet Yellow Green Red Orange White Cyan Black White Yellow Orange Red Black Orange Red Yellow Black Red Red Yellow Red Grey Grey Black Grey Orange Cyan Red Blue Green Orange Cyan Black Yellow White Black Black Orange Brown Yellow Black Red Violet Cyan White Black Orange Black White Green Blue Orange Yellow Black Yellow Brown Blue Violet Orange Orange Orange Green Red Blue Brown White Yellow Black Green Blue Blue Cyan White White Brown White Black White Grey Yellow Red Brown Brown Orange Green Yellow Red Green Orange White Violet Black Yellow Grey Violet Yellow Brown Cyan Blue Yellow Black Black Violet Orange Orange Orange Violet Black Grey White Orange Yellow Black Yellow Orange Violet Yellow Black Black Orange Blue Grey Red Black Yellow Cyan Yellow Grey Black Brown Yellow Black White Orange Yellow Orange Orange Orange Brown Black Black Cyan Yellow Green White Orange Green Red Black Orange Red Yellow Orange Yellow Black Yellow Orange Grey Orange Yellow Green Yellow Grey Orange Grey Red Brown Orange Brown Violet Blue Grey White Black Violet Yellow Yellow Violet Green Red Blue Black Black Orange Yellow Red Cyan Black Black Orange Red Black Orange Red Blue Blue Blue Blue Grey Black Brown Green White White White Yellow Yellow Blue White Red Red Green Yellow Cyan Grey White Orange Brown Brown Orange Brown Grey Yellow Grey Orange Cyan Violet Cyan Black Blue Blue Brown Black Grey Red Brown Red Violet Black Yellow Black White Grey Cyan Black Black Orange Orange Orange Black Brown Green Yellow Grey Blue Green Green White Cyan Cyan Brown Violet Red Blue Red Red Yellow Orange Red Cyan White Yellow Violet Orange Orange Black Yellow Orange White Black Red Orange Blue Red Black Orange Black Orange Orange Orange Black White Yellow Grey Grey Yellow Brown Cyan Orange Black Yellow Orange Blue White White Red Brown Violet Grey Cyan Cyan Red Green Orange Yellow Yellow Red Orange Blue Green Red Brown Black Yellow White Black White Violet Orange Grey Cyan Orange White Grey Brown Orange Cyan Cyan Black Orange Cyan Orange Green Red Red Black Yellow Cyan Black Black Orange Yellow White Yellow Yellow Brown Green Violet White Yellow Yellow Green Orange Green Yellow Violet Grey Brown Blue Orange Cyan Violet Brown Orange Orange Red Orange Grey Orange White Orange Yellow Orange Cyan Red Black White Orange Cyan Green Orange Green Black Violet Orange Red Cyan Orange Blue Black Grey Blue Yellow Cyan Red White Yellow Red Grey Red Grey Red Orange Cyan Cyan White Black Orange Orange Yellow Grey Green Brown Violet Grey White Black Red Black Cyan Blue Black Violet Black Green White Orange Grey Green Orange Blue Orange Cyan Yellow Orange Red Yellow Green Yellow Brown Green Green Orange White Black Orange Green Grey White Yellow White Black Brown Green Green Black Black Cyan Green Black Cyan White Black Black Grey Black White Yellow White Yellow Orange Blue Green Red Cyan Cyan Red Orange Orange Grey White Orange Orange Red Red Orange White Green Green Black Grey Cyan Cyan Orange Blue Orange Brown White Violet Orange Cyan Yellow Grey Grey Yellow Violet Yellow Violet Yellow Yellow Cyan Brown Yellow White Green Red Grey Yellow Grey Green Cyan Blue White Orange Cyan Yellow Grey Orange White Orange Cyan Yellow Yellow Cyan Brown Grey Orange Blue Red Green Orange Green Grey White Orange Green Yellow Orange Violet Brown Yellow Blue Cyan Orange Blue Green Black Yellow Cyan Red Green Black Orange Orange Black Grey Red White Cyan Red Orange Orange White White Red Green White Violet White Green Orange Green White Green Cyan Orange White Green Yellow White Yellow Brown Green White Brown Red Brown Red Brown Yellow Grey Red Green Black Yellow Orange Red Green Black Green Black Red Yellow Green Black Yellow Black Orange Orange White Yellow Green Yellow Black Red White Blue Blue Black Violet White Yellow Red Orange White Violet Yellow Blue Yellow Green Green Orange Violet White Orange Cyan Orange White Grey Blue Cyan Black White Green Orange Grey Green Yellow Black Black Grey Orange Brown Grey Black\n"
     ]
    }
   ],
   "source": [
    "print(*predicted_classes)"
   ]
  },
  {
   "cell_type": "code",
   "execution_count": 49,
   "metadata": {
    "execution": {
     "iopub.execute_input": "2022-11-21T00:14:35.900782Z",
     "iopub.status.busy": "2022-11-21T00:14:35.900476Z",
     "iopub.status.idle": "2022-11-21T00:14:35.907943Z",
     "shell.execute_reply": "2022-11-21T00:14:35.907200Z",
     "shell.execute_reply.started": "2022-11-21T00:14:35.900755Z"
    },
    "tags": []
   },
   "outputs": [],
   "source": [
    "submit = pd.read_csv('sample_submission.csv')\n",
    "submit_df = submit_df.rename(columns={\"corrupted_text\": submit_df[\"corrupted_text\"][0]})\n",
    "submit_df.drop([0]).reset_index().drop(columns=['index']).to_csv(OUTPUT_PATH + \"submission_double_bigrams.csv\", index=False)\n",
    "\n"
   ]
  },
  {
   "cell_type": "code",
   "execution_count": 50,
   "metadata": {
    "execution": {
     "iopub.execute_input": "2022-11-21T00:14:39.964372Z",
     "iopub.status.busy": "2022-11-21T00:14:39.964018Z",
     "iopub.status.idle": "2022-11-21T00:14:39.974326Z",
     "shell.execute_reply": "2022-11-21T00:14:39.973474Z",
     "shell.execute_reply.started": "2022-11-21T00:14:39.964345Z"
    }
   },
   "outputs": [
    {
     "data": {
      "text/html": [
       "<div>\n",
       "<style scoped>\n",
       "    .dataframe tbody tr th:only-of-type {\n",
       "        vertical-align: middle;\n",
       "    }\n",
       "\n",
       "    .dataframe tbody tr th {\n",
       "        vertical-align: top;\n",
       "    }\n",
       "\n",
       "    .dataframe thead th {\n",
       "        text-align: right;\n",
       "    }\n",
       "</style>\n",
       "<table border=\"1\" class=\"dataframe\">\n",
       "  <thead>\n",
       "    <tr style=\"text-align: right;\">\n",
       "      <th></th>\n",
       "      <th>Red</th>\n",
       "    </tr>\n",
       "  </thead>\n",
       "  <tbody>\n",
       "    <tr>\n",
       "      <th>0</th>\n",
       "      <td>Grey</td>\n",
       "    </tr>\n",
       "    <tr>\n",
       "      <th>1</th>\n",
       "      <td>Cyan</td>\n",
       "    </tr>\n",
       "    <tr>\n",
       "      <th>2</th>\n",
       "      <td>Black</td>\n",
       "    </tr>\n",
       "    <tr>\n",
       "      <th>3</th>\n",
       "      <td>Violet</td>\n",
       "    </tr>\n",
       "    <tr>\n",
       "      <th>4</th>\n",
       "      <td>Yellow</td>\n",
       "    </tr>\n",
       "    <tr>\n",
       "      <th>...</th>\n",
       "      <td>...</td>\n",
       "    </tr>\n",
       "    <tr>\n",
       "      <th>1430</th>\n",
       "      <td>Red</td>\n",
       "    </tr>\n",
       "    <tr>\n",
       "      <th>1431</th>\n",
       "      <td>Blue</td>\n",
       "    </tr>\n",
       "    <tr>\n",
       "      <th>1432</th>\n",
       "      <td>Yellow</td>\n",
       "    </tr>\n",
       "    <tr>\n",
       "      <th>1433</th>\n",
       "      <td>Grey</td>\n",
       "    </tr>\n",
       "    <tr>\n",
       "      <th>1434</th>\n",
       "      <td>White</td>\n",
       "    </tr>\n",
       "  </tbody>\n",
       "</table>\n",
       "<p>1435 rows × 1 columns</p>\n",
       "</div>"
      ],
      "text/plain": [
       "         Red\n",
       "0       Grey\n",
       "1       Cyan\n",
       "2      Black\n",
       "3     Violet\n",
       "4     Yellow\n",
       "...      ...\n",
       "1430     Red\n",
       "1431    Blue\n",
       "1432  Yellow\n",
       "1433    Grey\n",
       "1434   White\n",
       "\n",
       "[1435 rows x 1 columns]"
      ]
     },
     "execution_count": 50,
     "metadata": {},
     "output_type": "execute_result"
    }
   ],
   "source": [
    "submit"
   ]
  },
  {
   "cell_type": "markdown",
   "metadata": {
    "id": "VF09HhHj40xU",
    "jp-MarkdownHeadingCollapsed": true,
    "tags": []
   },
   "source": [
    "# Adding TTA"
   ]
  },
  {
   "cell_type": "code",
   "execution_count": null,
   "metadata": {},
   "outputs": [],
   "source": []
  },
  {
   "cell_type": "code",
   "execution_count": null,
   "metadata": {
    "execution": {
     "iopub.status.busy": "2022-11-20T23:13:02.274699Z",
     "iopub.status.idle": "2022-11-20T23:13:02.274844Z",
     "shell.execute_reply": "2022-11-20T23:13:02.274775Z",
     "shell.execute_reply.started": "2022-11-20T23:13:02.274768Z"
    },
    "id": "rTFeXkHLBorB"
   },
   "outputs": [],
   "source": [
    "import torch"
   ]
  },
  {
   "cell_type": "code",
   "execution_count": 76,
   "metadata": {
    "execution": {
     "iopub.execute_input": "2022-11-21T00:26:30.263676Z",
     "iopub.status.busy": "2022-11-21T00:26:30.263360Z",
     "iopub.status.idle": "2022-11-21T00:26:30.276995Z",
     "shell.execute_reply": "2022-11-21T00:26:30.276147Z",
     "shell.execute_reply.started": "2022-11-21T00:26:30.263651Z"
    },
    "id": "WSihPJbE4x8Q",
    "tags": []
   },
   "outputs": [],
   "source": [
    "def train_one_epoch(model, train_dataloader, criterion, optimizer, scaler, device=\"cuda:0\"):\n",
    "    model.train()\n",
    "    total_loss = 0\n",
    "    total_accuracy = 0\n",
    "    n_batchs = 0\n",
    "    for X_batch, y_batch in train_dataloader:\n",
    "      optimizer.zero_grad()\n",
    "      X_batch, y_batch = X_batch.to(device), y_batch.to(device)\n",
    "      with torch.autocast(device_type='cuda', dtype=torch.float16):\n",
    "        y_preds = model(X_batch)\n",
    "        loss = criterion(y_preds, y_batch)\n",
    "        total_loss += loss\n",
    "      scaler.scale(loss).backward()\n",
    "      scaler.step(optimizer)\n",
    "      scaler.update()\n",
    "      total_accuracy += accuracy_score(y_batch.cpu().numpy(), torch.argmax(y_preds, dim=-1).detach().cpu().numpy())\n",
    "      n_batchs += 1\n",
    "    total_accuracy /= n_batchs\n",
    "    total_loss /= n_batchs\n",
    "    return total_accuracy, total_loss\n",
    "\n",
    "def predict(model, val_dataloder, criterion, device=\"cuda:0\"):\n",
    "    model.eval()\n",
    "    predicted_classes = torch.tensor([])\n",
    "    true_classes = torch.tensor([])\n",
    "    total_loss = 0\n",
    "    n_batchs = 0\n",
    "    with torch.no_grad():\n",
    "      for X_batch, y_batch in tqdm(val_dataloader):\n",
    "        X_batch, y_batch = X_batch.to(device), y_batch.to(device)\n",
    "        X_batch_hf = torch.flip(X_batch, dims=(2,))\n",
    "        X_batch_vf = torch.flip(X_batch, dims=(1,))\n",
    "        y_preds = model(X_batch)\n",
    "        y_preds += model(X_batch_hf)\n",
    "        y_preds += model(X_batch_vf) \n",
    "        y_preds /= 3\n",
    "        total_loss += criterion(y_preds, y_batch)\n",
    "        y_batch = y_batch.cpu()\n",
    "        predicts = model(X_batch)\n",
    "        predicts = torch.argmax(predicts, dim=1).cpu()\n",
    "        predicted_classes = torch.cat((predicted_classes, predicts), dim=0)\n",
    "        true_classes = torch.cat((true_classes, y_batch), dim=0)\n",
    "        n_batchs += 1\n",
    "      total_loss /= n_batchs\n",
    "      return total_loss, predicted_classes.numpy(), true_classes.numpy()\n",
    "\n",
    "def train(model, train_dataloader, val_dataloader, criterion, optimizer, scaler, lr_scheduler, device=\"cuda:0\", n_epochs=10):\n",
    "    model.to(device)\n",
    "    for epoch in tqdm(range(n_epochs)):\n",
    "        train_acc, train_loss = train_one_epoch(model, train_dataloader, criterion, optimizer, device=device)\n",
    "        if lr_scheduler is not None: \n",
    "            lr_scheduler.step()\n",
    "        #val_loss, predicted_classes, true_classes = predict(model, val_dataloader, criterion, val_dataloader_hf, device=device)\n",
    "        #val_acc = accuracy_score(true_classes, predicted_classes)\n",
    "        print(f'Train Loss:{train_loss} Train Accuracy:{train_acc}')\n",
    "        #print(f'Val Loss:{val_loss} Val Accuracy:{val_acc} ')\n",
    "        #del true_classes, predicted_classes"
   ]
  },
  {
   "cell_type": "code",
   "execution_count": null,
   "metadata": {},
   "outputs": [],
   "source": []
  },
  {
   "cell_type": "code",
   "execution_count": null,
   "metadata": {
    "execution": {
     "iopub.status.busy": "2022-11-20T23:13:02.275201Z",
     "iopub.status.idle": "2022-11-20T23:13:02.275341Z",
     "shell.execute_reply": "2022-11-20T23:13:02.275274Z",
     "shell.execute_reply.started": "2022-11-20T23:13:02.275268Z"
    },
    "id": "4T1IFC_r_CEF"
   },
   "outputs": [],
   "source": [
    "t = torch.Tensor([\n",
    "    [[1, 2, 3],\n",
    "     [4, 5, 6],\n",
    "     [0, -1, -2]],\n",
    "    [[7, 8, 9],\n",
    "     [10, 11, 12],\n",
    "     [0, -1, -2]],\n",
    "    [[13, 14, 15],\n",
    "     [16, 17, 18], \n",
    "     [0, -1, -2]],\n",
    "\n",
    "])"
   ]
  },
  {
   "cell_type": "code",
   "execution_count": null,
   "metadata": {
    "colab": {
     "base_uri": "https://localhost:8080/"
    },
    "execution": {
     "iopub.status.busy": "2022-11-20T23:13:02.275821Z",
     "iopub.status.idle": "2022-11-20T23:13:02.275964Z",
     "shell.execute_reply": "2022-11-20T23:13:02.275897Z",
     "shell.execute_reply.started": "2022-11-20T23:13:02.275890Z"
    },
    "id": "ZoMVG_4-BnD4",
    "outputId": "a82f54db-2882-4569-ad44-b00b70e8fda7"
   },
   "outputs": [],
   "source": [
    "h_flip = torch.flip(t, dims=(2,))\n",
    "h_flip"
   ]
  },
  {
   "cell_type": "code",
   "execution_count": null,
   "metadata": {
    "colab": {
     "base_uri": "https://localhost:8080/"
    },
    "execution": {
     "iopub.status.busy": "2022-11-20T23:13:02.276521Z",
     "iopub.status.idle": "2022-11-20T23:13:02.276668Z",
     "shell.execute_reply": "2022-11-20T23:13:02.276598Z",
     "shell.execute_reply.started": "2022-11-20T23:13:02.276591Z"
    },
    "id": "yp8GDu0ZCEQz",
    "outputId": "163c002d-71da-4612-ea9f-bbebbaab4491",
    "tags": []
   },
   "outputs": [],
   "source": [
    "v_flip = torch.flip(t, dims=(1,))\n",
    "v_flip"
   ]
  },
  {
   "cell_type": "markdown",
   "metadata": {
    "execution": {
     "iopub.execute_input": "2022-11-21T10:58:16.042221Z",
     "iopub.status.busy": "2022-11-21T10:58:16.041986Z",
     "iopub.status.idle": "2022-11-21T10:58:16.044722Z",
     "shell.execute_reply": "2022-11-21T10:58:16.044306Z",
     "shell.execute_reply.started": "2022-11-21T10:58:16.042208Z"
    },
    "id": "I9IUK5-DCT4E"
   },
   "source": [
    "# CrossVal"
   ]
  },
  {
   "cell_type": "code",
   "execution_count": 4,
   "metadata": {
    "execution": {
     "iopub.execute_input": "2022-11-22T09:19:34.041029Z",
     "iopub.status.busy": "2022-11-22T09:19:34.040718Z",
     "iopub.status.idle": "2022-11-22T09:19:34.044982Z",
     "shell.execute_reply": "2022-11-22T09:19:34.044339Z",
     "shell.execute_reply.started": "2022-11-22T09:19:34.041014Z"
    },
    "tags": []
   },
   "outputs": [],
   "source": [
    "def color2label(color):\n",
    "    c2l = {\n",
    "        'Black': 0,\n",
    "        'Blue': 1,\n",
    "        'Brown': 2,\n",
    "        'Cyan': 3,\n",
    "        'Green': 4,\n",
    "        'Grey': 5,\n",
    "        'Orange': 6,\n",
    "        'Red': 7,\n",
    "        'Violet': 8,\n",
    "        'White': 9,\n",
    "        'Yellow': 10\n",
    "    }\n",
    "\n",
    "    return c2l[color]\n",
    "def label2color(label):\n",
    "    c2l = {\n",
    "        'Black': 0,\n",
    "        'Blue': 1,\n",
    "        'Brown': 2,\n",
    "        'Cyan': 3,\n",
    "        'Green': 4,\n",
    "        'Grey': 5,\n",
    "        'Orange': 6,\n",
    "        'Red': 7,\n",
    "        'Violet': 8,\n",
    "        'White': 9,\n",
    "        'Yellow': 10\n",
    "    }\n",
    "    l2c = {v: k for k, v in c2l.items()}\n",
    "    return l2c[label]"
   ]
  },
  {
   "cell_type": "code",
   "execution_count": 5,
   "metadata": {
    "execution": {
     "iopub.execute_input": "2022-11-22T09:19:34.434346Z",
     "iopub.status.busy": "2022-11-22T09:19:34.434103Z",
     "iopub.status.idle": "2022-11-22T09:19:34.438423Z",
     "shell.execute_reply": "2022-11-22T09:19:34.437744Z",
     "shell.execute_reply.started": "2022-11-22T09:19:34.434331Z"
    },
    "tags": []
   },
   "outputs": [],
   "source": [
    "size = 256\n",
    "train_transform = A.Compose([\n",
    "    A.LongestMaxSize(size),\n",
    "    A.PadIfNeeded(size, size),\n",
    "    A.VerticalFlip(p=0.5),\n",
    "    A.HorizontalFlip(p=0.5),\n",
    "    A.PixelDropout(dropout_prob=1e-3),\n",
    "    A.Normalize(),\n",
    "    ToTensorV2(),\n",
    "\n",
    "])\n",
    "val_transform = A.Compose([ \n",
    "    A.LongestMaxSize(size),\n",
    "    A.PadIfNeeded(size, size), \n",
    "    A.VerticalFlip(p=1),\n",
    "    A.Normalize(), \n",
    "    ToTensorV2()])"
   ]
  },
  {
   "cell_type": "code",
   "execution_count": 6,
   "metadata": {
    "execution": {
     "iopub.execute_input": "2022-11-22T09:19:36.013361Z",
     "iopub.status.busy": "2022-11-22T09:19:36.012993Z",
     "iopub.status.idle": "2022-11-22T09:19:36.023812Z",
     "shell.execute_reply": "2022-11-22T09:19:36.023157Z",
     "shell.execute_reply.started": "2022-11-22T09:19:36.013333Z"
    },
    "tags": []
   },
   "outputs": [],
   "source": [
    "def label_weight(label):\n",
    "    lw = {\n",
    "        0: 2,\n",
    "        1: 3,\n",
    "        2: 8,\n",
    "        3: 3,\n",
    "        4: 3,\n",
    "        5: 2,\n",
    "        6: 1,\n",
    "        7: 1,\n",
    "        8: 8,\n",
    "        9: 2,\n",
    "        10: 2\n",
    "    }\n",
    "\n",
    "    return lw[label]\n",
    "class CarsDataset3(torch.utils.data.Dataset):\n",
    "    def __init__(self, path_to_data, transform=False, train=False):\n",
    "        self.path_to_data = path_to_data\n",
    "        self.transform = transform\n",
    "        self.train = train\n",
    "        self.data = []\n",
    "        self.labels = []\n",
    "        self._get_data_from_path()\n",
    "        self.data = np.array(self.data)\n",
    "        self.labels = np.array(self.labels)\n",
    "\n",
    "    def _get_data_from_path(self):\n",
    "        for folder in tqdm(os.listdir(self.path_to_data)):\n",
    "            img_folder = os.path.join(self.path_to_data, folder)\n",
    "            for img in os.listdir(img_folder):\n",
    "                img = cv2.imread(os.path.join(img_folder, img))\n",
    "                img = cv2.cvtColor(img, cv2.COLOR_BGR2RGB)\n",
    "                label = color2label(folder)\n",
    "                size = 256\n",
    "                transform = A.Compose([\n",
    "                                        A.LongestMaxSize(size),\n",
    "                                        A.PadIfNeeded(size, size)])\n",
    "                transformed = transform(image=img)\n",
    "                img_tensor = transformed['image']\n",
    "                self.data.append(img_tensor)\n",
    "                self.labels.append(label)\n",
    "\n",
    "    def __getitem__(self, idx):\n",
    "        return self.data[idx], self.labels[idx]\n",
    "        \n",
    "    def __len__(self):\n",
    "        return self.data.shape[0]"
   ]
  },
  {
   "cell_type": "code",
   "execution_count": 7,
   "metadata": {
    "execution": {
     "iopub.execute_input": "2022-11-22T09:19:37.646427Z",
     "iopub.status.busy": "2022-11-22T09:19:37.646128Z",
     "iopub.status.idle": "2022-11-22T09:19:39.950847Z",
     "shell.execute_reply": "2022-11-22T09:19:39.950388Z",
     "shell.execute_reply.started": "2022-11-22T09:19:37.646407Z"
    },
    "tags": []
   },
   "outputs": [
    {
     "name": "stderr",
     "output_type": "stream",
     "text": [
      "100%|██████████| 11/11 [00:02<00:00,  4.99it/s]\n"
     ]
    }
   ],
   "source": [
    "path_to_train = './train'\n",
    "train_dataset = CarsDataset3(path_to_train)"
   ]
  },
  {
   "cell_type": "code",
   "execution_count": 8,
   "metadata": {
    "execution": {
     "iopub.execute_input": "2022-11-22T09:19:42.129174Z",
     "iopub.status.busy": "2022-11-22T09:19:42.128962Z",
     "iopub.status.idle": "2022-11-22T09:19:42.144216Z",
     "shell.execute_reply": "2022-11-22T09:19:42.143568Z",
     "shell.execute_reply.started": "2022-11-22T09:19:42.129160Z"
    },
    "id": "m9vMjcYai5mR",
    "tags": []
   },
   "outputs": [],
   "source": [
    "import math\n",
    "import torch\n",
    "import torch.optim\n",
    "\n",
    "from typing import TYPE_CHECKING, Any, Callable, Optional\n",
    "\n",
    "if TYPE_CHECKING:\n",
    "    from torch.optim.optimizer import _params_t\n",
    "else:\n",
    "    _params_t = Any\n",
    "\n",
    "class MADGRAD(torch.optim.Optimizer):\n",
    "    def __init__(\n",
    "        self, params: _params_t, lr: float = 1e-2, momentum: float = 0.9, \n",
    "        weight_decay: float = 0, eps: float = 1e-6, decouple_decay=False,\n",
    "    ):\n",
    "        if momentum < 0 or momentum >= 1:\n",
    "            raise ValueError(f\"Momentum {momentum} must be in the range [0,1)\")\n",
    "        if lr <= 0:\n",
    "            raise ValueError(f\"Learning rate {lr} must be positive\")\n",
    "        if weight_decay < 0:\n",
    "            raise ValueError(f\"Weight decay {weight_decay} must be non-negative\")\n",
    "        if eps < 0:\n",
    "            raise ValueError(f\"Eps must be non-negative\")\n",
    "\n",
    "        defaults = dict(lr=lr, eps=eps, momentum=momentum, \n",
    "                        weight_decay=weight_decay, decouple_decay=decouple_decay)\n",
    "        super().__init__(params, defaults)\n",
    "\n",
    "    @property\n",
    "    def supports_memory_efficient_fp16(self) -> bool:\n",
    "        return False\n",
    "\n",
    "    @property\n",
    "    def supports_flat_params(self) -> bool:\n",
    "        return True\n",
    "\n",
    "    def step(self, closure: Optional[Callable[[], float]] = None) -> Optional[float]:\n",
    "        \"\"\"Performs a single optimization step.\n",
    "        Arguments:\n",
    "            closure (callable, optional): A closure that reevaluates the model\n",
    "                and returns the loss.\n",
    "        \"\"\"\n",
    "        loss = None\n",
    "        if closure is not None:\n",
    "            loss = closure()\n",
    "\n",
    "        # step counter must be stored in state to ensure correct behavior under\n",
    "        # optimizer sharding\n",
    "        if 'k' not in self.state:\n",
    "            self.state['k'] = torch.tensor([0], dtype=torch.long)\n",
    "        k = self.state['k'].item()\n",
    "\n",
    "        for group in self.param_groups:\n",
    "            eps = group[\"eps\"]\n",
    "            lr = group[\"lr\"] + eps\n",
    "            decay = group[\"weight_decay\"]\n",
    "            momentum = group[\"momentum\"]\n",
    "            decouple_decay = group[\"decouple_decay\"]\n",
    "\n",
    "            ck = 1 - momentum\n",
    "            lamb = lr * math.pow(k + 1, 0.5)\n",
    "\n",
    "            for p in group[\"params\"]:\n",
    "                if p.grad is None:\n",
    "                    continue\n",
    "                grad = p.grad.data\n",
    "                state = self.state[p]\n",
    "\n",
    "                if \"grad_sum_sq\" not in state:\n",
    "                    state[\"grad_sum_sq\"] = torch.zeros_like(p.data).detach()\n",
    "                    state[\"s\"] = torch.zeros_like(p.data).detach()\n",
    "                    if momentum != 0:\n",
    "                        state[\"x0\"] = torch.clone(p.data).detach()\n",
    "\n",
    "                if momentum != 0.0 and grad.is_sparse:\n",
    "                    raise RuntimeError(\"momentum != 0 is not compatible with sparse gradients\")\n",
    "\n",
    "                grad_sum_sq = state[\"grad_sum_sq\"]\n",
    "                s = state[\"s\"]\n",
    "\n",
    "                # Apply weight decay\n",
    "                if decay != 0 and not decouple_decay:\n",
    "                    if grad.is_sparse:\n",
    "                        raise RuntimeError(\"weight_decay option is not compatible with sparse gradients\")\n",
    "\n",
    "                    grad.add_(p.data, alpha=decay)\n",
    "\n",
    "                if grad.is_sparse:\n",
    "                    grad = grad.coalesce()\n",
    "                    grad_val = grad._values()\n",
    "\n",
    "                    p_masked = p.sparse_mask(grad)\n",
    "                    grad_sum_sq_masked = grad_sum_sq.sparse_mask(grad)\n",
    "                    s_masked = s.sparse_mask(grad)\n",
    "\n",
    "                    # Compute x_0 from other known quantities\n",
    "                    rms_masked_vals = grad_sum_sq_masked._values().pow(1 / 3).add_(eps)\n",
    "                    x0_masked_vals = p_masked._values().addcdiv(s_masked._values(), rms_masked_vals, value=1)\n",
    "\n",
    "                    # Dense + sparse op\n",
    "                    grad_sq = grad * grad\n",
    "                    grad_sum_sq.add_(grad_sq, alpha=lamb)\n",
    "                    grad_sum_sq_masked.add_(grad_sq, alpha=lamb)\n",
    "\n",
    "                    rms_masked_vals = grad_sum_sq_masked._values().pow_(1 / 3).add_(eps)\n",
    "\n",
    "                    if eps == 0:\n",
    "                        rms_masked_vals[rms_masked_vals == 0] = float('inf')\n",
    "\n",
    "                    s.add_(grad, alpha=lamb)\n",
    "                    s_masked._values().add_(grad_val, alpha=lamb)\n",
    "\n",
    "                    # update masked copy of p\n",
    "                    p_kp1_masked_vals = x0_masked_vals.addcdiv(s_masked._values(), rms_masked_vals, value=-1)\n",
    "                    # Copy updated masked p to dense p using an add operation\n",
    "                    p_masked._values().add_(p_kp1_masked_vals, alpha=-1)\n",
    "                    p.data.add_(p_masked, alpha=-1)\n",
    "                else:\n",
    "                    if momentum == 0:\n",
    "                        # Compute x_0 from other known quantities\n",
    "                        rms = grad_sum_sq.pow(1 / 3).add_(eps)\n",
    "                        x0 = p.data.addcdiv(s, rms, value=1)\n",
    "                    else:\n",
    "                        x0 = state[\"x0\"]\n",
    "\n",
    "                    # Accumulate second moments\n",
    "                    grad_sum_sq.addcmul_(grad, grad, value=lamb)\n",
    "                    rms = grad_sum_sq.pow(1 / 3).add_(eps)\n",
    "\n",
    "                    if eps == 0:\n",
    "                        rms[rms == 0] = float('inf')\n",
    "\n",
    "                    # Update s\n",
    "                    s.data.add_(grad, alpha=lamb)\n",
    "\n",
    "                    if decay != 0 and decouple_decay:\n",
    "                        p_old = p.data.clone()\n",
    "\n",
    "                    # Step\n",
    "                    if momentum == 0:\n",
    "                        p.data.copy_(x0.addcdiv(s, rms, value=-1))\n",
    "                    else:\n",
    "                        z = x0.addcdiv(s, rms, value=-1)\n",
    "\n",
    "                        # p is a moving average of z\n",
    "                        p.data.mul_(1 - ck).add_(z, alpha=ck)\n",
    "                    \n",
    "                    if decay != 0 and decouple_decay:\n",
    "                        p.data.add_(p_old, alpha=-lr*decay)\n",
    "\n",
    "\n",
    "        self.state['k'] += 1\n",
    "        return loss"
   ]
  },
  {
   "cell_type": "code",
   "execution_count": 9,
   "metadata": {
    "execution": {
     "iopub.execute_input": "2022-11-22T09:19:43.718941Z",
     "iopub.status.busy": "2022-11-22T09:19:43.718585Z",
     "iopub.status.idle": "2022-11-22T09:19:43.732390Z",
     "shell.execute_reply": "2022-11-22T09:19:43.731761Z",
     "shell.execute_reply.started": "2022-11-22T09:19:43.718913Z"
    },
    "tags": []
   },
   "outputs": [],
   "source": [
    "def train_one_epoch(model, train_dataloader, criterion, optimizer, scaler, device=\"cuda:0\"):\n",
    "    model.train()\n",
    "    total_loss = 0\n",
    "    total_accuracy = 0\n",
    "    n_batchs = 0\n",
    "    for X_batch, y_batch in train_dataloader:\n",
    "        optimizer.zero_grad()\n",
    "        X_batch, y_batch = X_batch.to(device), y_batch.to(device)\n",
    "        with torch.autocast(device_type='cuda', dtype=torch.float16):\n",
    "            y_preds = model(X_batch)\n",
    "            loss = criterion(y_preds, y_batch)\n",
    "            total_loss += loss\n",
    "        scaler.scale(loss).backward()\n",
    "        scaler.step(optimizer)\n",
    "        scaler.update()\n",
    "        total_accuracy += accuracy_score(y_batch.cpu().numpy(), torch.argmax(y_preds, dim=-1).detach().cpu().numpy())\n",
    "        n_batchs += 1\n",
    "    total_accuracy /= n_batchs\n",
    "    total_loss /= n_batchs\n",
    "    return total_accuracy, total_loss\n",
    "\n",
    "def predict(model, val_dataloader, criterion, device=\"cuda:0\"):\n",
    "    model.eval()\n",
    "    predicted_classes = torch.tensor([])\n",
    "    true_classes = torch.tensor([])\n",
    "    total_loss = 0\n",
    "    n_batchs = 0\n",
    "    with torch.no_grad():\n",
    "        for X_batch, y_batch in val_dataloader:\n",
    "            X_batch, y_batch = X_batch.to(device), y_batch.to(device)\n",
    "            y_preds = model(X_batch)\n",
    "            total_loss += criterion(y_preds, y_batch)\n",
    "            y_batch = y_batch.cpu()\n",
    "            predicts = model(X_batch)\n",
    "            predicts = torch.argmax(predicts, dim=1).cpu()\n",
    "            predicted_classes = torch.cat((predicted_classes, predicts), dim=-1)\n",
    "            true_classes = torch.cat((true_classes, y_batch), dim=-1)\n",
    "            n_batchs += 1\n",
    "    total_loss /= n_batchs\n",
    "    return total_loss, predicted_classes.numpy(), true_classes.numpy()\n",
    "\n",
    "def train(model, train_dataloader, val_dataloader, criterion, optimizer, scaler, lr_scheduler, device=\"cuda:0\", n_epochs=10):\n",
    "    model.to(device)\n",
    "    for epoch in tqdm(range(n_epochs)):\n",
    "        train_acc, train_loss = train_one_epoch(model, train_dataloader, criterion, optimizer, scaler, device=device)\n",
    "        if lr_scheduler is not None: \n",
    "            lr_scheduler.step()\n",
    "        val_loss, predicted_classes, true_classes = predict(model, val_dataloader, criterion, device=device)\n",
    "        val_acc = accuracy_score(true_classes, predicted_classes)\n",
    "        print(f'Train Loss:{train_loss} Train Accuracy:{train_acc}')\n",
    "        print(f'Val Loss:{val_loss} Val Accuracy:{val_acc} ')\n",
    "        del true_classes, predicted_classes"
   ]
  },
  {
   "cell_type": "code",
   "execution_count": 10,
   "metadata": {
    "execution": {
     "iopub.execute_input": "2022-11-22T09:19:46.862593Z",
     "iopub.status.busy": "2022-11-22T09:19:46.862229Z",
     "iopub.status.idle": "2022-11-22T09:19:46.879420Z",
     "shell.execute_reply": "2022-11-22T09:19:46.878688Z",
     "shell.execute_reply.started": "2022-11-22T09:19:46.862566Z"
    },
    "tags": []
   },
   "outputs": [],
   "source": [
    "import numpy as np\n",
    "from sklearn.model_selection import KFold\n",
    "from sklearn.metrics import accuracy_score\n",
    "from torchvision.models import efficientnet_b1\n",
    "import gc\n",
    "train_transform = A.Compose([\n",
    "    A.VerticalFlip(p=0.5),\n",
    "    A.HorizontalFlip(p=0.5),\n",
    "    A.PixelDropout(dropout_prob=1e-3),\n",
    "    A.Normalize(),\n",
    "    ToTensorV2(),\n",
    "\n",
    "])\n",
    "val_transform = A.Compose([\n",
    "    A.Normalize(), \n",
    "    ToTensorV2()])\n",
    "class cv_dataset(torch.utils.data.Dataset):\n",
    "    def __init__(self, data, labels, transform, train=False):\n",
    "        self.data = data\n",
    "        self.labels = labels\n",
    "        self.transform  = transform\n",
    "        self.train = train\n",
    "        self._add_augmentations()\n",
    "        \n",
    "    def _add_augmentations(self):\n",
    "        data = self.data.copy()\n",
    "        labels = self.labels.copy()\n",
    "        del self.data, self.labels\n",
    "        self.data = []\n",
    "        self.labels = []\n",
    "        for i in tqdm(range(len(data))):\n",
    "            img = data[i]\n",
    "            label = labels[i]\n",
    "            weight = label_weight(label) if self.train else 1\n",
    "            for j in range(weight):\n",
    "                transformed = self.transform(image=img)\n",
    "                img_tensor = transformed['image']\n",
    "                self.data.append(img_tensor)\n",
    "                self.labels.append(label)\n",
    "                \n",
    "    def __len__(self):\n",
    "        return len(self.data)\n",
    "    \n",
    "    def __getitem__(self, idx):\n",
    "        return self.data[idx], self.labels[idx]\n",
    "    \n",
    "def crossval(dataset, train_transform=train_transform, val_transform=val_transform, n_folds=4):\n",
    "    kf = KFold(n_splits=n_folds, random_state=42, shuffle=True)\n",
    "    kf.get_n_splits(dataset.data)\n",
    "    i = 0\n",
    "    for train_index, test_index in kf.split(dataset.data):\n",
    "        X_train, y_train = dataset[train_index]\n",
    "        X_test, y_test = dataset[test_index]\n",
    "        fold_train = cv_dataset(X_train, y_train, train_transform, train=True)\n",
    "        fold_val = cv_dataset(X_test, y_test, val_transform, train=False)\n",
    "        train_dataloader = DataLoader(fold_train, batch_size=16, drop_last=True, shuffle=True)\n",
    "        val_dataloader = DataLoader(fold_val , batch_size=16, drop_last=True, shuffle=True)\n",
    "        device = torch.device(\"cuda:0\") if torch.cuda.is_available() else torch.device(\"cpu\")\n",
    "        model = efficientnet_b1(weights='IMAGENET1K_V2')\n",
    "        model.classifier = nn.Linear(1280, 11)\n",
    "        model.to(device)\n",
    "        criterion = nn.CrossEntropyLoss()\n",
    "        optimizer = MADGRAD(model.parameters(), 1e-5)\n",
    "        scaler = GradScaler()\n",
    "        lr_scheduler = torch.optim.lr_scheduler.CosineAnnealingLR(optimizer, T_max=10, eta_min=5e-9, last_epoch=- 1, verbose=False)\n",
    "        train(model, train_dataloader, val_dataloader, criterion, optimizer, scaler, lr_scheduler, device=\"cuda:0\", n_epochs=8)\n",
    "        with open(f'./models/model_{i}.pkl', 'wb') as f:\n",
    "            pickle.dump(model, f)\n",
    "        del model, train_dataloader, val_dataloader, fold_train, fold_val\n",
    "        gc.collect()\n",
    "        torch.cuda.empty_cache\n",
    "        i += 1"
   ]
  },
  {
   "cell_type": "code",
   "execution_count": 11,
   "metadata": {
    "execution": {
     "iopub.execute_input": "2022-11-22T09:19:54.833920Z",
     "iopub.status.busy": "2022-11-22T09:19:54.833562Z",
     "iopub.status.idle": "2022-11-22T09:20:38.510681Z",
     "shell.execute_reply": "2022-11-22T09:20:38.509825Z",
     "shell.execute_reply.started": "2022-11-22T09:19:54.833893Z"
    },
    "tags": []
   },
   "outputs": [
    {
     "name": "stderr",
     "output_type": "stream",
     "text": [
      "100%|██████████| 3326/3326 [00:09<00:00, 353.05it/s]\n",
      "100%|██████████| 476/476 [00:00<00:00, 2841.15it/s]\n",
      " 12%|█▎        | 1/8 [00:27<03:13, 27.58s/it]"
     ]
    },
    {
     "name": "stdout",
     "output_type": "stream",
     "text": [
      "Train Loss:1.2409114837646484 Train Accuracy:0.6840069860279441\n",
      "Val Loss:6.5976128578186035 Val Accuracy:0.9676724137931034 \n"
     ]
    },
    {
     "name": "stderr",
     "output_type": "stream",
     "text": [
      " 12%|█▎        | 1/8 [00:31<03:42, 31.81s/it]\n"
     ]
    },
    {
     "ename": "KeyboardInterrupt",
     "evalue": "",
     "output_type": "error",
     "traceback": [
      "\u001b[0;31m---------------------------------------------------------------------------\u001b[0m",
      "\u001b[0;31mKeyboardInterrupt\u001b[0m                         Traceback (most recent call last)",
      "Cell \u001b[0;32mIn [11], line 1\u001b[0m\n\u001b[0;32m----> 1\u001b[0m \u001b[43mcrossval\u001b[49m\u001b[43m(\u001b[49m\u001b[43mtrain_dataset\u001b[49m\u001b[43m,\u001b[49m\u001b[43m \u001b[49m\u001b[43mtrain_transform\u001b[49m\u001b[38;5;241;43m=\u001b[39;49m\u001b[43mtrain_transform\u001b[49m\u001b[43m,\u001b[49m\u001b[43m \u001b[49m\u001b[43mval_transform\u001b[49m\u001b[38;5;241;43m=\u001b[39;49m\u001b[43mval_transform\u001b[49m\u001b[43m,\u001b[49m\u001b[43m \u001b[49m\u001b[43mn_folds\u001b[49m\u001b[38;5;241;43m=\u001b[39;49m\u001b[38;5;241;43m8\u001b[39;49m\u001b[43m)\u001b[49m\n",
      "Cell \u001b[0;32mIn [10], line 66\u001b[0m, in \u001b[0;36mcrossval\u001b[0;34m(dataset, train_transform, val_transform, n_folds)\u001b[0m\n\u001b[1;32m     64\u001b[0m scaler \u001b[38;5;241m=\u001b[39m GradScaler()\n\u001b[1;32m     65\u001b[0m lr_scheduler \u001b[38;5;241m=\u001b[39m torch\u001b[38;5;241m.\u001b[39moptim\u001b[38;5;241m.\u001b[39mlr_scheduler\u001b[38;5;241m.\u001b[39mCosineAnnealingLR(optimizer, T_max\u001b[38;5;241m=\u001b[39m\u001b[38;5;241m10\u001b[39m, eta_min\u001b[38;5;241m=\u001b[39m\u001b[38;5;241m5e-9\u001b[39m, last_epoch\u001b[38;5;241m=\u001b[39m\u001b[38;5;241m-\u001b[39m \u001b[38;5;241m1\u001b[39m, verbose\u001b[38;5;241m=\u001b[39m\u001b[38;5;28;01mFalse\u001b[39;00m)\n\u001b[0;32m---> 66\u001b[0m \u001b[43mtrain\u001b[49m\u001b[43m(\u001b[49m\u001b[43mmodel\u001b[49m\u001b[43m,\u001b[49m\u001b[43m \u001b[49m\u001b[43mtrain_dataloader\u001b[49m\u001b[43m,\u001b[49m\u001b[43m \u001b[49m\u001b[43mval_dataloader\u001b[49m\u001b[43m,\u001b[49m\u001b[43m \u001b[49m\u001b[43mcriterion\u001b[49m\u001b[43m,\u001b[49m\u001b[43m \u001b[49m\u001b[43moptimizer\u001b[49m\u001b[43m,\u001b[49m\u001b[43m \u001b[49m\u001b[43mscaler\u001b[49m\u001b[43m,\u001b[49m\u001b[43m \u001b[49m\u001b[43mlr_scheduler\u001b[49m\u001b[43m,\u001b[49m\u001b[43m \u001b[49m\u001b[43mdevice\u001b[49m\u001b[38;5;241;43m=\u001b[39;49m\u001b[38;5;124;43m\"\u001b[39;49m\u001b[38;5;124;43mcuda:0\u001b[39;49m\u001b[38;5;124;43m\"\u001b[39;49m\u001b[43m,\u001b[49m\u001b[43m \u001b[49m\u001b[43mn_epochs\u001b[49m\u001b[38;5;241;43m=\u001b[39;49m\u001b[38;5;241;43m8\u001b[39;49m\u001b[43m)\u001b[49m\n\u001b[1;32m     67\u001b[0m \u001b[38;5;28;01mwith\u001b[39;00m \u001b[38;5;28mopen\u001b[39m(\u001b[38;5;124mf\u001b[39m\u001b[38;5;124m'\u001b[39m\u001b[38;5;124m./models/model_\u001b[39m\u001b[38;5;132;01m{\u001b[39;00mi\u001b[38;5;132;01m}\u001b[39;00m\u001b[38;5;124m.pkl\u001b[39m\u001b[38;5;124m'\u001b[39m, \u001b[38;5;124m'\u001b[39m\u001b[38;5;124mwb\u001b[39m\u001b[38;5;124m'\u001b[39m) \u001b[38;5;28;01mas\u001b[39;00m f:\n\u001b[1;32m     68\u001b[0m     pickle\u001b[38;5;241m.\u001b[39mdump(model, f)\n",
      "Cell \u001b[0;32mIn [9], line 45\u001b[0m, in \u001b[0;36mtrain\u001b[0;34m(model, train_dataloader, val_dataloader, criterion, optimizer, scaler, lr_scheduler, device, n_epochs)\u001b[0m\n\u001b[1;32m     43\u001b[0m model\u001b[38;5;241m.\u001b[39mto(device)\n\u001b[1;32m     44\u001b[0m \u001b[38;5;28;01mfor\u001b[39;00m epoch \u001b[38;5;129;01min\u001b[39;00m tqdm(\u001b[38;5;28mrange\u001b[39m(n_epochs)):\n\u001b[0;32m---> 45\u001b[0m     train_acc, train_loss \u001b[38;5;241m=\u001b[39m \u001b[43mtrain_one_epoch\u001b[49m\u001b[43m(\u001b[49m\u001b[43mmodel\u001b[49m\u001b[43m,\u001b[49m\u001b[43m \u001b[49m\u001b[43mtrain_dataloader\u001b[49m\u001b[43m,\u001b[49m\u001b[43m \u001b[49m\u001b[43mcriterion\u001b[49m\u001b[43m,\u001b[49m\u001b[43m \u001b[49m\u001b[43moptimizer\u001b[49m\u001b[43m,\u001b[49m\u001b[43m \u001b[49m\u001b[43mscaler\u001b[49m\u001b[43m,\u001b[49m\u001b[43m \u001b[49m\u001b[43mdevice\u001b[49m\u001b[38;5;241;43m=\u001b[39;49m\u001b[43mdevice\u001b[49m\u001b[43m)\u001b[49m\n\u001b[1;32m     46\u001b[0m     \u001b[38;5;28;01mif\u001b[39;00m lr_scheduler \u001b[38;5;129;01mis\u001b[39;00m \u001b[38;5;129;01mnot\u001b[39;00m \u001b[38;5;28;01mNone\u001b[39;00m: \n\u001b[1;32m     47\u001b[0m         lr_scheduler\u001b[38;5;241m.\u001b[39mstep()\n",
      "Cell \u001b[0;32mIn [9], line 14\u001b[0m, in \u001b[0;36mtrain_one_epoch\u001b[0;34m(model, train_dataloader, criterion, optimizer, scaler, device)\u001b[0m\n\u001b[1;32m     12\u001b[0m     total_loss \u001b[38;5;241m+\u001b[39m\u001b[38;5;241m=\u001b[39m loss\n\u001b[1;32m     13\u001b[0m scaler\u001b[38;5;241m.\u001b[39mscale(loss)\u001b[38;5;241m.\u001b[39mbackward()\n\u001b[0;32m---> 14\u001b[0m \u001b[43mscaler\u001b[49m\u001b[38;5;241;43m.\u001b[39;49m\u001b[43mstep\u001b[49m\u001b[43m(\u001b[49m\u001b[43moptimizer\u001b[49m\u001b[43m)\u001b[49m\n\u001b[1;32m     15\u001b[0m scaler\u001b[38;5;241m.\u001b[39mupdate()\n\u001b[1;32m     16\u001b[0m total_accuracy \u001b[38;5;241m+\u001b[39m\u001b[38;5;241m=\u001b[39m accuracy_score(y_batch\u001b[38;5;241m.\u001b[39mcpu()\u001b[38;5;241m.\u001b[39mnumpy(), torch\u001b[38;5;241m.\u001b[39margmax(y_preds, dim\u001b[38;5;241m=\u001b[39m\u001b[38;5;241m-\u001b[39m\u001b[38;5;241m1\u001b[39m)\u001b[38;5;241m.\u001b[39mdetach()\u001b[38;5;241m.\u001b[39mcpu()\u001b[38;5;241m.\u001b[39mnumpy())\n",
      "File \u001b[0;32m/opt/conda/lib/python3.10/site-packages/torch/cuda/amp/grad_scaler.py:341\u001b[0m, in \u001b[0;36mGradScaler.step\u001b[0;34m(self, optimizer, *args, **kwargs)\u001b[0m\n\u001b[1;32m    337\u001b[0m     \u001b[38;5;28mself\u001b[39m\u001b[38;5;241m.\u001b[39munscale_(optimizer)\n\u001b[1;32m    339\u001b[0m \u001b[38;5;28;01massert\u001b[39;00m \u001b[38;5;28mlen\u001b[39m(optimizer_state[\u001b[38;5;124m\"\u001b[39m\u001b[38;5;124mfound_inf_per_device\u001b[39m\u001b[38;5;124m\"\u001b[39m]) \u001b[38;5;241m>\u001b[39m \u001b[38;5;241m0\u001b[39m, \u001b[38;5;124m\"\u001b[39m\u001b[38;5;124mNo inf checks were recorded for this optimizer.\u001b[39m\u001b[38;5;124m\"\u001b[39m\n\u001b[0;32m--> 341\u001b[0m retval \u001b[38;5;241m=\u001b[39m \u001b[38;5;28;43mself\u001b[39;49m\u001b[38;5;241;43m.\u001b[39;49m\u001b[43m_maybe_opt_step\u001b[49m\u001b[43m(\u001b[49m\u001b[43moptimizer\u001b[49m\u001b[43m,\u001b[49m\u001b[43m \u001b[49m\u001b[43moptimizer_state\u001b[49m\u001b[43m,\u001b[49m\u001b[43m \u001b[49m\u001b[38;5;241;43m*\u001b[39;49m\u001b[43margs\u001b[49m\u001b[43m,\u001b[49m\u001b[43m \u001b[49m\u001b[38;5;241;43m*\u001b[39;49m\u001b[38;5;241;43m*\u001b[39;49m\u001b[43mkwargs\u001b[49m\u001b[43m)\u001b[49m\n\u001b[1;32m    343\u001b[0m optimizer_state[\u001b[38;5;124m\"\u001b[39m\u001b[38;5;124mstage\u001b[39m\u001b[38;5;124m\"\u001b[39m] \u001b[38;5;241m=\u001b[39m OptState\u001b[38;5;241m.\u001b[39mSTEPPED\n\u001b[1;32m    345\u001b[0m \u001b[38;5;28;01mreturn\u001b[39;00m retval\n",
      "File \u001b[0;32m/opt/conda/lib/python3.10/site-packages/torch/cuda/amp/grad_scaler.py:288\u001b[0m, in \u001b[0;36mGradScaler._maybe_opt_step\u001b[0;34m(self, optimizer, optimizer_state, *args, **kwargs)\u001b[0m\n\u001b[1;32m    286\u001b[0m retval \u001b[38;5;241m=\u001b[39m \u001b[38;5;28;01mNone\u001b[39;00m\n\u001b[1;32m    287\u001b[0m \u001b[38;5;28;01mif\u001b[39;00m \u001b[38;5;129;01mnot\u001b[39;00m \u001b[38;5;28msum\u001b[39m(v\u001b[38;5;241m.\u001b[39mitem() \u001b[38;5;28;01mfor\u001b[39;00m v \u001b[38;5;129;01min\u001b[39;00m optimizer_state[\u001b[38;5;124m\"\u001b[39m\u001b[38;5;124mfound_inf_per_device\u001b[39m\u001b[38;5;124m\"\u001b[39m]\u001b[38;5;241m.\u001b[39mvalues()):\n\u001b[0;32m--> 288\u001b[0m     retval \u001b[38;5;241m=\u001b[39m \u001b[43moptimizer\u001b[49m\u001b[38;5;241;43m.\u001b[39;49m\u001b[43mstep\u001b[49m\u001b[43m(\u001b[49m\u001b[38;5;241;43m*\u001b[39;49m\u001b[43margs\u001b[49m\u001b[43m,\u001b[49m\u001b[43m \u001b[49m\u001b[38;5;241;43m*\u001b[39;49m\u001b[38;5;241;43m*\u001b[39;49m\u001b[43mkwargs\u001b[49m\u001b[43m)\u001b[49m\n\u001b[1;32m    289\u001b[0m \u001b[38;5;28;01mreturn\u001b[39;00m retval\n",
      "File \u001b[0;32m/opt/conda/lib/python3.10/site-packages/torch/optim/lr_scheduler.py:68\u001b[0m, in \u001b[0;36m_LRScheduler.__init__.<locals>.with_counter.<locals>.wrapper\u001b[0;34m(*args, **kwargs)\u001b[0m\n\u001b[1;32m     66\u001b[0m instance\u001b[38;5;241m.\u001b[39m_step_count \u001b[38;5;241m+\u001b[39m\u001b[38;5;241m=\u001b[39m \u001b[38;5;241m1\u001b[39m\n\u001b[1;32m     67\u001b[0m wrapped \u001b[38;5;241m=\u001b[39m func\u001b[38;5;241m.\u001b[39m\u001b[38;5;21m__get__\u001b[39m(instance, \u001b[38;5;28mcls\u001b[39m)\n\u001b[0;32m---> 68\u001b[0m \u001b[38;5;28;01mreturn\u001b[39;00m \u001b[43mwrapped\u001b[49m\u001b[43m(\u001b[49m\u001b[38;5;241;43m*\u001b[39;49m\u001b[43margs\u001b[49m\u001b[43m,\u001b[49m\u001b[43m \u001b[49m\u001b[38;5;241;43m*\u001b[39;49m\u001b[38;5;241;43m*\u001b[39;49m\u001b[43mkwargs\u001b[49m\u001b[43m)\u001b[49m\n",
      "File \u001b[0;32m/opt/conda/lib/python3.10/site-packages/torch/optim/optimizer.py:140\u001b[0m, in \u001b[0;36mOptimizer._hook_for_profile.<locals>.profile_hook_step.<locals>.wrapper\u001b[0;34m(*args, **kwargs)\u001b[0m\n\u001b[1;32m    138\u001b[0m profile_name \u001b[38;5;241m=\u001b[39m \u001b[38;5;124m\"\u001b[39m\u001b[38;5;124mOptimizer.step#\u001b[39m\u001b[38;5;132;01m{}\u001b[39;00m\u001b[38;5;124m.step\u001b[39m\u001b[38;5;124m\"\u001b[39m\u001b[38;5;241m.\u001b[39mformat(obj\u001b[38;5;241m.\u001b[39m\u001b[38;5;18m__class__\u001b[39m\u001b[38;5;241m.\u001b[39m\u001b[38;5;18m__name__\u001b[39m)\n\u001b[1;32m    139\u001b[0m \u001b[38;5;28;01mwith\u001b[39;00m torch\u001b[38;5;241m.\u001b[39mautograd\u001b[38;5;241m.\u001b[39mprofiler\u001b[38;5;241m.\u001b[39mrecord_function(profile_name):\n\u001b[0;32m--> 140\u001b[0m     out \u001b[38;5;241m=\u001b[39m \u001b[43mfunc\u001b[49m\u001b[43m(\u001b[49m\u001b[38;5;241;43m*\u001b[39;49m\u001b[43margs\u001b[49m\u001b[43m,\u001b[49m\u001b[43m \u001b[49m\u001b[38;5;241;43m*\u001b[39;49m\u001b[38;5;241;43m*\u001b[39;49m\u001b[43mkwargs\u001b[49m\u001b[43m)\u001b[49m\n\u001b[1;32m    141\u001b[0m     obj\u001b[38;5;241m.\u001b[39m_optimizer_step_code()\n\u001b[1;32m    142\u001b[0m     \u001b[38;5;28;01mreturn\u001b[39;00m out\n",
      "Cell \u001b[0;32mIn [8], line 135\u001b[0m, in \u001b[0;36mMADGRAD.step\u001b[0;34m(self, closure)\u001b[0m\n\u001b[1;32m    132\u001b[0m     rms[rms \u001b[38;5;241m==\u001b[39m \u001b[38;5;241m0\u001b[39m] \u001b[38;5;241m=\u001b[39m \u001b[38;5;28mfloat\u001b[39m(\u001b[38;5;124m'\u001b[39m\u001b[38;5;124minf\u001b[39m\u001b[38;5;124m'\u001b[39m)\n\u001b[1;32m    134\u001b[0m \u001b[38;5;66;03m# Update s\u001b[39;00m\n\u001b[0;32m--> 135\u001b[0m \u001b[43ms\u001b[49m\u001b[38;5;241;43m.\u001b[39;49m\u001b[43mdata\u001b[49m\u001b[38;5;241;43m.\u001b[39;49m\u001b[43madd_\u001b[49m\u001b[43m(\u001b[49m\u001b[43mgrad\u001b[49m\u001b[43m,\u001b[49m\u001b[43m \u001b[49m\u001b[43malpha\u001b[49m\u001b[38;5;241;43m=\u001b[39;49m\u001b[43mlamb\u001b[49m\u001b[43m)\u001b[49m\n\u001b[1;32m    137\u001b[0m \u001b[38;5;28;01mif\u001b[39;00m decay \u001b[38;5;241m!=\u001b[39m \u001b[38;5;241m0\u001b[39m \u001b[38;5;129;01mand\u001b[39;00m decouple_decay:\n\u001b[1;32m    138\u001b[0m     p_old \u001b[38;5;241m=\u001b[39m p\u001b[38;5;241m.\u001b[39mdata\u001b[38;5;241m.\u001b[39mclone()\n",
      "\u001b[0;31mKeyboardInterrupt\u001b[0m: "
     ]
    }
   ],
   "source": [
    "crossval(train_dataset, train_transform=train_transform, val_transform=val_transform, n_folds=8)"
   ]
  },
  {
   "cell_type": "code",
   "execution_count": 23,
   "metadata": {
    "execution": {
     "iopub.execute_input": "2022-11-21T17:59:13.892944Z",
     "iopub.status.busy": "2022-11-21T17:59:13.892643Z",
     "iopub.status.idle": "2022-11-21T17:59:13.989499Z",
     "shell.execute_reply": "2022-11-21T17:59:13.989063Z",
     "shell.execute_reply.started": "2022-11-21T17:59:13.892926Z"
    },
    "tags": []
   },
   "outputs": [
    {
     "data": {
      "text/plain": [
       "64"
      ]
     },
     "execution_count": 23,
     "metadata": {},
     "output_type": "execute_result"
    }
   ],
   "source": [
    "import gc\n",
    "gc.collect()"
   ]
  },
  {
   "cell_type": "code",
   "execution_count": null,
   "metadata": {},
   "outputs": [],
   "source": [
    "de"
   ]
  },
  {
   "cell_type": "code",
   "execution_count": 24,
   "metadata": {
    "execution": {
     "iopub.execute_input": "2022-11-21T17:59:17.365529Z",
     "iopub.status.busy": "2022-11-21T17:59:17.365063Z",
     "iopub.status.idle": "2022-11-21T17:59:17.368378Z",
     "shell.execute_reply": "2022-11-21T17:59:17.368065Z",
     "shell.execute_reply.started": "2022-11-21T17:59:17.365511Z"
    },
    "tags": []
   },
   "outputs": [
    {
     "data": {
      "text/plain": [
       "<function torch.cuda.memory.empty_cache() -> None>"
      ]
     },
     "execution_count": 24,
     "metadata": {},
     "output_type": "execute_result"
    }
   ],
   "source": [
    "torch.cuda.empty_cache"
   ]
  },
  {
   "cell_type": "code",
   "execution_count": 25,
   "metadata": {
    "execution": {
     "iopub.execute_input": "2022-11-21T17:59:20.899600Z",
     "iopub.status.busy": "2022-11-21T17:59:20.899311Z",
     "iopub.status.idle": "2022-11-21T17:59:20.905123Z",
     "shell.execute_reply": "2022-11-21T17:59:20.904758Z",
     "shell.execute_reply.started": "2022-11-21T17:59:20.899584Z"
    },
    "tags": []
   },
   "outputs": [],
   "source": [
    "test_transform = A.Compose([\n",
    "                        A.LongestMaxSize(size),\n",
    "                        A.PadIfNeeded(size, size),\n",
    "                        A.Normalize(),\n",
    "                        ToTensorV2(),\n",
    "])\n",
    "class CarsDatasetTest(torch.utils.data.Dataset):\n",
    "    def __init__(self, path_to_data, transform=False, train=False):\n",
    "        self.path_to_data = path_to_data\n",
    "        self.transform = transform\n",
    "        self.train = train\n",
    "        self.data = []\n",
    "        self.labels = []\n",
    "        self._get_data_from_path()\n",
    "        if self.transform:\n",
    "            self._add_augmentations()\n",
    "        #self.data = np.array(self.data)\n",
    "\n",
    "    def _get_data_from_path(self):\n",
    "            for img in tqdm(os.listdir(self.path_to_data)):\n",
    "                if img[0]!='.':\n",
    "                    img = cv2.imread(os.path.join(self.path_to_data, img))\n",
    "                    img = cv2.cvtColor(img, cv2.COLOR_BGR2RGB)\n",
    "                    label = 0\n",
    "                    self.data.append(img)\n",
    "                    self.labels.append(label)\n",
    "\n",
    "    def _add_augmentations(self):\n",
    "        data = self.data.copy()\n",
    "        del self.data\n",
    "        self.data = []\n",
    "        for img in tqdm(data):\n",
    "            transformed = self.transform(image=img)\n",
    "            img_tensor = transformed['image']\n",
    "            self.data.append(img_tensor)\n",
    "        del data\n",
    "\n",
    "    def __getitem__(self, idx):\n",
    "        return self.data[idx], self.labels[idx]\n",
    "        \n",
    "    def __len__(self):\n",
    "        return len(self.data)"
   ]
  },
  {
   "cell_type": "code",
   "execution_count": 26,
   "metadata": {
    "execution": {
     "iopub.execute_input": "2022-11-21T17:59:23.659479Z",
     "iopub.status.busy": "2022-11-21T17:59:23.659026Z",
     "iopub.status.idle": "2022-11-21T17:59:24.858358Z",
     "shell.execute_reply": "2022-11-21T17:59:24.857824Z",
     "shell.execute_reply.started": "2022-11-21T17:59:23.659460Z"
    },
    "tags": []
   },
   "outputs": [
    {
     "name": "stderr",
     "output_type": "stream",
     "text": [
      "100%|██████████| 1437/1437 [00:00<00:00, 1963.09it/s]\n",
      "100%|██████████| 1436/1436 [00:00<00:00, 3129.59it/s]\n"
     ]
    }
   ],
   "source": [
    "path_to_test = './public_test'\n",
    "test_dataset = CarsDatasetTest(path_to_test, transform=test_transform)\n",
    "test_dataloader = DataLoader(test_dataset, batch_size=16)"
   ]
  },
  {
   "cell_type": "code",
   "execution_count": 27,
   "metadata": {
    "execution": {
     "iopub.execute_input": "2022-11-21T17:59:27.960029Z",
     "iopub.status.busy": "2022-11-21T17:59:27.959537Z",
     "iopub.status.idle": "2022-11-21T17:59:27.963764Z",
     "shell.execute_reply": "2022-11-21T17:59:27.963348Z",
     "shell.execute_reply.started": "2022-11-21T17:59:27.960012Z"
    },
    "tags": []
   },
   "outputs": [],
   "source": [
    "def cv_predict(model, val_dataloader, criterion=None,device=\"cuda:0\"):\n",
    "    model.eval()\n",
    "    predicted_classes = torch.tensor([])\n",
    "    total_loss = 0\n",
    "    n_batchs = 0\n",
    "    first = True\n",
    "    with torch.no_grad():\n",
    "        for X_batch, y_batch in val_dataloader:\n",
    "            X_batch, y_batch = X_batch.to(device), y_batch.to(device)\n",
    "            #y_preds = model(X_batch)\n",
    "            #total_loss += criterion(y_preds, y_batch)\n",
    "            #y_batch = y_batch.cpu()\n",
    "            if first:\n",
    "                predicted_probas = F.softmax(model(X_batch), dim=1).cpu()\n",
    "                first = False\n",
    "            else:\n",
    "                probas = F.softmax(model(X_batch), dim=1).cpu()\n",
    "                predicted_probas = torch.cat((predicted_probas, probas), dim=0)\n",
    "    return predicted_probas"
   ]
  },
  {
   "cell_type": "code",
   "execution_count": null,
   "metadata": {},
   "outputs": [],
   "source": []
  },
  {
   "cell_type": "code",
   "execution_count": 28,
   "metadata": {
    "execution": {
     "iopub.execute_input": "2022-11-21T17:59:31.501117Z",
     "iopub.status.busy": "2022-11-21T17:59:31.500808Z",
     "iopub.status.idle": "2022-11-21T17:59:36.950322Z",
     "shell.execute_reply": "2022-11-21T17:59:36.949878Z",
     "shell.execute_reply.started": "2022-11-21T17:59:31.501100Z"
    },
    "tags": []
   },
   "outputs": [],
   "source": [
    "total_probas = torch.zeros((len(test_dataset.data), 11))\n",
    "for  i in range(4):\n",
    "    with open(f'./models/model_{i}.pkl', 'rb') as f:\n",
    "        model  = pickle.load(f)\n",
    "        total_probas += cv_predict(model, test_dataloader)"
   ]
  },
  {
   "cell_type": "code",
   "execution_count": 29,
   "metadata": {
    "execution": {
     "iopub.execute_input": "2022-11-21T17:59:39.754664Z",
     "iopub.status.busy": "2022-11-21T17:59:39.754245Z",
     "iopub.status.idle": "2022-11-21T17:59:39.757053Z",
     "shell.execute_reply": "2022-11-21T17:59:39.756680Z",
     "shell.execute_reply.started": "2022-11-21T17:59:39.754648Z"
    },
    "tags": []
   },
   "outputs": [],
   "source": [
    "total_probas /= 6\n",
    "predicted_classes = torch.argmax(total_probas, dim=1)"
   ]
  },
  {
   "cell_type": "code",
   "execution_count": 30,
   "metadata": {
    "execution": {
     "iopub.execute_input": "2022-11-21T17:59:44.630678Z",
     "iopub.status.busy": "2022-11-21T17:59:44.630262Z",
     "iopub.status.idle": "2022-11-21T17:59:44.637097Z",
     "shell.execute_reply": "2022-11-21T17:59:44.636771Z",
     "shell.execute_reply.started": "2022-11-21T17:59:44.630662Z"
    },
    "tags": []
   },
   "outputs": [],
   "source": [
    "predicted_classes = np.array([label2color(int(preds)) for preds in predicted_classes])"
   ]
  },
  {
   "cell_type": "code",
   "execution_count": 31,
   "metadata": {
    "execution": {
     "iopub.execute_input": "2022-11-21T17:59:51.389569Z",
     "iopub.status.busy": "2022-11-21T17:59:51.389145Z",
     "iopub.status.idle": "2022-11-21T17:59:51.392306Z",
     "shell.execute_reply": "2022-11-21T17:59:51.392006Z",
     "shell.execute_reply.started": "2022-11-21T17:59:51.389554Z"
    },
    "tags": []
   },
   "outputs": [
    {
     "data": {
      "text/plain": [
       "1436"
      ]
     },
     "execution_count": 31,
     "metadata": {},
     "output_type": "execute_result"
    }
   ],
   "source": [
    "len(test_dataset.data)"
   ]
  },
  {
   "cell_type": "code",
   "execution_count": 33,
   "metadata": {
    "execution": {
     "iopub.execute_input": "2022-11-21T18:00:15.838302Z",
     "iopub.status.busy": "2022-11-21T18:00:15.837954Z",
     "iopub.status.idle": "2022-11-21T18:00:15.844994Z",
     "shell.execute_reply": "2022-11-21T18:00:15.844622Z",
     "shell.execute_reply.started": "2022-11-21T18:00:15.838284Z"
    },
    "tags": []
   },
   "outputs": [
    {
     "name": "stderr",
     "output_type": "stream",
     "text": [
      "100%|██████████| 1437/1437 [00:00<00:00, 663644.00it/s]\n"
     ]
    }
   ],
   "source": [
    "imgs=[]\n",
    "for img in tqdm(os.listdir(path_to_test)):\n",
    "    if img[0]!='.':\n",
    "        imgs.append(int(os.path.splitext(img)[0]))\n"
   ]
  },
  {
   "cell_type": "code",
   "execution_count": 34,
   "metadata": {
    "execution": {
     "iopub.execute_input": "2022-11-21T18:00:21.798180Z",
     "iopub.status.busy": "2022-11-21T18:00:21.797907Z",
     "iopub.status.idle": "2022-11-21T18:00:21.800370Z",
     "shell.execute_reply": "2022-11-21T18:00:21.800042Z",
     "shell.execute_reply.started": "2022-11-21T18:00:21.798164Z"
    },
    "tags": []
   },
   "outputs": [],
   "source": [
    "import pandas as pd"
   ]
  },
  {
   "cell_type": "code",
   "execution_count": 38,
   "metadata": {
    "execution": {
     "iopub.execute_input": "2022-11-21T18:19:42.160877Z",
     "iopub.status.busy": "2022-11-21T18:19:42.160598Z",
     "iopub.status.idle": "2022-11-21T18:19:42.167270Z",
     "shell.execute_reply": "2022-11-21T18:19:42.166875Z",
     "shell.execute_reply.started": "2022-11-21T18:19:42.160860Z"
    },
    "tags": []
   },
   "outputs": [
    {
     "data": {
      "text/html": [
       "<div>\n",
       "<style scoped>\n",
       "    .dataframe tbody tr th:only-of-type {\n",
       "        vertical-align: middle;\n",
       "    }\n",
       "\n",
       "    .dataframe tbody tr th {\n",
       "        vertical-align: top;\n",
       "    }\n",
       "\n",
       "    .dataframe thead th {\n",
       "        text-align: right;\n",
       "    }\n",
       "</style>\n",
       "<table border=\"1\" class=\"dataframe\">\n",
       "  <thead>\n",
       "    <tr style=\"text-align: right;\">\n",
       "      <th></th>\n",
       "      <th>0</th>\n",
       "    </tr>\n",
       "  </thead>\n",
       "  <tbody>\n",
       "    <tr>\n",
       "      <th>720</th>\n",
       "      <td>Green</td>\n",
       "    </tr>\n",
       "    <tr>\n",
       "      <th>860</th>\n",
       "      <td>Orange</td>\n",
       "    </tr>\n",
       "    <tr>\n",
       "      <th>683</th>\n",
       "      <td>Cyan</td>\n",
       "    </tr>\n",
       "    <tr>\n",
       "      <th>519</th>\n",
       "      <td>Orange</td>\n",
       "    </tr>\n",
       "    <tr>\n",
       "      <th>418</th>\n",
       "      <td>Cyan</td>\n",
       "    </tr>\n",
       "    <tr>\n",
       "      <th>...</th>\n",
       "      <td>...</td>\n",
       "    </tr>\n",
       "    <tr>\n",
       "      <th>1167</th>\n",
       "      <td>Grey</td>\n",
       "    </tr>\n",
       "    <tr>\n",
       "      <th>954</th>\n",
       "      <td>Orange</td>\n",
       "    </tr>\n",
       "    <tr>\n",
       "      <th>632</th>\n",
       "      <td>Brown</td>\n",
       "    </tr>\n",
       "    <tr>\n",
       "      <th>815</th>\n",
       "      <td>Grey</td>\n",
       "    </tr>\n",
       "    <tr>\n",
       "      <th>1122</th>\n",
       "      <td>Black</td>\n",
       "    </tr>\n",
       "  </tbody>\n",
       "</table>\n",
       "<p>1436 rows × 1 columns</p>\n",
       "</div>"
      ],
      "text/plain": [
       "           0\n",
       "720    Green\n",
       "860   Orange\n",
       "683     Cyan\n",
       "519   Orange\n",
       "418     Cyan\n",
       "...      ...\n",
       "1167    Grey\n",
       "954   Orange\n",
       "632    Brown\n",
       "815     Grey\n",
       "1122   Black\n",
       "\n",
       "[1436 rows x 1 columns]"
      ]
     },
     "execution_count": 38,
     "metadata": {},
     "output_type": "execute_result"
    }
   ],
   "source": [
    "test_df = pd.DataFrame(predicted_classes, index=imgs)\n",
    "test_df"
   ]
  },
  {
   "cell_type": "code",
   "execution_count": 41,
   "metadata": {
    "execution": {
     "iopub.execute_input": "2022-11-21T18:22:08.900648Z",
     "iopub.status.busy": "2022-11-21T18:22:08.900088Z",
     "iopub.status.idle": "2022-11-21T18:22:08.904778Z",
     "shell.execute_reply": "2022-11-21T18:22:08.904334Z",
     "shell.execute_reply.started": "2022-11-21T18:22:08.900630Z"
    },
    "tags": []
   },
   "outputs": [
    {
     "data": {
      "text/plain": [
       "0    Green\n",
       "Name: 720, dtype: object"
      ]
     },
     "execution_count": 41,
     "metadata": {},
     "output_type": "execute_result"
    }
   ],
   "source": [
    "test_df.loc[720]"
   ]
  },
  {
   "cell_type": "code",
   "execution_count": 42,
   "metadata": {
    "execution": {
     "iopub.execute_input": "2022-11-21T18:23:05.280573Z",
     "iopub.status.busy": "2022-11-21T18:23:05.279963Z",
     "iopub.status.idle": "2022-11-21T18:23:05.287580Z",
     "shell.execute_reply": "2022-11-21T18:23:05.287172Z",
     "shell.execute_reply.started": "2022-11-21T18:23:05.280553Z"
    },
    "tags": []
   },
   "outputs": [],
   "source": [
    "test_df = test_df.sort_index()\n",
    "test_df = test_df.rename(columns={0: test_df[0][0]})\n",
    "test_df.drop([0]).reset_index().drop(columns=['index']).to_csv('cv2.csv',index=False)"
   ]
  },
  {
   "cell_type": "code",
   "execution_count": 58,
   "metadata": {
    "execution": {
     "iopub.execute_input": "2022-11-21T18:30:37.268607Z",
     "iopub.status.busy": "2022-11-21T18:30:37.268317Z",
     "iopub.status.idle": "2022-11-21T18:30:37.274702Z",
     "shell.execute_reply": "2022-11-21T18:30:37.274072Z",
     "shell.execute_reply.started": "2022-11-21T18:30:37.268585Z"
    },
    "tags": []
   },
   "outputs": [
    {
     "data": {
      "text/plain": [
       "'Green'"
      ]
     },
     "execution_count": 58,
     "metadata": {},
     "output_type": "execute_result"
    }
   ],
   "source": [
    "test_df = pd.DataFrame(predicted_classes, index=imgs)\n",
    "test_df.loc[720].values[0]"
   ]
  },
  {
   "cell_type": "markdown",
   "metadata": {},
   "source": [
    "# Добавим предсказания на паблике и обучимся еще раз"
   ]
  },
  {
   "cell_type": "code",
   "execution_count": 62,
   "metadata": {
    "execution": {
     "iopub.execute_input": "2022-11-21T18:31:51.020032Z",
     "iopub.status.busy": "2022-11-21T18:31:51.019679Z",
     "iopub.status.idle": "2022-11-21T18:31:51.031026Z",
     "shell.execute_reply": "2022-11-21T18:31:51.030295Z",
     "shell.execute_reply.started": "2022-11-21T18:31:51.020005Z"
    },
    "tags": []
   },
   "outputs": [],
   "source": [
    "test_transform = A.Compose([\n",
    "                        A.LongestMaxSize(size),\n",
    "                        A.PadIfNeeded(size, size),\n",
    "])\n",
    "class CarsDatasetTest2(torch.utils.data.Dataset):\n",
    "    def __init__(self, path_to_data, test_df=test_df, transform=False, train=False):\n",
    "        self.path_to_data = path_to_data\n",
    "        self.transform = transform\n",
    "        self.train = train\n",
    "        self.data = []\n",
    "        self.labels = []\n",
    "        self.test_df = test_df\n",
    "        self._get_data_from_path()\n",
    "        if self.transform:\n",
    "            self._add_augmentations()\n",
    "        self.data = np.array(self.data)\n",
    "        self.labels = np.array(self.labels)\n",
    "\n",
    "    def _get_data_from_path(self):\n",
    "            for img in tqdm(os.listdir(self.path_to_data)):\n",
    "                if img[0]!='.':\n",
    "                    label = color2label(test_df.loc[int(img[:-4])].values[0])\n",
    "                    img = cv2.imread(os.path.join(self.path_to_data, img))\n",
    "                    img = cv2.cvtColor(img, cv2.COLOR_BGR2RGB)\n",
    "                    self.data.append(img)\n",
    "                    self.labels.append(label)\n",
    "\n",
    "    def _add_augmentations(self):\n",
    "        data = self.data.copy()\n",
    "        del self.data\n",
    "        self.data = []\n",
    "        for img in tqdm(data):\n",
    "            transformed = self.transform(image=img)\n",
    "            img_tensor = transformed['image']\n",
    "            self.data.append(img_tensor)\n",
    "        del data\n",
    "\n",
    "    def __getitem__(self, idx):\n",
    "        return self.data[idx], self.labels[idx]\n",
    "        \n",
    "    def __len__(self):\n",
    "        return len(self.data)"
   ]
  },
  {
   "cell_type": "code",
   "execution_count": 63,
   "metadata": {
    "execution": {
     "iopub.execute_input": "2022-11-21T18:31:51.647859Z",
     "iopub.status.busy": "2022-11-21T18:31:51.647549Z",
     "iopub.status.idle": "2022-11-21T18:31:52.523311Z",
     "shell.execute_reply": "2022-11-21T18:31:52.522566Z",
     "shell.execute_reply.started": "2022-11-21T18:31:51.647843Z"
    },
    "tags": []
   },
   "outputs": [
    {
     "name": "stderr",
     "output_type": "stream",
     "text": [
      "100%|██████████| 1437/1437 [00:00<00:00, 2004.93it/s]\n",
      "100%|██████████| 1436/1436 [00:00<00:00, 11546.58it/s]\n"
     ]
    }
   ],
   "source": [
    "additive = CarsDatasetTest2(path_to_test, test_df, test_transform)"
   ]
  },
  {
   "cell_type": "code",
   "execution_count": 68,
   "metadata": {
    "execution": {
     "iopub.execute_input": "2022-11-21T18:38:08.501374Z",
     "iopub.status.busy": "2022-11-21T18:38:08.501047Z",
     "iopub.status.idle": "2022-11-21T18:38:08.686973Z",
     "shell.execute_reply": "2022-11-21T18:38:08.686277Z",
     "shell.execute_reply.started": "2022-11-21T18:38:08.501355Z"
    },
    "tags": []
   },
   "outputs": [],
   "source": [
    "train_dataset.data = np.concatenate((train_dataset.data, additive.data), axis=0)"
   ]
  },
  {
   "cell_type": "code",
   "execution_count": 69,
   "metadata": {
    "execution": {
     "iopub.execute_input": "2022-11-21T18:38:38.045932Z",
     "iopub.status.busy": "2022-11-21T18:38:38.045586Z",
     "iopub.status.idle": "2022-11-21T18:38:38.048919Z",
     "shell.execute_reply": "2022-11-21T18:38:38.048251Z",
     "shell.execute_reply.started": "2022-11-21T18:38:38.045914Z"
    }
   },
   "outputs": [],
   "source": [
    "train_dataset.labels = np.concatenate((train_dataset.labels, additive.labels), axis=0)"
   ]
  },
  {
   "cell_type": "code",
   "execution_count": 71,
   "metadata": {
    "execution": {
     "iopub.execute_input": "2022-11-21T18:39:24.370744Z",
     "iopub.status.busy": "2022-11-21T18:39:24.370169Z",
     "iopub.status.idle": "2022-11-21T18:39:24.375191Z",
     "shell.execute_reply": "2022-11-21T18:39:24.374616Z",
     "shell.execute_reply.started": "2022-11-21T18:39:24.370716Z"
    },
    "tags": []
   },
   "outputs": [
    {
     "data": {
      "text/plain": [
       "(5238,)"
      ]
     },
     "execution_count": 71,
     "metadata": {},
     "output_type": "execute_result"
    }
   ],
   "source": [
    "train_dataset.labels.shape"
   ]
  },
  {
   "cell_type": "code",
   "execution_count": 72,
   "metadata": {
    "execution": {
     "iopub.execute_input": "2022-11-21T18:39:37.776662Z",
     "iopub.status.busy": "2022-11-21T18:39:37.776037Z",
     "iopub.status.idle": "2022-11-21T18:58:11.609639Z",
     "shell.execute_reply": "2022-11-21T18:58:11.609111Z",
     "shell.execute_reply.started": "2022-11-21T18:39:37.776633Z"
    }
   },
   "outputs": [
    {
     "name": "stderr",
     "output_type": "stream",
     "text": [
      "100%|██████████| 3928/3928 [00:10<00:00, 373.18it/s]\n",
      "100%|██████████| 1310/1310 [00:00<00:00, 3693.16it/s]\n",
      " 12%|█▎        | 1/8 [00:33<03:57, 33.93s/it]"
     ]
    },
    {
     "name": "stdout",
     "output_type": "stream",
     "text": [
      "Train Loss:1.0604500770568848 Train Accuracy:0.7379132231404959\n",
      "Val Loss:14.404203414916992 Val Accuracy:0.9645061728395061 \n"
     ]
    },
    {
     "name": "stderr",
     "output_type": "stream",
     "text": [
      " 25%|██▌       | 2/8 [01:07<03:24, 34.00s/it]"
     ]
    },
    {
     "name": "stdout",
     "output_type": "stream",
     "text": [
      "Train Loss:0.19124072790145874 Train Accuracy:0.9506198347107438\n",
      "Val Loss:8.501412391662598 Val Accuracy:0.9699074074074074 \n"
     ]
    },
    {
     "name": "stderr",
     "output_type": "stream",
     "text": [
      " 38%|███▊      | 3/8 [01:41<02:48, 33.73s/it]"
     ]
    },
    {
     "name": "stdout",
     "output_type": "stream",
     "text": [
      "Train Loss:0.11620094627141953 Train Accuracy:0.9683884297520661\n",
      "Val Loss:6.2779154777526855 Val Accuracy:0.9768518518518519 \n"
     ]
    },
    {
     "name": "stderr",
     "output_type": "stream",
     "text": [
      " 50%|█████     | 4/8 [02:14<02:14, 33.64s/it]"
     ]
    },
    {
     "name": "stdout",
     "output_type": "stream",
     "text": [
      "Train Loss:0.07960959523916245 Train Accuracy:0.9802685950413224\n",
      "Val Loss:4.902996063232422 Val Accuracy:0.9807098765432098 \n"
     ]
    },
    {
     "name": "stderr",
     "output_type": "stream",
     "text": [
      " 62%|██████▎   | 5/8 [02:48<01:41, 33.74s/it]"
     ]
    },
    {
     "name": "stdout",
     "output_type": "stream",
     "text": [
      "Train Loss:0.06261789798736572 Train Accuracy:0.9829545454545454\n",
      "Val Loss:5.903212547302246 Val Accuracy:0.9760802469135802 \n"
     ]
    },
    {
     "name": "stderr",
     "output_type": "stream",
     "text": [
      " 75%|███████▌  | 6/8 [03:22<01:07, 33.87s/it]"
     ]
    },
    {
     "name": "stdout",
     "output_type": "stream",
     "text": [
      "Train Loss:0.05166732892394066 Train Accuracy:0.9880165289256199\n",
      "Val Loss:4.587480068206787 Val Accuracy:0.9861111111111112 \n"
     ]
    },
    {
     "name": "stderr",
     "output_type": "stream",
     "text": [
      " 88%|████████▊ | 7/8 [03:56<00:33, 33.92s/it]"
     ]
    },
    {
     "name": "stdout",
     "output_type": "stream",
     "text": [
      "Train Loss:0.03883935138583183 Train Accuracy:0.990909090909091\n",
      "Val Loss:5.010487079620361 Val Accuracy:0.9807098765432098 \n"
     ]
    },
    {
     "name": "stderr",
     "output_type": "stream",
     "text": [
      "100%|██████████| 8/8 [04:30<00:00, 33.83s/it]"
     ]
    },
    {
     "name": "stdout",
     "output_type": "stream",
     "text": [
      "Train Loss:0.03504720702767372 Train Accuracy:0.9916322314049587\n",
      "Val Loss:5.269010543823242 Val Accuracy:0.9783950617283951 \n"
     ]
    },
    {
     "name": "stderr",
     "output_type": "stream",
     "text": [
      "\n",
      "100%|██████████| 3928/3928 [00:09<00:00, 411.97it/s]\n",
      "100%|██████████| 1310/1310 [00:00<00:00, 4646.88it/s]\n",
      " 12%|█▎        | 1/8 [00:33<03:51, 33.05s/it]"
     ]
    },
    {
     "name": "stdout",
     "output_type": "stream",
     "text": [
      "Train Loss:1.0588486194610596 Train Accuracy:0.7378300330033003\n",
      "Val Loss:15.764690399169922 Val Accuracy:0.9537037037037037 \n"
     ]
    },
    {
     "name": "stderr",
     "output_type": "stream",
     "text": [
      " 25%|██▌       | 2/8 [01:05<03:17, 32.95s/it]"
     ]
    },
    {
     "name": "stdout",
     "output_type": "stream",
     "text": [
      "Train Loss:0.19273273646831512 Train Accuracy:0.9479166666666666\n",
      "Val Loss:8.102088928222656 Val Accuracy:0.9745370370370371 \n"
     ]
    },
    {
     "name": "stderr",
     "output_type": "stream",
     "text": [
      " 38%|███▊      | 3/8 [01:38<02:44, 32.90s/it]"
     ]
    },
    {
     "name": "stdout",
     "output_type": "stream",
     "text": [
      "Train Loss:0.11354022473096848 Train Accuracy:0.9698844884488449\n",
      "Val Loss:7.670165061950684 Val Accuracy:0.9745370370370371 \n"
     ]
    },
    {
     "name": "stderr",
     "output_type": "stream",
     "text": [
      " 50%|█████     | 4/8 [02:11<02:11, 32.86s/it]"
     ]
    },
    {
     "name": "stdout",
     "output_type": "stream",
     "text": [
      "Train Loss:0.08076518028974533 Train Accuracy:0.9791666666666666\n",
      "Val Loss:6.108611583709717 Val Accuracy:0.9776234567901234 \n"
     ]
    },
    {
     "name": "stderr",
     "output_type": "stream",
     "text": [
      " 62%|██████▎   | 5/8 [02:44<01:39, 33.01s/it]"
     ]
    },
    {
     "name": "stdout",
     "output_type": "stream",
     "text": [
      "Train Loss:0.06117308512330055 Train Accuracy:0.9845297029702971\n",
      "Val Loss:7.90041446685791 Val Accuracy:0.9691358024691358 \n"
     ]
    },
    {
     "name": "stderr",
     "output_type": "stream",
     "text": [
      " 75%|███████▌  | 6/8 [03:17<01:05, 32.97s/it]"
     ]
    },
    {
     "name": "stdout",
     "output_type": "stream",
     "text": [
      "Train Loss:0.04667002707719803 Train Accuracy:0.9884488448844885\n",
      "Val Loss:6.585562229156494 Val Accuracy:0.9760802469135802 \n"
     ]
    },
    {
     "name": "stderr",
     "output_type": "stream",
     "text": [
      " 88%|████████▊ | 7/8 [03:50<00:32, 32.95s/it]"
     ]
    },
    {
     "name": "stdout",
     "output_type": "stream",
     "text": [
      "Train Loss:0.039370615035295486 Train Accuracy:0.9914397689768977\n",
      "Val Loss:5.527088642120361 Val Accuracy:0.9807098765432098 \n"
     ]
    },
    {
     "name": "stderr",
     "output_type": "stream",
     "text": [
      "100%|██████████| 8/8 [04:23<00:00, 32.94s/it]"
     ]
    },
    {
     "name": "stdout",
     "output_type": "stream",
     "text": [
      "Train Loss:0.03343876078724861 Train Accuracy:0.991852310231023\n",
      "Val Loss:5.915024757385254 Val Accuracy:0.9814814814814815 \n"
     ]
    },
    {
     "name": "stderr",
     "output_type": "stream",
     "text": [
      "\n",
      "100%|██████████| 3929/3929 [00:10<00:00, 392.36it/s]\n",
      "100%|██████████| 1309/1309 [00:00<00:00, 4647.15it/s]\n",
      " 12%|█▎        | 1/8 [00:32<03:48, 32.60s/it]"
     ]
    },
    {
     "name": "stdout",
     "output_type": "stream",
     "text": [
      "Train Loss:1.0087181329727173 Train Accuracy:0.7554661716171617\n",
      "Val Loss:13.897858619689941 Val Accuracy:0.9614197530864198 \n"
     ]
    },
    {
     "name": "stderr",
     "output_type": "stream",
     "text": [
      " 25%|██▌       | 2/8 [01:05<03:17, 32.86s/it]"
     ]
    },
    {
     "name": "stdout",
     "output_type": "stream",
     "text": [
      "Train Loss:0.18080070614814758 Train Accuracy:0.9531765676567657\n",
      "Val Loss:7.152127742767334 Val Accuracy:0.9729938271604939 \n"
     ]
    },
    {
     "name": "stderr",
     "output_type": "stream",
     "text": [
      " 38%|███▊      | 3/8 [01:38<02:44, 32.96s/it]"
     ]
    },
    {
     "name": "stdout",
     "output_type": "stream",
     "text": [
      "Train Loss:0.1096876710653305 Train Accuracy:0.9704001650165016\n",
      "Val Loss:7.50783109664917 Val Accuracy:0.9675925925925926 \n"
     ]
    },
    {
     "name": "stderr",
     "output_type": "stream",
     "text": [
      " 50%|█████     | 4/8 [02:12<02:12, 33.14s/it]"
     ]
    },
    {
     "name": "stdout",
     "output_type": "stream",
     "text": [
      "Train Loss:0.07535697519779205 Train Accuracy:0.9795792079207921\n",
      "Val Loss:4.969727993011475 Val Accuracy:0.9783950617283951 \n"
     ]
    },
    {
     "name": "stderr",
     "output_type": "stream",
     "text": [
      " 62%|██████▎   | 5/8 [02:45<01:39, 33.31s/it]"
     ]
    },
    {
     "name": "stdout",
     "output_type": "stream",
     "text": [
      "Train Loss:0.06066079065203667 Train Accuracy:0.9836014851485149\n",
      "Val Loss:5.3984174728393555 Val Accuracy:0.9760802469135802 \n"
     ]
    },
    {
     "name": "stderr",
     "output_type": "stream",
     "text": [
      " 75%|███████▌  | 6/8 [03:19<01:07, 33.57s/it]"
     ]
    },
    {
     "name": "stdout",
     "output_type": "stream",
     "text": [
      "Train Loss:0.050443701446056366 Train Accuracy:0.9867986798679867\n",
      "Val Loss:5.236442565917969 Val Accuracy:0.9768518518518519 \n"
     ]
    },
    {
     "name": "stderr",
     "output_type": "stream",
     "text": [
      " 88%|████████▊ | 7/8 [03:53<00:33, 33.67s/it]"
     ]
    },
    {
     "name": "stdout",
     "output_type": "stream",
     "text": [
      "Train Loss:0.04113917425274849 Train Accuracy:0.989480198019802\n",
      "Val Loss:4.687049388885498 Val Accuracy:0.9768518518518519 \n"
     ]
    },
    {
     "name": "stderr",
     "output_type": "stream",
     "text": [
      "100%|██████████| 8/8 [04:26<00:00, 33.36s/it]"
     ]
    },
    {
     "name": "stdout",
     "output_type": "stream",
     "text": [
      "Train Loss:0.032948993146419525 Train Accuracy:0.9929867986798679\n",
      "Val Loss:4.51701545715332 Val Accuracy:0.9822530864197531 \n"
     ]
    },
    {
     "name": "stderr",
     "output_type": "stream",
     "text": [
      "\n",
      "100%|██████████| 3929/3929 [00:09<00:00, 416.48it/s]\n",
      "100%|██████████| 1309/1309 [00:00<00:00, 4624.53it/s]\n",
      " 12%|█▎        | 1/8 [00:33<03:51, 33.10s/it]"
     ]
    },
    {
     "name": "stdout",
     "output_type": "stream",
     "text": [
      "Train Loss:1.0059667825698853 Train Accuracy:0.7578517587939698\n",
      "Val Loss:13.253839492797852 Val Accuracy:0.9567901234567902 \n"
     ]
    },
    {
     "name": "stderr",
     "output_type": "stream",
     "text": [
      " 25%|██▌       | 2/8 [01:07<03:22, 33.69s/it]"
     ]
    },
    {
     "name": "stdout",
     "output_type": "stream",
     "text": [
      "Train Loss:0.17220428586006165 Train Accuracy:0.9566582914572864\n",
      "Val Loss:7.183732986450195 Val Accuracy:0.9753086419753086 \n"
     ]
    },
    {
     "name": "stderr",
     "output_type": "stream",
     "text": [
      " 38%|███▊      | 3/8 [01:41<02:49, 33.92s/it]"
     ]
    },
    {
     "name": "stdout",
     "output_type": "stream",
     "text": [
      "Train Loss:0.09996601194143295 Train Accuracy:0.9728852596314908\n",
      "Val Loss:6.013702869415283 Val Accuracy:0.9791666666666666 \n"
     ]
    },
    {
     "name": "stderr",
     "output_type": "stream",
     "text": [
      " 50%|█████     | 4/8 [02:15<02:16, 34.01s/it]"
     ]
    },
    {
     "name": "stdout",
     "output_type": "stream",
     "text": [
      "Train Loss:0.07485343515872955 Train Accuracy:0.980108877721943\n",
      "Val Loss:5.891217231750488 Val Accuracy:0.9783950617283951 \n"
     ]
    },
    {
     "name": "stderr",
     "output_type": "stream",
     "text": [
      " 62%|██████▎   | 5/8 [02:49<01:42, 34.08s/it]"
     ]
    },
    {
     "name": "stdout",
     "output_type": "stream",
     "text": [
      "Train Loss:0.05617392808198929 Train Accuracy:0.9842964824120602\n",
      "Val Loss:5.656332492828369 Val Accuracy:0.9799382716049383 \n"
     ]
    },
    {
     "name": "stderr",
     "output_type": "stream",
     "text": [
      " 75%|███████▌  | 6/8 [03:22<01:07, 33.72s/it]"
     ]
    },
    {
     "name": "stdout",
     "output_type": "stream",
     "text": [
      "Train Loss:0.04336482658982277 Train Accuracy:0.9892169179229481\n",
      "Val Loss:5.957456588745117 Val Accuracy:0.9837962962962963 \n"
     ]
    },
    {
     "name": "stderr",
     "output_type": "stream",
     "text": [
      " 88%|████████▊ | 7/8 [03:55<00:33, 33.40s/it]"
     ]
    },
    {
     "name": "stdout",
     "output_type": "stream",
     "text": [
      "Train Loss:0.037076015025377274 Train Accuracy:0.9912060301507538\n",
      "Val Loss:5.67193603515625 Val Accuracy:0.9814814814814815 \n"
     ]
    },
    {
     "name": "stderr",
     "output_type": "stream",
     "text": [
      "100%|██████████| 8/8 [04:28<00:00, 33.61s/it]"
     ]
    },
    {
     "name": "stdout",
     "output_type": "stream",
     "text": [
      "Train Loss:0.03274580091238022 Train Accuracy:0.9918341708542714\n",
      "Val Loss:5.718727111816406 Val Accuracy:0.9814814814814815 \n"
     ]
    },
    {
     "name": "stderr",
     "output_type": "stream",
     "text": [
      "\n"
     ]
    }
   ],
   "source": [
    "crossval(train_dataset, train_transform=train_transform, val_transform=val_transform, n_folds=4)"
   ]
  },
  {
   "cell_type": "code",
   "execution_count": null,
   "metadata": {},
   "outputs": [],
   "source": []
  },
  {
   "cell_type": "code",
   "execution_count": 73,
   "metadata": {
    "execution": {
     "iopub.execute_input": "2022-11-21T19:00:05.143985Z",
     "iopub.status.busy": "2022-11-21T19:00:05.143764Z",
     "iopub.status.idle": "2022-11-21T19:00:05.970694Z",
     "shell.execute_reply": "2022-11-21T19:00:05.970176Z",
     "shell.execute_reply.started": "2022-11-21T19:00:05.143970Z"
    },
    "tags": []
   },
   "outputs": [
    {
     "name": "stderr",
     "output_type": "stream",
     "text": [
      "100%|██████████| 1437/1437 [00:00<00:00, 2106.30it/s]\n",
      "100%|██████████| 1436/1436 [00:00<00:00, 10564.46it/s]\n"
     ]
    }
   ],
   "source": [
    "path_to_test = './public_test'\n",
    "test_dataset = CarsDatasetTest(path_to_test, transform=test_transform)\n",
    "test_dataloader = DataLoader(test_dataset, batch_size=16)"
   ]
  },
  {
   "cell_type": "code",
   "execution_count": 74,
   "metadata": {
    "execution": {
     "iopub.execute_input": "2022-11-21T19:00:06.910326Z",
     "iopub.status.busy": "2022-11-21T19:00:06.910115Z",
     "iopub.status.idle": "2022-11-21T19:00:06.914284Z",
     "shell.execute_reply": "2022-11-21T19:00:06.913869Z",
     "shell.execute_reply.started": "2022-11-21T19:00:06.910312Z"
    },
    "tags": []
   },
   "outputs": [],
   "source": [
    "def cv_predict(model, val_dataloader, criterion=None,device=\"cuda:0\"):\n",
    "    model.eval()\n",
    "    predicted_classes = torch.tensor([])\n",
    "    total_loss = 0\n",
    "    n_batchs = 0\n",
    "    first = True\n",
    "    with torch.no_grad():\n",
    "        for X_batch, y_batch in val_dataloader:\n",
    "            X_batch, y_batch = X_batch.to(device), y_batch.to(device)\n",
    "            #y_preds = model(X_batch)\n",
    "            #total_loss += criterion(y_preds, y_batch)\n",
    "            #y_batch = y_batch.cpu()\n",
    "            if first:\n",
    "                predicted_probas = F.softmax(model(X_batch), dim=1).cpu()\n",
    "                first = False\n",
    "            else:\n",
    "                probas = F.softmax(model(X_batch), dim=1).cpu()\n",
    "                predicted_probas = torch.cat((predicted_probas, probas), dim=0)\n",
    "    return predicted_probas"
   ]
  },
  {
   "cell_type": "code",
   "execution_count": null,
   "metadata": {},
   "outputs": [],
   "source": []
  },
  {
   "cell_type": "code",
   "execution_count": 75,
   "metadata": {
    "execution": {
     "iopub.execute_input": "2022-11-21T19:00:13.834998Z",
     "iopub.status.busy": "2022-11-21T19:00:13.834630Z",
     "iopub.status.idle": "2022-11-21T19:00:14.476755Z",
     "shell.execute_reply": "2022-11-21T19:00:14.476004Z",
     "shell.execute_reply.started": "2022-11-21T19:00:13.834969Z"
    },
    "tags": []
   },
   "outputs": [
    {
     "ename": "RuntimeError",
     "evalue": "Given groups=1, weight of size [32, 3, 3, 3], expected input[16, 256, 256, 3] to have 3 channels, but got 256 channels instead",
     "output_type": "error",
     "traceback": [
      "\u001b[0;31m---------------------------------------------------------------------------\u001b[0m",
      "\u001b[0;31mRuntimeError\u001b[0m                              Traceback (most recent call last)",
      "Cell \u001b[0;32mIn [75], line 5\u001b[0m\n\u001b[1;32m      3\u001b[0m \u001b[38;5;28;01mwith\u001b[39;00m \u001b[38;5;28mopen\u001b[39m(\u001b[38;5;124mf\u001b[39m\u001b[38;5;124m'\u001b[39m\u001b[38;5;124m./models/model_\u001b[39m\u001b[38;5;132;01m{\u001b[39;00mi\u001b[38;5;132;01m}\u001b[39;00m\u001b[38;5;124m.pkl\u001b[39m\u001b[38;5;124m'\u001b[39m, \u001b[38;5;124m'\u001b[39m\u001b[38;5;124mrb\u001b[39m\u001b[38;5;124m'\u001b[39m) \u001b[38;5;28;01mas\u001b[39;00m f:\n\u001b[1;32m      4\u001b[0m     model  \u001b[38;5;241m=\u001b[39m pickle\u001b[38;5;241m.\u001b[39mload(f)\n\u001b[0;32m----> 5\u001b[0m     total_probas \u001b[38;5;241m+\u001b[39m\u001b[38;5;241m=\u001b[39m \u001b[43mcv_predict\u001b[49m\u001b[43m(\u001b[49m\u001b[43mmodel\u001b[49m\u001b[43m,\u001b[49m\u001b[43m \u001b[49m\u001b[43mtest_dataloader\u001b[49m\u001b[43m)\u001b[49m\n",
      "Cell \u001b[0;32mIn [74], line 14\u001b[0m, in \u001b[0;36mcv_predict\u001b[0;34m(model, val_dataloader, criterion, device)\u001b[0m\n\u001b[1;32m     10\u001b[0m \u001b[38;5;66;03m#y_preds = model(X_batch)\u001b[39;00m\n\u001b[1;32m     11\u001b[0m \u001b[38;5;66;03m#total_loss += criterion(y_preds, y_batch)\u001b[39;00m\n\u001b[1;32m     12\u001b[0m \u001b[38;5;66;03m#y_batch = y_batch.cpu()\u001b[39;00m\n\u001b[1;32m     13\u001b[0m \u001b[38;5;28;01mif\u001b[39;00m first:\n\u001b[0;32m---> 14\u001b[0m     predicted_probas \u001b[38;5;241m=\u001b[39m F\u001b[38;5;241m.\u001b[39msoftmax(\u001b[43mmodel\u001b[49m\u001b[43m(\u001b[49m\u001b[43mX_batch\u001b[49m\u001b[43m)\u001b[49m, dim\u001b[38;5;241m=\u001b[39m\u001b[38;5;241m1\u001b[39m)\u001b[38;5;241m.\u001b[39mcpu()\n\u001b[1;32m     15\u001b[0m     first \u001b[38;5;241m=\u001b[39m \u001b[38;5;28;01mFalse\u001b[39;00m\n\u001b[1;32m     16\u001b[0m \u001b[38;5;28;01melse\u001b[39;00m:\n",
      "File \u001b[0;32m/opt/conda/lib/python3.10/site-packages/torch/nn/modules/module.py:1190\u001b[0m, in \u001b[0;36mModule._call_impl\u001b[0;34m(self, *input, **kwargs)\u001b[0m\n\u001b[1;32m   1186\u001b[0m \u001b[38;5;66;03m# If we don't have any hooks, we want to skip the rest of the logic in\u001b[39;00m\n\u001b[1;32m   1187\u001b[0m \u001b[38;5;66;03m# this function, and just call forward.\u001b[39;00m\n\u001b[1;32m   1188\u001b[0m \u001b[38;5;28;01mif\u001b[39;00m \u001b[38;5;129;01mnot\u001b[39;00m (\u001b[38;5;28mself\u001b[39m\u001b[38;5;241m.\u001b[39m_backward_hooks \u001b[38;5;129;01mor\u001b[39;00m \u001b[38;5;28mself\u001b[39m\u001b[38;5;241m.\u001b[39m_forward_hooks \u001b[38;5;129;01mor\u001b[39;00m \u001b[38;5;28mself\u001b[39m\u001b[38;5;241m.\u001b[39m_forward_pre_hooks \u001b[38;5;129;01mor\u001b[39;00m _global_backward_hooks\n\u001b[1;32m   1189\u001b[0m         \u001b[38;5;129;01mor\u001b[39;00m _global_forward_hooks \u001b[38;5;129;01mor\u001b[39;00m _global_forward_pre_hooks):\n\u001b[0;32m-> 1190\u001b[0m     \u001b[38;5;28;01mreturn\u001b[39;00m \u001b[43mforward_call\u001b[49m\u001b[43m(\u001b[49m\u001b[38;5;241;43m*\u001b[39;49m\u001b[38;5;28;43minput\u001b[39;49m\u001b[43m,\u001b[49m\u001b[43m \u001b[49m\u001b[38;5;241;43m*\u001b[39;49m\u001b[38;5;241;43m*\u001b[39;49m\u001b[43mkwargs\u001b[49m\u001b[43m)\u001b[49m\n\u001b[1;32m   1191\u001b[0m \u001b[38;5;66;03m# Do not call functions when jit is used\u001b[39;00m\n\u001b[1;32m   1192\u001b[0m full_backward_hooks, non_full_backward_hooks \u001b[38;5;241m=\u001b[39m [], []\n",
      "File \u001b[0;32m/opt/conda/lib/python3.10/site-packages/torchvision/models/efficientnet.py:355\u001b[0m, in \u001b[0;36mEfficientNet.forward\u001b[0;34m(self, x)\u001b[0m\n\u001b[1;32m    354\u001b[0m \u001b[38;5;28;01mdef\u001b[39;00m \u001b[38;5;21mforward\u001b[39m(\u001b[38;5;28mself\u001b[39m, x: Tensor) \u001b[38;5;241m-\u001b[39m\u001b[38;5;241m>\u001b[39m Tensor:\n\u001b[0;32m--> 355\u001b[0m     \u001b[38;5;28;01mreturn\u001b[39;00m \u001b[38;5;28;43mself\u001b[39;49m\u001b[38;5;241;43m.\u001b[39;49m\u001b[43m_forward_impl\u001b[49m\u001b[43m(\u001b[49m\u001b[43mx\u001b[49m\u001b[43m)\u001b[49m\n",
      "File \u001b[0;32m/opt/conda/lib/python3.10/site-packages/torchvision/models/efficientnet.py:345\u001b[0m, in \u001b[0;36mEfficientNet._forward_impl\u001b[0;34m(self, x)\u001b[0m\n\u001b[1;32m    344\u001b[0m \u001b[38;5;28;01mdef\u001b[39;00m \u001b[38;5;21m_forward_impl\u001b[39m(\u001b[38;5;28mself\u001b[39m, x: Tensor) \u001b[38;5;241m-\u001b[39m\u001b[38;5;241m>\u001b[39m Tensor:\n\u001b[0;32m--> 345\u001b[0m     x \u001b[38;5;241m=\u001b[39m \u001b[38;5;28;43mself\u001b[39;49m\u001b[38;5;241;43m.\u001b[39;49m\u001b[43mfeatures\u001b[49m\u001b[43m(\u001b[49m\u001b[43mx\u001b[49m\u001b[43m)\u001b[49m\n\u001b[1;32m    347\u001b[0m     x \u001b[38;5;241m=\u001b[39m \u001b[38;5;28mself\u001b[39m\u001b[38;5;241m.\u001b[39mavgpool(x)\n\u001b[1;32m    348\u001b[0m     x \u001b[38;5;241m=\u001b[39m torch\u001b[38;5;241m.\u001b[39mflatten(x, \u001b[38;5;241m1\u001b[39m)\n",
      "File \u001b[0;32m/opt/conda/lib/python3.10/site-packages/torch/nn/modules/module.py:1190\u001b[0m, in \u001b[0;36mModule._call_impl\u001b[0;34m(self, *input, **kwargs)\u001b[0m\n\u001b[1;32m   1186\u001b[0m \u001b[38;5;66;03m# If we don't have any hooks, we want to skip the rest of the logic in\u001b[39;00m\n\u001b[1;32m   1187\u001b[0m \u001b[38;5;66;03m# this function, and just call forward.\u001b[39;00m\n\u001b[1;32m   1188\u001b[0m \u001b[38;5;28;01mif\u001b[39;00m \u001b[38;5;129;01mnot\u001b[39;00m (\u001b[38;5;28mself\u001b[39m\u001b[38;5;241m.\u001b[39m_backward_hooks \u001b[38;5;129;01mor\u001b[39;00m \u001b[38;5;28mself\u001b[39m\u001b[38;5;241m.\u001b[39m_forward_hooks \u001b[38;5;129;01mor\u001b[39;00m \u001b[38;5;28mself\u001b[39m\u001b[38;5;241m.\u001b[39m_forward_pre_hooks \u001b[38;5;129;01mor\u001b[39;00m _global_backward_hooks\n\u001b[1;32m   1189\u001b[0m         \u001b[38;5;129;01mor\u001b[39;00m _global_forward_hooks \u001b[38;5;129;01mor\u001b[39;00m _global_forward_pre_hooks):\n\u001b[0;32m-> 1190\u001b[0m     \u001b[38;5;28;01mreturn\u001b[39;00m \u001b[43mforward_call\u001b[49m\u001b[43m(\u001b[49m\u001b[38;5;241;43m*\u001b[39;49m\u001b[38;5;28;43minput\u001b[39;49m\u001b[43m,\u001b[49m\u001b[43m \u001b[49m\u001b[38;5;241;43m*\u001b[39;49m\u001b[38;5;241;43m*\u001b[39;49m\u001b[43mkwargs\u001b[49m\u001b[43m)\u001b[49m\n\u001b[1;32m   1191\u001b[0m \u001b[38;5;66;03m# Do not call functions when jit is used\u001b[39;00m\n\u001b[1;32m   1192\u001b[0m full_backward_hooks, non_full_backward_hooks \u001b[38;5;241m=\u001b[39m [], []\n",
      "File \u001b[0;32m/opt/conda/lib/python3.10/site-packages/torch/nn/modules/container.py:204\u001b[0m, in \u001b[0;36mSequential.forward\u001b[0;34m(self, input)\u001b[0m\n\u001b[1;32m    202\u001b[0m \u001b[38;5;28;01mdef\u001b[39;00m \u001b[38;5;21mforward\u001b[39m(\u001b[38;5;28mself\u001b[39m, \u001b[38;5;28minput\u001b[39m):\n\u001b[1;32m    203\u001b[0m     \u001b[38;5;28;01mfor\u001b[39;00m module \u001b[38;5;129;01min\u001b[39;00m \u001b[38;5;28mself\u001b[39m:\n\u001b[0;32m--> 204\u001b[0m         \u001b[38;5;28minput\u001b[39m \u001b[38;5;241m=\u001b[39m \u001b[43mmodule\u001b[49m\u001b[43m(\u001b[49m\u001b[38;5;28;43minput\u001b[39;49m\u001b[43m)\u001b[49m\n\u001b[1;32m    205\u001b[0m     \u001b[38;5;28;01mreturn\u001b[39;00m \u001b[38;5;28minput\u001b[39m\n",
      "File \u001b[0;32m/opt/conda/lib/python3.10/site-packages/torch/nn/modules/module.py:1190\u001b[0m, in \u001b[0;36mModule._call_impl\u001b[0;34m(self, *input, **kwargs)\u001b[0m\n\u001b[1;32m   1186\u001b[0m \u001b[38;5;66;03m# If we don't have any hooks, we want to skip the rest of the logic in\u001b[39;00m\n\u001b[1;32m   1187\u001b[0m \u001b[38;5;66;03m# this function, and just call forward.\u001b[39;00m\n\u001b[1;32m   1188\u001b[0m \u001b[38;5;28;01mif\u001b[39;00m \u001b[38;5;129;01mnot\u001b[39;00m (\u001b[38;5;28mself\u001b[39m\u001b[38;5;241m.\u001b[39m_backward_hooks \u001b[38;5;129;01mor\u001b[39;00m \u001b[38;5;28mself\u001b[39m\u001b[38;5;241m.\u001b[39m_forward_hooks \u001b[38;5;129;01mor\u001b[39;00m \u001b[38;5;28mself\u001b[39m\u001b[38;5;241m.\u001b[39m_forward_pre_hooks \u001b[38;5;129;01mor\u001b[39;00m _global_backward_hooks\n\u001b[1;32m   1189\u001b[0m         \u001b[38;5;129;01mor\u001b[39;00m _global_forward_hooks \u001b[38;5;129;01mor\u001b[39;00m _global_forward_pre_hooks):\n\u001b[0;32m-> 1190\u001b[0m     \u001b[38;5;28;01mreturn\u001b[39;00m \u001b[43mforward_call\u001b[49m\u001b[43m(\u001b[49m\u001b[38;5;241;43m*\u001b[39;49m\u001b[38;5;28;43minput\u001b[39;49m\u001b[43m,\u001b[49m\u001b[43m \u001b[49m\u001b[38;5;241;43m*\u001b[39;49m\u001b[38;5;241;43m*\u001b[39;49m\u001b[43mkwargs\u001b[49m\u001b[43m)\u001b[49m\n\u001b[1;32m   1191\u001b[0m \u001b[38;5;66;03m# Do not call functions when jit is used\u001b[39;00m\n\u001b[1;32m   1192\u001b[0m full_backward_hooks, non_full_backward_hooks \u001b[38;5;241m=\u001b[39m [], []\n",
      "File \u001b[0;32m/opt/conda/lib/python3.10/site-packages/torch/nn/modules/container.py:204\u001b[0m, in \u001b[0;36mSequential.forward\u001b[0;34m(self, input)\u001b[0m\n\u001b[1;32m    202\u001b[0m \u001b[38;5;28;01mdef\u001b[39;00m \u001b[38;5;21mforward\u001b[39m(\u001b[38;5;28mself\u001b[39m, \u001b[38;5;28minput\u001b[39m):\n\u001b[1;32m    203\u001b[0m     \u001b[38;5;28;01mfor\u001b[39;00m module \u001b[38;5;129;01min\u001b[39;00m \u001b[38;5;28mself\u001b[39m:\n\u001b[0;32m--> 204\u001b[0m         \u001b[38;5;28minput\u001b[39m \u001b[38;5;241m=\u001b[39m \u001b[43mmodule\u001b[49m\u001b[43m(\u001b[49m\u001b[38;5;28;43minput\u001b[39;49m\u001b[43m)\u001b[49m\n\u001b[1;32m    205\u001b[0m     \u001b[38;5;28;01mreturn\u001b[39;00m \u001b[38;5;28minput\u001b[39m\n",
      "File \u001b[0;32m/opt/conda/lib/python3.10/site-packages/torch/nn/modules/module.py:1190\u001b[0m, in \u001b[0;36mModule._call_impl\u001b[0;34m(self, *input, **kwargs)\u001b[0m\n\u001b[1;32m   1186\u001b[0m \u001b[38;5;66;03m# If we don't have any hooks, we want to skip the rest of the logic in\u001b[39;00m\n\u001b[1;32m   1187\u001b[0m \u001b[38;5;66;03m# this function, and just call forward.\u001b[39;00m\n\u001b[1;32m   1188\u001b[0m \u001b[38;5;28;01mif\u001b[39;00m \u001b[38;5;129;01mnot\u001b[39;00m (\u001b[38;5;28mself\u001b[39m\u001b[38;5;241m.\u001b[39m_backward_hooks \u001b[38;5;129;01mor\u001b[39;00m \u001b[38;5;28mself\u001b[39m\u001b[38;5;241m.\u001b[39m_forward_hooks \u001b[38;5;129;01mor\u001b[39;00m \u001b[38;5;28mself\u001b[39m\u001b[38;5;241m.\u001b[39m_forward_pre_hooks \u001b[38;5;129;01mor\u001b[39;00m _global_backward_hooks\n\u001b[1;32m   1189\u001b[0m         \u001b[38;5;129;01mor\u001b[39;00m _global_forward_hooks \u001b[38;5;129;01mor\u001b[39;00m _global_forward_pre_hooks):\n\u001b[0;32m-> 1190\u001b[0m     \u001b[38;5;28;01mreturn\u001b[39;00m \u001b[43mforward_call\u001b[49m\u001b[43m(\u001b[49m\u001b[38;5;241;43m*\u001b[39;49m\u001b[38;5;28;43minput\u001b[39;49m\u001b[43m,\u001b[49m\u001b[43m \u001b[49m\u001b[38;5;241;43m*\u001b[39;49m\u001b[38;5;241;43m*\u001b[39;49m\u001b[43mkwargs\u001b[49m\u001b[43m)\u001b[49m\n\u001b[1;32m   1191\u001b[0m \u001b[38;5;66;03m# Do not call functions when jit is used\u001b[39;00m\n\u001b[1;32m   1192\u001b[0m full_backward_hooks, non_full_backward_hooks \u001b[38;5;241m=\u001b[39m [], []\n",
      "File \u001b[0;32m/opt/conda/lib/python3.10/site-packages/torch/nn/modules/conv.py:463\u001b[0m, in \u001b[0;36mConv2d.forward\u001b[0;34m(self, input)\u001b[0m\n\u001b[1;32m    462\u001b[0m \u001b[38;5;28;01mdef\u001b[39;00m \u001b[38;5;21mforward\u001b[39m(\u001b[38;5;28mself\u001b[39m, \u001b[38;5;28minput\u001b[39m: Tensor) \u001b[38;5;241m-\u001b[39m\u001b[38;5;241m>\u001b[39m Tensor:\n\u001b[0;32m--> 463\u001b[0m     \u001b[38;5;28;01mreturn\u001b[39;00m \u001b[38;5;28;43mself\u001b[39;49m\u001b[38;5;241;43m.\u001b[39;49m\u001b[43m_conv_forward\u001b[49m\u001b[43m(\u001b[49m\u001b[38;5;28;43minput\u001b[39;49m\u001b[43m,\u001b[49m\u001b[43m \u001b[49m\u001b[38;5;28;43mself\u001b[39;49m\u001b[38;5;241;43m.\u001b[39;49m\u001b[43mweight\u001b[49m\u001b[43m,\u001b[49m\u001b[43m \u001b[49m\u001b[38;5;28;43mself\u001b[39;49m\u001b[38;5;241;43m.\u001b[39;49m\u001b[43mbias\u001b[49m\u001b[43m)\u001b[49m\n",
      "File \u001b[0;32m/opt/conda/lib/python3.10/site-packages/torch/nn/modules/conv.py:459\u001b[0m, in \u001b[0;36mConv2d._conv_forward\u001b[0;34m(self, input, weight, bias)\u001b[0m\n\u001b[1;32m    455\u001b[0m \u001b[38;5;28;01mif\u001b[39;00m \u001b[38;5;28mself\u001b[39m\u001b[38;5;241m.\u001b[39mpadding_mode \u001b[38;5;241m!=\u001b[39m \u001b[38;5;124m'\u001b[39m\u001b[38;5;124mzeros\u001b[39m\u001b[38;5;124m'\u001b[39m:\n\u001b[1;32m    456\u001b[0m     \u001b[38;5;28;01mreturn\u001b[39;00m F\u001b[38;5;241m.\u001b[39mconv2d(F\u001b[38;5;241m.\u001b[39mpad(\u001b[38;5;28minput\u001b[39m, \u001b[38;5;28mself\u001b[39m\u001b[38;5;241m.\u001b[39m_reversed_padding_repeated_twice, mode\u001b[38;5;241m=\u001b[39m\u001b[38;5;28mself\u001b[39m\u001b[38;5;241m.\u001b[39mpadding_mode),\n\u001b[1;32m    457\u001b[0m                     weight, bias, \u001b[38;5;28mself\u001b[39m\u001b[38;5;241m.\u001b[39mstride,\n\u001b[1;32m    458\u001b[0m                     _pair(\u001b[38;5;241m0\u001b[39m), \u001b[38;5;28mself\u001b[39m\u001b[38;5;241m.\u001b[39mdilation, \u001b[38;5;28mself\u001b[39m\u001b[38;5;241m.\u001b[39mgroups)\n\u001b[0;32m--> 459\u001b[0m \u001b[38;5;28;01mreturn\u001b[39;00m \u001b[43mF\u001b[49m\u001b[38;5;241;43m.\u001b[39;49m\u001b[43mconv2d\u001b[49m\u001b[43m(\u001b[49m\u001b[38;5;28;43minput\u001b[39;49m\u001b[43m,\u001b[49m\u001b[43m \u001b[49m\u001b[43mweight\u001b[49m\u001b[43m,\u001b[49m\u001b[43m \u001b[49m\u001b[43mbias\u001b[49m\u001b[43m,\u001b[49m\u001b[43m \u001b[49m\u001b[38;5;28;43mself\u001b[39;49m\u001b[38;5;241;43m.\u001b[39;49m\u001b[43mstride\u001b[49m\u001b[43m,\u001b[49m\n\u001b[1;32m    460\u001b[0m \u001b[43m                \u001b[49m\u001b[38;5;28;43mself\u001b[39;49m\u001b[38;5;241;43m.\u001b[39;49m\u001b[43mpadding\u001b[49m\u001b[43m,\u001b[49m\u001b[43m \u001b[49m\u001b[38;5;28;43mself\u001b[39;49m\u001b[38;5;241;43m.\u001b[39;49m\u001b[43mdilation\u001b[49m\u001b[43m,\u001b[49m\u001b[43m \u001b[49m\u001b[38;5;28;43mself\u001b[39;49m\u001b[38;5;241;43m.\u001b[39;49m\u001b[43mgroups\u001b[49m\u001b[43m)\u001b[49m\n",
      "\u001b[0;31mRuntimeError\u001b[0m: Given groups=1, weight of size [32, 3, 3, 3], expected input[16, 256, 256, 3] to have 3 channels, but got 256 channels instead"
     ]
    }
   ],
   "source": [
    "total_probas = torch.zeros((len(test_dataset.data), 11))\n",
    "for  i in range(4):\n",
    "    with open(f'./models/model_{i}.pkl', 'rb') as f:\n",
    "        model  = pickle.load(f)\n",
    "        total_probas += cv_predict(model, test_dataloader)"
   ]
  },
  {
   "cell_type": "code",
   "execution_count": 29,
   "metadata": {
    "execution": {
     "iopub.execute_input": "2022-11-21T17:59:39.754664Z",
     "iopub.status.busy": "2022-11-21T17:59:39.754245Z",
     "iopub.status.idle": "2022-11-21T17:59:39.757053Z",
     "shell.execute_reply": "2022-11-21T17:59:39.756680Z",
     "shell.execute_reply.started": "2022-11-21T17:59:39.754648Z"
    },
    "tags": []
   },
   "outputs": [],
   "source": [
    "total_probas /= 4\n",
    "predicted_classes = torch.argmax(total_probas, dim=1)"
   ]
  },
  {
   "cell_type": "code",
   "execution_count": 30,
   "metadata": {
    "execution": {
     "iopub.execute_input": "2022-11-21T17:59:44.630678Z",
     "iopub.status.busy": "2022-11-21T17:59:44.630262Z",
     "iopub.status.idle": "2022-11-21T17:59:44.637097Z",
     "shell.execute_reply": "2022-11-21T17:59:44.636771Z",
     "shell.execute_reply.started": "2022-11-21T17:59:44.630662Z"
    },
    "tags": []
   },
   "outputs": [],
   "source": [
    "predicted_classes = np.array([label2color(int(preds)) for preds in predicted_classes])"
   ]
  },
  {
   "cell_type": "code",
   "execution_count": 31,
   "metadata": {
    "execution": {
     "iopub.execute_input": "2022-11-21T17:59:51.389569Z",
     "iopub.status.busy": "2022-11-21T17:59:51.389145Z",
     "iopub.status.idle": "2022-11-21T17:59:51.392306Z",
     "shell.execute_reply": "2022-11-21T17:59:51.392006Z",
     "shell.execute_reply.started": "2022-11-21T17:59:51.389554Z"
    },
    "tags": []
   },
   "outputs": [
    {
     "data": {
      "text/plain": [
       "1436"
      ]
     },
     "execution_count": 31,
     "metadata": {},
     "output_type": "execute_result"
    }
   ],
   "source": [
    "len(test_dataset.data)"
   ]
  },
  {
   "cell_type": "code",
   "execution_count": 33,
   "metadata": {
    "execution": {
     "iopub.execute_input": "2022-11-21T18:00:15.838302Z",
     "iopub.status.busy": "2022-11-21T18:00:15.837954Z",
     "iopub.status.idle": "2022-11-21T18:00:15.844994Z",
     "shell.execute_reply": "2022-11-21T18:00:15.844622Z",
     "shell.execute_reply.started": "2022-11-21T18:00:15.838284Z"
    },
    "tags": []
   },
   "outputs": [
    {
     "name": "stderr",
     "output_type": "stream",
     "text": [
      "100%|██████████| 1437/1437 [00:00<00:00, 663644.00it/s]\n"
     ]
    }
   ],
   "source": [
    "imgs=[]\n",
    "for img in tqdm(os.listdir(path_to_test)):\n",
    "    if img[0]!='.':\n",
    "        imgs.append(int(os.path.splitext(img)[0]))\n"
   ]
  },
  {
   "cell_type": "code",
   "execution_count": 34,
   "metadata": {
    "execution": {
     "iopub.execute_input": "2022-11-21T18:00:21.798180Z",
     "iopub.status.busy": "2022-11-21T18:00:21.797907Z",
     "iopub.status.idle": "2022-11-21T18:00:21.800370Z",
     "shell.execute_reply": "2022-11-21T18:00:21.800042Z",
     "shell.execute_reply.started": "2022-11-21T18:00:21.798164Z"
    },
    "tags": []
   },
   "outputs": [],
   "source": [
    "import pandas as pd"
   ]
  },
  {
   "cell_type": "code",
   "execution_count": 38,
   "metadata": {
    "execution": {
     "iopub.execute_input": "2022-11-21T18:19:42.160877Z",
     "iopub.status.busy": "2022-11-21T18:19:42.160598Z",
     "iopub.status.idle": "2022-11-21T18:19:42.167270Z",
     "shell.execute_reply": "2022-11-21T18:19:42.166875Z",
     "shell.execute_reply.started": "2022-11-21T18:19:42.160860Z"
    },
    "tags": []
   },
   "outputs": [
    {
     "data": {
      "text/html": [
       "<div>\n",
       "<style scoped>\n",
       "    .dataframe tbody tr th:only-of-type {\n",
       "        vertical-align: middle;\n",
       "    }\n",
       "\n",
       "    .dataframe tbody tr th {\n",
       "        vertical-align: top;\n",
       "    }\n",
       "\n",
       "    .dataframe thead th {\n",
       "        text-align: right;\n",
       "    }\n",
       "</style>\n",
       "<table border=\"1\" class=\"dataframe\">\n",
       "  <thead>\n",
       "    <tr style=\"text-align: right;\">\n",
       "      <th></th>\n",
       "      <th>0</th>\n",
       "    </tr>\n",
       "  </thead>\n",
       "  <tbody>\n",
       "    <tr>\n",
       "      <th>720</th>\n",
       "      <td>Green</td>\n",
       "    </tr>\n",
       "    <tr>\n",
       "      <th>860</th>\n",
       "      <td>Orange</td>\n",
       "    </tr>\n",
       "    <tr>\n",
       "      <th>683</th>\n",
       "      <td>Cyan</td>\n",
       "    </tr>\n",
       "    <tr>\n",
       "      <th>519</th>\n",
       "      <td>Orange</td>\n",
       "    </tr>\n",
       "    <tr>\n",
       "      <th>418</th>\n",
       "      <td>Cyan</td>\n",
       "    </tr>\n",
       "    <tr>\n",
       "      <th>...</th>\n",
       "      <td>...</td>\n",
       "    </tr>\n",
       "    <tr>\n",
       "      <th>1167</th>\n",
       "      <td>Grey</td>\n",
       "    </tr>\n",
       "    <tr>\n",
       "      <th>954</th>\n",
       "      <td>Orange</td>\n",
       "    </tr>\n",
       "    <tr>\n",
       "      <th>632</th>\n",
       "      <td>Brown</td>\n",
       "    </tr>\n",
       "    <tr>\n",
       "      <th>815</th>\n",
       "      <td>Grey</td>\n",
       "    </tr>\n",
       "    <tr>\n",
       "      <th>1122</th>\n",
       "      <td>Black</td>\n",
       "    </tr>\n",
       "  </tbody>\n",
       "</table>\n",
       "<p>1436 rows × 1 columns</p>\n",
       "</div>"
      ],
      "text/plain": [
       "           0\n",
       "720    Green\n",
       "860   Orange\n",
       "683     Cyan\n",
       "519   Orange\n",
       "418     Cyan\n",
       "...      ...\n",
       "1167    Grey\n",
       "954   Orange\n",
       "632    Brown\n",
       "815     Grey\n",
       "1122   Black\n",
       "\n",
       "[1436 rows x 1 columns]"
      ]
     },
     "execution_count": 38,
     "metadata": {},
     "output_type": "execute_result"
    }
   ],
   "source": [
    "test_df = pd.DataFrame(predicted_classes, index=imgs)\n",
    "test_df"
   ]
  },
  {
   "cell_type": "code",
   "execution_count": 41,
   "metadata": {
    "execution": {
     "iopub.execute_input": "2022-11-21T18:22:08.900648Z",
     "iopub.status.busy": "2022-11-21T18:22:08.900088Z",
     "iopub.status.idle": "2022-11-21T18:22:08.904778Z",
     "shell.execute_reply": "2022-11-21T18:22:08.904334Z",
     "shell.execute_reply.started": "2022-11-21T18:22:08.900630Z"
    },
    "tags": []
   },
   "outputs": [
    {
     "data": {
      "text/plain": [
       "0    Green\n",
       "Name: 720, dtype: object"
      ]
     },
     "execution_count": 41,
     "metadata": {},
     "output_type": "execute_result"
    }
   ],
   "source": [
    "test_df.loc[720]"
   ]
  },
  {
   "cell_type": "code",
   "execution_count": 42,
   "metadata": {
    "execution": {
     "iopub.execute_input": "2022-11-21T18:23:05.280573Z",
     "iopub.status.busy": "2022-11-21T18:23:05.279963Z",
     "iopub.status.idle": "2022-11-21T18:23:05.287580Z",
     "shell.execute_reply": "2022-11-21T18:23:05.287172Z",
     "shell.execute_reply.started": "2022-11-21T18:23:05.280553Z"
    },
    "tags": []
   },
   "outputs": [],
   "source": [
    "test_df = test_df.sort_index()\n",
    "test_df = test_df.rename(columns={0: test_df[0][0]})\n",
    "test_df.drop([0]).reset_index().drop(columns=['index']).to_csv('cv2.csv',index=False)"
   ]
  }
 ],
 "metadata": {
  "accelerator": "GPU",
  "colab": {
   "provenance": []
  },
  "gpuClass": "standard",
  "kernelspec": {
   "display_name": "Python 3 (ipykernel)",
   "language": "python",
   "name": "python3"
  },
  "language_info": {
   "codemirror_mode": {
    "name": "ipython",
    "version": 3
   },
   "file_extension": ".py",
   "mimetype": "text/x-python",
   "name": "python",
   "nbconvert_exporter": "python",
   "pygments_lexer": "ipython3",
   "version": "3.9.13"
  },
  "widgets": {
   "application/vnd.jupyter.widget-state+json": {
    "02073359061b428caf88bef40a6c429a": {
     "model_module": "@jupyter-widgets/base",
     "model_module_version": "1.2.0",
     "model_name": "LayoutModel",
     "state": {
      "_model_module": "@jupyter-widgets/base",
      "_model_module_version": "1.2.0",
      "_model_name": "LayoutModel",
      "_view_count": null,
      "_view_module": "@jupyter-widgets/base",
      "_view_module_version": "1.2.0",
      "_view_name": "LayoutView",
      "align_content": null,
      "align_items": null,
      "align_self": null,
      "border": null,
      "bottom": null,
      "display": null,
      "flex": null,
      "flex_flow": null,
      "grid_area": null,
      "grid_auto_columns": null,
      "grid_auto_flow": null,
      "grid_auto_rows": null,
      "grid_column": null,
      "grid_gap": null,
      "grid_row": null,
      "grid_template_areas": null,
      "grid_template_columns": null,
      "grid_template_rows": null,
      "height": null,
      "justify_content": null,
      "justify_items": null,
      "left": null,
      "margin": null,
      "max_height": null,
      "max_width": null,
      "min_height": null,
      "min_width": null,
      "object_fit": null,
      "object_position": null,
      "order": null,
      "overflow": null,
      "overflow_x": null,
      "overflow_y": null,
      "padding": null,
      "right": null,
      "top": null,
      "visibility": null,
      "width": null
     }
    },
    "039445bc6abc40828470c44917c316f4": {
     "model_module": "@jupyter-widgets/controls",
     "model_module_version": "1.5.0",
     "model_name": "DescriptionStyleModel",
     "state": {
      "_model_module": "@jupyter-widgets/controls",
      "_model_module_version": "1.5.0",
      "_model_name": "DescriptionStyleModel",
      "_view_count": null,
      "_view_module": "@jupyter-widgets/base",
      "_view_module_version": "1.2.0",
      "_view_name": "StyleView",
      "description_width": ""
     }
    },
    "06553ca60dfb46bc8d098133610e4d7b": {
     "model_module": "@jupyter-widgets/controls",
     "model_module_version": "1.5.0",
     "model_name": "ProgressStyleModel",
     "state": {
      "_model_module": "@jupyter-widgets/controls",
      "_model_module_version": "1.5.0",
      "_model_name": "ProgressStyleModel",
      "_view_count": null,
      "_view_module": "@jupyter-widgets/base",
      "_view_module_version": "1.2.0",
      "_view_name": "StyleView",
      "bar_color": null,
      "description_width": ""
     }
    },
    "089436967ed249f191f1cc9fb7a0655f": {
     "model_module": "@jupyter-widgets/controls",
     "model_module_version": "1.5.0",
     "model_name": "FloatProgressModel",
     "state": {
      "_dom_classes": [],
      "_model_module": "@jupyter-widgets/controls",
      "_model_module_version": "1.5.0",
      "_model_name": "FloatProgressModel",
      "_view_count": null,
      "_view_module": "@jupyter-widgets/controls",
      "_view_module_version": "1.5.0",
      "_view_name": "ProgressView",
      "bar_style": "",
      "description": "",
      "description_tooltip": null,
      "layout": "IPY_MODEL_02073359061b428caf88bef40a6c429a",
      "max": 10,
      "min": 0,
      "orientation": "horizontal",
      "style": "IPY_MODEL_3c962ed818e743a3aa89b0b0e0c97738",
      "value": 1
     }
    },
    "23840b7dbb6144fda87f87fc222b5141": {
     "model_module": "@jupyter-widgets/controls",
     "model_module_version": "1.5.0",
     "model_name": "HTMLModel",
     "state": {
      "_dom_classes": [],
      "_model_module": "@jupyter-widgets/controls",
      "_model_module_version": "1.5.0",
      "_model_name": "HTMLModel",
      "_view_count": null,
      "_view_module": "@jupyter-widgets/controls",
      "_view_module_version": "1.5.0",
      "_view_name": "HTMLView",
      "description": "",
      "description_tooltip": null,
      "layout": "IPY_MODEL_8ddccc7f4ab845b89b553d304bf66bc8",
      "placeholder": "​",
      "style": "IPY_MODEL_bdf3a98a7731445e941b8f89cbd3ab4d",
      "value": " 3802/3802 [00:24&lt;00:00, 170.94it/s]"
     }
    },
    "2beacbc1b82f4fc290a5cf70e20a38b8": {
     "model_module": "@jupyter-widgets/controls",
     "model_module_version": "1.5.0",
     "model_name": "HTMLModel",
     "state": {
      "_dom_classes": [],
      "_model_module": "@jupyter-widgets/controls",
      "_model_module_version": "1.5.0",
      "_model_name": "HTMLModel",
      "_view_count": null,
      "_view_module": "@jupyter-widgets/controls",
      "_view_module_version": "1.5.0",
      "_view_name": "HTMLView",
      "description": "",
      "description_tooltip": null,
      "layout": "IPY_MODEL_94ab3925aa4d43f0822eeca1fc4ced04",
      "placeholder": "​",
      "style": "IPY_MODEL_faadbca0e0c84c57bb8fdad55656e4a7",
      "value": "100%"
     }
    },
    "30c65adb4a134013b0c5c6e48a7aea17": {
     "model_module": "@jupyter-widgets/controls",
     "model_module_version": "1.5.0",
     "model_name": "DescriptionStyleModel",
     "state": {
      "_model_module": "@jupyter-widgets/controls",
      "_model_module_version": "1.5.0",
      "_model_name": "DescriptionStyleModel",
      "_view_count": null,
      "_view_module": "@jupyter-widgets/base",
      "_view_module_version": "1.2.0",
      "_view_name": "StyleView",
      "description_width": ""
     }
    },
    "3369b61f1fc04a8f951c3ca58bef1239": {
     "model_module": "@jupyter-widgets/controls",
     "model_module_version": "1.5.0",
     "model_name": "HBoxModel",
     "state": {
      "_dom_classes": [],
      "_model_module": "@jupyter-widgets/controls",
      "_model_module_version": "1.5.0",
      "_model_name": "HBoxModel",
      "_view_count": null,
      "_view_module": "@jupyter-widgets/controls",
      "_view_module_version": "1.5.0",
      "_view_name": "HBoxView",
      "box_style": "",
      "children": [
       "IPY_MODEL_2beacbc1b82f4fc290a5cf70e20a38b8",
       "IPY_MODEL_980aa69c7d92406eb43fa631917dc388",
       "IPY_MODEL_23840b7dbb6144fda87f87fc222b5141"
      ],
      "layout": "IPY_MODEL_d2fd2048e3d4468696b1ca53bd207715"
     }
    },
    "3c962ed818e743a3aa89b0b0e0c97738": {
     "model_module": "@jupyter-widgets/controls",
     "model_module_version": "1.5.0",
     "model_name": "ProgressStyleModel",
     "state": {
      "_model_module": "@jupyter-widgets/controls",
      "_model_module_version": "1.5.0",
      "_model_name": "ProgressStyleModel",
      "_view_count": null,
      "_view_module": "@jupyter-widgets/base",
      "_view_module_version": "1.2.0",
      "_view_name": "StyleView",
      "bar_color": null,
      "description_width": ""
     }
    },
    "567f270e2de04eb4af20f73a8ff43132": {
     "model_module": "@jupyter-widgets/base",
     "model_module_version": "1.2.0",
     "model_name": "LayoutModel",
     "state": {
      "_model_module": "@jupyter-widgets/base",
      "_model_module_version": "1.2.0",
      "_model_name": "LayoutModel",
      "_view_count": null,
      "_view_module": "@jupyter-widgets/base",
      "_view_module_version": "1.2.0",
      "_view_name": "LayoutView",
      "align_content": null,
      "align_items": null,
      "align_self": null,
      "border": null,
      "bottom": null,
      "display": null,
      "flex": null,
      "flex_flow": null,
      "grid_area": null,
      "grid_auto_columns": null,
      "grid_auto_flow": null,
      "grid_auto_rows": null,
      "grid_column": null,
      "grid_gap": null,
      "grid_row": null,
      "grid_template_areas": null,
      "grid_template_columns": null,
      "grid_template_rows": null,
      "height": null,
      "justify_content": null,
      "justify_items": null,
      "left": null,
      "margin": null,
      "max_height": null,
      "max_width": null,
      "min_height": null,
      "min_width": null,
      "object_fit": null,
      "object_position": null,
      "order": null,
      "overflow": null,
      "overflow_x": null,
      "overflow_y": null,
      "padding": null,
      "right": null,
      "top": null,
      "visibility": null,
      "width": null
     }
    },
    "5f8ab9b485054103ab562bca7990c615": {
     "model_module": "@jupyter-widgets/base",
     "model_module_version": "1.2.0",
     "model_name": "LayoutModel",
     "state": {
      "_model_module": "@jupyter-widgets/base",
      "_model_module_version": "1.2.0",
      "_model_name": "LayoutModel",
      "_view_count": null,
      "_view_module": "@jupyter-widgets/base",
      "_view_module_version": "1.2.0",
      "_view_name": "LayoutView",
      "align_content": null,
      "align_items": null,
      "align_self": null,
      "border": null,
      "bottom": null,
      "display": null,
      "flex": null,
      "flex_flow": null,
      "grid_area": null,
      "grid_auto_columns": null,
      "grid_auto_flow": null,
      "grid_auto_rows": null,
      "grid_column": null,
      "grid_gap": null,
      "grid_row": null,
      "grid_template_areas": null,
      "grid_template_columns": null,
      "grid_template_rows": null,
      "height": null,
      "justify_content": null,
      "justify_items": null,
      "left": null,
      "margin": null,
      "max_height": null,
      "max_width": null,
      "min_height": null,
      "min_width": null,
      "object_fit": null,
      "object_position": null,
      "order": null,
      "overflow": null,
      "overflow_x": null,
      "overflow_y": null,
      "padding": null,
      "right": null,
      "top": null,
      "visibility": null,
      "width": null
     }
    },
    "722fbb19224c4d5bab3e0c9c81013a35": {
     "model_module": "@jupyter-widgets/base",
     "model_module_version": "1.2.0",
     "model_name": "LayoutModel",
     "state": {
      "_model_module": "@jupyter-widgets/base",
      "_model_module_version": "1.2.0",
      "_model_name": "LayoutModel",
      "_view_count": null,
      "_view_module": "@jupyter-widgets/base",
      "_view_module_version": "1.2.0",
      "_view_name": "LayoutView",
      "align_content": null,
      "align_items": null,
      "align_self": null,
      "border": null,
      "bottom": null,
      "display": null,
      "flex": null,
      "flex_flow": null,
      "grid_area": null,
      "grid_auto_columns": null,
      "grid_auto_flow": null,
      "grid_auto_rows": null,
      "grid_column": null,
      "grid_gap": null,
      "grid_row": null,
      "grid_template_areas": null,
      "grid_template_columns": null,
      "grid_template_rows": null,
      "height": null,
      "justify_content": null,
      "justify_items": null,
      "left": null,
      "margin": null,
      "max_height": null,
      "max_width": null,
      "min_height": null,
      "min_width": null,
      "object_fit": null,
      "object_position": null,
      "order": null,
      "overflow": null,
      "overflow_x": null,
      "overflow_y": null,
      "padding": null,
      "right": null,
      "top": null,
      "visibility": null,
      "width": null
     }
    },
    "7fe87cc1f7844c5c8342c16003bf3286": {
     "model_module": "@jupyter-widgets/controls",
     "model_module_version": "1.5.0",
     "model_name": "DescriptionStyleModel",
     "state": {
      "_model_module": "@jupyter-widgets/controls",
      "_model_module_version": "1.5.0",
      "_model_name": "DescriptionStyleModel",
      "_view_count": null,
      "_view_module": "@jupyter-widgets/base",
      "_view_module_version": "1.2.0",
      "_view_name": "StyleView",
      "description_width": ""
     }
    },
    "8ddccc7f4ab845b89b553d304bf66bc8": {
     "model_module": "@jupyter-widgets/base",
     "model_module_version": "1.2.0",
     "model_name": "LayoutModel",
     "state": {
      "_model_module": "@jupyter-widgets/base",
      "_model_module_version": "1.2.0",
      "_model_name": "LayoutModel",
      "_view_count": null,
      "_view_module": "@jupyter-widgets/base",
      "_view_module_version": "1.2.0",
      "_view_name": "LayoutView",
      "align_content": null,
      "align_items": null,
      "align_self": null,
      "border": null,
      "bottom": null,
      "display": null,
      "flex": null,
      "flex_flow": null,
      "grid_area": null,
      "grid_auto_columns": null,
      "grid_auto_flow": null,
      "grid_auto_rows": null,
      "grid_column": null,
      "grid_gap": null,
      "grid_row": null,
      "grid_template_areas": null,
      "grid_template_columns": null,
      "grid_template_rows": null,
      "height": null,
      "justify_content": null,
      "justify_items": null,
      "left": null,
      "margin": null,
      "max_height": null,
      "max_width": null,
      "min_height": null,
      "min_width": null,
      "object_fit": null,
      "object_position": null,
      "order": null,
      "overflow": null,
      "overflow_x": null,
      "overflow_y": null,
      "padding": null,
      "right": null,
      "top": null,
      "visibility": null,
      "width": null
     }
    },
    "9091b720fe924846a37b234816703041": {
     "model_module": "@jupyter-widgets/controls",
     "model_module_version": "1.5.0",
     "model_name": "ProgressStyleModel",
     "state": {
      "_model_module": "@jupyter-widgets/controls",
      "_model_module_version": "1.5.0",
      "_model_name": "ProgressStyleModel",
      "_view_count": null,
      "_view_module": "@jupyter-widgets/base",
      "_view_module_version": "1.2.0",
      "_view_name": "StyleView",
      "bar_color": null,
      "description_width": ""
     }
    },
    "94ab3925aa4d43f0822eeca1fc4ced04": {
     "model_module": "@jupyter-widgets/base",
     "model_module_version": "1.2.0",
     "model_name": "LayoutModel",
     "state": {
      "_model_module": "@jupyter-widgets/base",
      "_model_module_version": "1.2.0",
      "_model_name": "LayoutModel",
      "_view_count": null,
      "_view_module": "@jupyter-widgets/base",
      "_view_module_version": "1.2.0",
      "_view_name": "LayoutView",
      "align_content": null,
      "align_items": null,
      "align_self": null,
      "border": null,
      "bottom": null,
      "display": null,
      "flex": null,
      "flex_flow": null,
      "grid_area": null,
      "grid_auto_columns": null,
      "grid_auto_flow": null,
      "grid_auto_rows": null,
      "grid_column": null,
      "grid_gap": null,
      "grid_row": null,
      "grid_template_areas": null,
      "grid_template_columns": null,
      "grid_template_rows": null,
      "height": null,
      "justify_content": null,
      "justify_items": null,
      "left": null,
      "margin": null,
      "max_height": null,
      "max_width": null,
      "min_height": null,
      "min_width": null,
      "object_fit": null,
      "object_position": null,
      "order": null,
      "overflow": null,
      "overflow_x": null,
      "overflow_y": null,
      "padding": null,
      "right": null,
      "top": null,
      "visibility": null,
      "width": null
     }
    },
    "980aa69c7d92406eb43fa631917dc388": {
     "model_module": "@jupyter-widgets/controls",
     "model_module_version": "1.5.0",
     "model_name": "FloatProgressModel",
     "state": {
      "_dom_classes": [],
      "_model_module": "@jupyter-widgets/controls",
      "_model_module_version": "1.5.0",
      "_model_name": "FloatProgressModel",
      "_view_count": null,
      "_view_module": "@jupyter-widgets/controls",
      "_view_module_version": "1.5.0",
      "_view_name": "ProgressView",
      "bar_style": "success",
      "description": "",
      "description_tooltip": null,
      "layout": "IPY_MODEL_567f270e2de04eb4af20f73a8ff43132",
      "max": 3802,
      "min": 0,
      "orientation": "horizontal",
      "style": "IPY_MODEL_06553ca60dfb46bc8d098133610e4d7b",
      "value": 3802
     }
    },
    "99459ca69b10480e81f2c2e5e412a082": {
     "model_module": "@jupyter-widgets/controls",
     "model_module_version": "1.5.0",
     "model_name": "HTMLModel",
     "state": {
      "_dom_classes": [],
      "_model_module": "@jupyter-widgets/controls",
      "_model_module_version": "1.5.0",
      "_model_name": "HTMLModel",
      "_view_count": null,
      "_view_module": "@jupyter-widgets/controls",
      "_view_module_version": "1.5.0",
      "_view_name": "HTMLView",
      "description": "",
      "description_tooltip": null,
      "layout": "IPY_MODEL_f580a4c1c39a4fdbb0b910fc26b91986",
      "placeholder": "​",
      "style": "IPY_MODEL_e408b28a8fc342b48233257ad9561aac",
      "value": " 10%"
     }
    },
    "a74ad7b4832d49d0bb1940eeaa324c79": {
     "model_module": "@jupyter-widgets/controls",
     "model_module_version": "1.5.0",
     "model_name": "HBoxModel",
     "state": {
      "_dom_classes": [],
      "_model_module": "@jupyter-widgets/controls",
      "_model_module_version": "1.5.0",
      "_model_name": "HBoxModel",
      "_view_count": null,
      "_view_module": "@jupyter-widgets/controls",
      "_view_module_version": "1.5.0",
      "_view_name": "HBoxView",
      "box_style": "",
      "children": [
       "IPY_MODEL_b8af4cf83ebf4ef18c062dba3d383159",
       "IPY_MODEL_bc92166e2dd840789e9ea84872638cd0",
       "IPY_MODEL_dd7d40b46fec46f796a2aae674f6cb3a"
      ],
      "layout": "IPY_MODEL_722fbb19224c4d5bab3e0c9c81013a35"
     }
    },
    "b8af4cf83ebf4ef18c062dba3d383159": {
     "model_module": "@jupyter-widgets/controls",
     "model_module_version": "1.5.0",
     "model_name": "HTMLModel",
     "state": {
      "_dom_classes": [],
      "_model_module": "@jupyter-widgets/controls",
      "_model_module_version": "1.5.0",
      "_model_name": "HTMLModel",
      "_view_count": null,
      "_view_module": "@jupyter-widgets/controls",
      "_view_module_version": "1.5.0",
      "_view_name": "HTMLView",
      "description": "",
      "description_tooltip": null,
      "layout": "IPY_MODEL_c3a650c6a5784386ae081e79d4ef09d5",
      "placeholder": "​",
      "style": "IPY_MODEL_30c65adb4a134013b0c5c6e48a7aea17",
      "value": "100%"
     }
    },
    "ba15e2db25df4d5a8781c5d5b5b82a4c": {
     "model_module": "@jupyter-widgets/base",
     "model_module_version": "1.2.0",
     "model_name": "LayoutModel",
     "state": {
      "_model_module": "@jupyter-widgets/base",
      "_model_module_version": "1.2.0",
      "_model_name": "LayoutModel",
      "_view_count": null,
      "_view_module": "@jupyter-widgets/base",
      "_view_module_version": "1.2.0",
      "_view_name": "LayoutView",
      "align_content": null,
      "align_items": null,
      "align_self": null,
      "border": null,
      "bottom": null,
      "display": null,
      "flex": null,
      "flex_flow": null,
      "grid_area": null,
      "grid_auto_columns": null,
      "grid_auto_flow": null,
      "grid_auto_rows": null,
      "grid_column": null,
      "grid_gap": null,
      "grid_row": null,
      "grid_template_areas": null,
      "grid_template_columns": null,
      "grid_template_rows": null,
      "height": null,
      "justify_content": null,
      "justify_items": null,
      "left": null,
      "margin": null,
      "max_height": null,
      "max_width": null,
      "min_height": null,
      "min_width": null,
      "object_fit": null,
      "object_position": null,
      "order": null,
      "overflow": null,
      "overflow_x": null,
      "overflow_y": null,
      "padding": null,
      "right": null,
      "top": null,
      "visibility": null,
      "width": null
     }
    },
    "bb5e815eba234dc5a58aa1eb5e6d00c2": {
     "model_module": "@jupyter-widgets/controls",
     "model_module_version": "1.5.0",
     "model_name": "HBoxModel",
     "state": {
      "_dom_classes": [],
      "_model_module": "@jupyter-widgets/controls",
      "_model_module_version": "1.5.0",
      "_model_name": "HBoxModel",
      "_view_count": null,
      "_view_module": "@jupyter-widgets/controls",
      "_view_module_version": "1.5.0",
      "_view_name": "HBoxView",
      "box_style": "",
      "children": [
       "IPY_MODEL_99459ca69b10480e81f2c2e5e412a082",
       "IPY_MODEL_089436967ed249f191f1cc9fb7a0655f",
       "IPY_MODEL_eb2911541cf54b58ad607cbfc944b1bc"
      ],
      "layout": "IPY_MODEL_df0d9c4cd5e84f31a9910f71f5c2f513"
     }
    },
    "bc92166e2dd840789e9ea84872638cd0": {
     "model_module": "@jupyter-widgets/controls",
     "model_module_version": "1.5.0",
     "model_name": "FloatProgressModel",
     "state": {
      "_dom_classes": [],
      "_model_module": "@jupyter-widgets/controls",
      "_model_module_version": "1.5.0",
      "_model_name": "FloatProgressModel",
      "_view_count": null,
      "_view_module": "@jupyter-widgets/controls",
      "_view_module_version": "1.5.0",
      "_view_name": "ProgressView",
      "bar_style": "success",
      "description": "",
      "description_tooltip": null,
      "layout": "IPY_MODEL_5f8ab9b485054103ab562bca7990c615",
      "max": 11,
      "min": 0,
      "orientation": "horizontal",
      "style": "IPY_MODEL_9091b720fe924846a37b234816703041",
      "value": 11
     }
    },
    "bdf3a98a7731445e941b8f89cbd3ab4d": {
     "model_module": "@jupyter-widgets/controls",
     "model_module_version": "1.5.0",
     "model_name": "DescriptionStyleModel",
     "state": {
      "_model_module": "@jupyter-widgets/controls",
      "_model_module_version": "1.5.0",
      "_model_name": "DescriptionStyleModel",
      "_view_count": null,
      "_view_module": "@jupyter-widgets/base",
      "_view_module_version": "1.2.0",
      "_view_name": "StyleView",
      "description_width": ""
     }
    },
    "c3a650c6a5784386ae081e79d4ef09d5": {
     "model_module": "@jupyter-widgets/base",
     "model_module_version": "1.2.0",
     "model_name": "LayoutModel",
     "state": {
      "_model_module": "@jupyter-widgets/base",
      "_model_module_version": "1.2.0",
      "_model_name": "LayoutModel",
      "_view_count": null,
      "_view_module": "@jupyter-widgets/base",
      "_view_module_version": "1.2.0",
      "_view_name": "LayoutView",
      "align_content": null,
      "align_items": null,
      "align_self": null,
      "border": null,
      "bottom": null,
      "display": null,
      "flex": null,
      "flex_flow": null,
      "grid_area": null,
      "grid_auto_columns": null,
      "grid_auto_flow": null,
      "grid_auto_rows": null,
      "grid_column": null,
      "grid_gap": null,
      "grid_row": null,
      "grid_template_areas": null,
      "grid_template_columns": null,
      "grid_template_rows": null,
      "height": null,
      "justify_content": null,
      "justify_items": null,
      "left": null,
      "margin": null,
      "max_height": null,
      "max_width": null,
      "min_height": null,
      "min_width": null,
      "object_fit": null,
      "object_position": null,
      "order": null,
      "overflow": null,
      "overflow_x": null,
      "overflow_y": null,
      "padding": null,
      "right": null,
      "top": null,
      "visibility": null,
      "width": null
     }
    },
    "d2fd2048e3d4468696b1ca53bd207715": {
     "model_module": "@jupyter-widgets/base",
     "model_module_version": "1.2.0",
     "model_name": "LayoutModel",
     "state": {
      "_model_module": "@jupyter-widgets/base",
      "_model_module_version": "1.2.0",
      "_model_name": "LayoutModel",
      "_view_count": null,
      "_view_module": "@jupyter-widgets/base",
      "_view_module_version": "1.2.0",
      "_view_name": "LayoutView",
      "align_content": null,
      "align_items": null,
      "align_self": null,
      "border": null,
      "bottom": null,
      "display": null,
      "flex": null,
      "flex_flow": null,
      "grid_area": null,
      "grid_auto_columns": null,
      "grid_auto_flow": null,
      "grid_auto_rows": null,
      "grid_column": null,
      "grid_gap": null,
      "grid_row": null,
      "grid_template_areas": null,
      "grid_template_columns": null,
      "grid_template_rows": null,
      "height": null,
      "justify_content": null,
      "justify_items": null,
      "left": null,
      "margin": null,
      "max_height": null,
      "max_width": null,
      "min_height": null,
      "min_width": null,
      "object_fit": null,
      "object_position": null,
      "order": null,
      "overflow": null,
      "overflow_x": null,
      "overflow_y": null,
      "padding": null,
      "right": null,
      "top": null,
      "visibility": null,
      "width": null
     }
    },
    "dd7d40b46fec46f796a2aae674f6cb3a": {
     "model_module": "@jupyter-widgets/controls",
     "model_module_version": "1.5.0",
     "model_name": "HTMLModel",
     "state": {
      "_dom_classes": [],
      "_model_module": "@jupyter-widgets/controls",
      "_model_module_version": "1.5.0",
      "_model_name": "HTMLModel",
      "_view_count": null,
      "_view_module": "@jupyter-widgets/controls",
      "_view_module_version": "1.5.0",
      "_view_name": "HTMLView",
      "description": "",
      "description_tooltip": null,
      "layout": "IPY_MODEL_ba15e2db25df4d5a8781c5d5b5b82a4c",
      "placeholder": "​",
      "style": "IPY_MODEL_7fe87cc1f7844c5c8342c16003bf3286",
      "value": " 11/11 [00:03&lt;00:00,  3.29it/s]"
     }
    },
    "df0d9c4cd5e84f31a9910f71f5c2f513": {
     "model_module": "@jupyter-widgets/base",
     "model_module_version": "1.2.0",
     "model_name": "LayoutModel",
     "state": {
      "_model_module": "@jupyter-widgets/base",
      "_model_module_version": "1.2.0",
      "_model_name": "LayoutModel",
      "_view_count": null,
      "_view_module": "@jupyter-widgets/base",
      "_view_module_version": "1.2.0",
      "_view_name": "LayoutView",
      "align_content": null,
      "align_items": null,
      "align_self": null,
      "border": null,
      "bottom": null,
      "display": null,
      "flex": null,
      "flex_flow": null,
      "grid_area": null,
      "grid_auto_columns": null,
      "grid_auto_flow": null,
      "grid_auto_rows": null,
      "grid_column": null,
      "grid_gap": null,
      "grid_row": null,
      "grid_template_areas": null,
      "grid_template_columns": null,
      "grid_template_rows": null,
      "height": null,
      "justify_content": null,
      "justify_items": null,
      "left": null,
      "margin": null,
      "max_height": null,
      "max_width": null,
      "min_height": null,
      "min_width": null,
      "object_fit": null,
      "object_position": null,
      "order": null,
      "overflow": null,
      "overflow_x": null,
      "overflow_y": null,
      "padding": null,
      "right": null,
      "top": null,
      "visibility": null,
      "width": null
     }
    },
    "e408b28a8fc342b48233257ad9561aac": {
     "model_module": "@jupyter-widgets/controls",
     "model_module_version": "1.5.0",
     "model_name": "DescriptionStyleModel",
     "state": {
      "_model_module": "@jupyter-widgets/controls",
      "_model_module_version": "1.5.0",
      "_model_name": "DescriptionStyleModel",
      "_view_count": null,
      "_view_module": "@jupyter-widgets/base",
      "_view_module_version": "1.2.0",
      "_view_name": "StyleView",
      "description_width": ""
     }
    },
    "eb2911541cf54b58ad607cbfc944b1bc": {
     "model_module": "@jupyter-widgets/controls",
     "model_module_version": "1.5.0",
     "model_name": "HTMLModel",
     "state": {
      "_dom_classes": [],
      "_model_module": "@jupyter-widgets/controls",
      "_model_module_version": "1.5.0",
      "_model_name": "HTMLModel",
      "_view_count": null,
      "_view_module": "@jupyter-widgets/controls",
      "_view_module_version": "1.5.0",
      "_view_name": "HTMLView",
      "description": "",
      "description_tooltip": null,
      "layout": "IPY_MODEL_fded9dc97572499ba2e59120b1735ed4",
      "placeholder": "​",
      "style": "IPY_MODEL_039445bc6abc40828470c44917c316f4",
      "value": " 1/10 [03:51&lt;34:39, 231.01s/it]"
     }
    },
    "f580a4c1c39a4fdbb0b910fc26b91986": {
     "model_module": "@jupyter-widgets/base",
     "model_module_version": "1.2.0",
     "model_name": "LayoutModel",
     "state": {
      "_model_module": "@jupyter-widgets/base",
      "_model_module_version": "1.2.0",
      "_model_name": "LayoutModel",
      "_view_count": null,
      "_view_module": "@jupyter-widgets/base",
      "_view_module_version": "1.2.0",
      "_view_name": "LayoutView",
      "align_content": null,
      "align_items": null,
      "align_self": null,
      "border": null,
      "bottom": null,
      "display": null,
      "flex": null,
      "flex_flow": null,
      "grid_area": null,
      "grid_auto_columns": null,
      "grid_auto_flow": null,
      "grid_auto_rows": null,
      "grid_column": null,
      "grid_gap": null,
      "grid_row": null,
      "grid_template_areas": null,
      "grid_template_columns": null,
      "grid_template_rows": null,
      "height": null,
      "justify_content": null,
      "justify_items": null,
      "left": null,
      "margin": null,
      "max_height": null,
      "max_width": null,
      "min_height": null,
      "min_width": null,
      "object_fit": null,
      "object_position": null,
      "order": null,
      "overflow": null,
      "overflow_x": null,
      "overflow_y": null,
      "padding": null,
      "right": null,
      "top": null,
      "visibility": null,
      "width": null
     }
    },
    "faadbca0e0c84c57bb8fdad55656e4a7": {
     "model_module": "@jupyter-widgets/controls",
     "model_module_version": "1.5.0",
     "model_name": "DescriptionStyleModel",
     "state": {
      "_model_module": "@jupyter-widgets/controls",
      "_model_module_version": "1.5.0",
      "_model_name": "DescriptionStyleModel",
      "_view_count": null,
      "_view_module": "@jupyter-widgets/base",
      "_view_module_version": "1.2.0",
      "_view_name": "StyleView",
      "description_width": ""
     }
    },
    "fded9dc97572499ba2e59120b1735ed4": {
     "model_module": "@jupyter-widgets/base",
     "model_module_version": "1.2.0",
     "model_name": "LayoutModel",
     "state": {
      "_model_module": "@jupyter-widgets/base",
      "_model_module_version": "1.2.0",
      "_model_name": "LayoutModel",
      "_view_count": null,
      "_view_module": "@jupyter-widgets/base",
      "_view_module_version": "1.2.0",
      "_view_name": "LayoutView",
      "align_content": null,
      "align_items": null,
      "align_self": null,
      "border": null,
      "bottom": null,
      "display": null,
      "flex": null,
      "flex_flow": null,
      "grid_area": null,
      "grid_auto_columns": null,
      "grid_auto_flow": null,
      "grid_auto_rows": null,
      "grid_column": null,
      "grid_gap": null,
      "grid_row": null,
      "grid_template_areas": null,
      "grid_template_columns": null,
      "grid_template_rows": null,
      "height": null,
      "justify_content": null,
      "justify_items": null,
      "left": null,
      "margin": null,
      "max_height": null,
      "max_width": null,
      "min_height": null,
      "min_width": null,
      "object_fit": null,
      "object_position": null,
      "order": null,
      "overflow": null,
      "overflow_x": null,
      "overflow_y": null,
      "padding": null,
      "right": null,
      "top": null,
      "visibility": null,
      "width": null
     }
    }
   }
  }
 },
 "nbformat": 4,
 "nbformat_minor": 4
}
